{
  "nbformat": 4,
  "nbformat_minor": 0,
  "metadata": {
    "colab": {
      "name": "ProyectoDS Parte III Bivanco Walter.ipynb",
      "provenance": [],
      "collapsed_sections": []
    },
    "kernelspec": {
      "name": "python3",
      "display_name": "Python 3"
    },
    "language_info": {
      "name": "python"
    }
  },
  "cells": [
    {
      "cell_type": "markdown",
      "source": [
        "# Desafio 5"
      ],
      "metadata": {
        "id": "91Ro-XjUxVBP"
      }
    },
    {
      "cell_type": "markdown",
      "source": [
        "## Dataset: Contagiados COVID 19 - Temática: Salud "
      ],
      "metadata": {
        "id": "GRhRjhnBxafQ"
      }
    },
    {
      "cell_type": "markdown",
      "source": [
        "#### Objetivo\n",
        "Con los datos históricos que se posee acerca de los contagiados en la República Argentina, ¿hay indicios que demuestren que hay alguna correlación entre alguna de las variables y el fallecimiento de un contagiado?\n",
        "\n",
        "#### Contexto del negocio\n",
        "El año 2019 comenzaron los contagios de COVID-19, al momento que la misma se convirtió en un pandemia paso a ser un tema de suma importancia para los paises, apartir de ese instante se comenzó a llevar registro de los contagios, en el caso particular de la Argentina, toda esa información fue administrada por el gobierno nacional atraves de un sistema de carga de esa data. Dichos datos fueron disponibilizados para que el público en general pueda acceder y descargar los mismos.\n",
        "\n",
        "#### Problema del negocio\n",
        "A la información recavada por parte del gobierno nacional se la pretende poder utilizar para poder llevar a cabo la toma de decisiones estratégicas.\n",
        "\n",
        "#### Contexto analítico\n",
        "El dataset que es utilizado en el notebook tiene como temática la salud, el mismo fué descargado de https://www.datos.gob.ar que es el sitio oficial del gobierno de la República Argentina. Dentro del sitio luego de un análisis se decidio descargar la información de los contagiados de la Republica Argentina. Es un único archivo en formato CSV."
      ],
      "metadata": {
        "id": "Lq0DHICrxm26"
      }
    },
    {
      "cell_type": "markdown",
      "source": [
        "##### i) Abstract:\n",
        "El dataset almacena el listado de los contagiados de COVID-19 en la República Argentina desde el 01/03/2020 hasta el 04/06/2022, dicho dataset tiene una cantidad de 105.916.221 registros de los cuales seleccione los primeros 100.000 registros por lo tanto hay variables como las fechas que solo muestran un periodo muy corto.\n",
        "\n",
        "El dataset lleva el registro de los contagios de COVID-19 que se produjeron en Argentina, dentro de información de maneja se puede mencionar que posee 17 campos entre los que se destacan los siguientes:\n",
        "\n",
        "- id_evento_caso = es el número de caso, debido a que solo trabajamos con una parte de datasets, no será información muy útil.\n",
        "- sexo\n",
        "- edad\n",
        "- residencia_provincia_nombre = es la provincia de residencia de la persona, aquí hay que aclarar que Buenos Aires y CABA pertenecen a la misma provincia que es Buenos Aires, pero hacen la diferencia entre interior(Buenos Aires) y capital(CABA).\n",
        "- origen_financiamiento = indica si el análisis clínico fue realizado en la parte pública o privada.\n",
        "- residencia_departemento_nombre = me indica el departamento de residencia de la persona cargado; este es un campo que no se tiene mucho en cuenta por que tiene mucha información sucia, como datos sin especificar, valores ficticios, etc.\n",
        "- Hay casos de datos de tipos fecha que tienen muchos registros no cargados, como fecha_inicio_sintomas o fecha de fallecimiento, en este último caso evidencian que son para las personas que no han fallecido por causas del COVID-19.\n",
        "\n"
      ],
      "metadata": {
        "id": "124eXf0fxxOh"
      }
    },
    {
      "cell_type": "markdown",
      "source": [
        "\n",
        "\n",
        "##### ii) Pregunta / Hipótesis\n",
        "* Hay más mujeres que hombres que se contagiaron de covid en el periodo seleccionado.\n",
        "\n",
        "* Se desea saber cómo es la proporción de contagios con respecto a las provincias."
      ],
      "metadata": {
        "id": "NVgNNlcQU3Dk"
      }
    },
    {
      "cell_type": "markdown",
      "source": [
        "##### iii) EDA"
      ],
      "metadata": {
        "id": "cF5z7LIlx17w"
      }
    },
    {
      "cell_type": "code",
      "source": [
        "import pandas as pd\n",
        "\n",
        "# Librerías gráficas\n",
        "import matplotlib as mpl\n",
        "import matplotlib.pyplot as plt\n",
        "import seaborn as sns"
      ],
      "metadata": {
        "id": "SqhvEKqwVLw-"
      },
      "execution_count": null,
      "outputs": []
    },
    {
      "cell_type": "code",
      "source": [
        "url = 'https://docs.google.com/spreadsheets/d/1Y1XbymFFNfLCdTjDT64oIMVw1YE4x5TdlzK2eyCWoDM/export?format=csv&gid=1022416023'\n",
        "\n",
        "df = pd.read_csv(url)\n",
        "\n",
        "df.head()"
      ],
      "metadata": {
        "colab": {
          "base_uri": "https://localhost:8080/",
          "height": 300
        },
        "id": "gT2zMWQex3b3",
        "outputId": "58b7d117-058f-465e-ce23-3a93e174be74"
      },
      "execution_count": null,
      "outputs": [
        {
          "output_type": "execute_result",
          "data": {
            "text/plain": [
              "   id_evento_caso sexo  edad edad_años_meses residencia_pais_nombre  \\\n",
              "0         1000000    M  55.0            Años              Argentina   \n",
              "1        10000000    F  53.0            Años              Argentina   \n",
              "2        10000001    F  23.0            Años              Argentina   \n",
              "3        10000002    F  45.0            Años              Argentina   \n",
              "4        10000003    F  34.0            Años              Argentina   \n",
              "\n",
              "  residencia_provincia_nombre residencia_departamento_nombre  \\\n",
              "0                        CABA                SIN ESPECIFICAR   \n",
              "1                        CABA                SIN ESPECIFICAR   \n",
              "2                Buenos Aires                Lomas de Zamora   \n",
              "3                Buenos Aires                     La Matanza   \n",
              "4                        CABA                      COMUNA 01   \n",
              "\n",
              "  carga_provincia_nombre fecha_inicio_sintomas fecha_apertura  ...  \\\n",
              "0           Buenos Aires                   NaN     2020-06-01  ...   \n",
              "1                   CABA                   NaN     2021-04-08  ...   \n",
              "2           Buenos Aires            2021-04-05     2021-04-08  ...   \n",
              "3                   CABA                   NaN     2021-04-08  ...   \n",
              "4                   CABA                   NaN     2021-04-08  ...   \n",
              "\n",
              "   fecha_fallecimiento asistencia_respiratoria_mecanica carga_provincia_id  \\\n",
              "0                  NaN                               NO                  6   \n",
              "1                  NaN                               NO                  2   \n",
              "2                  NaN                               NO                  6   \n",
              "3                  NaN                               NO                  2   \n",
              "4                  NaN                               NO                  2   \n",
              "\n",
              "  origen_financiamiento    clasificacion clasificacion_resumen  \\\n",
              "0               Privado  Caso Descartado            Descartado   \n",
              "1               Público  Caso Descartado            Descartado   \n",
              "2               Público  Caso Descartado            Descartado   \n",
              "3               Público  Caso Descartado            Descartado   \n",
              "4               Público  Caso Descartado            Descartado   \n",
              "\n",
              "  residencia_provincia_id  fecha_diagnostico residencia_departamento_id  \\\n",
              "0                       2         2020-06-09                          0   \n",
              "1                       2         2021-04-08                          0   \n",
              "2                       6         2021-04-08                        490   \n",
              "3                       6         2021-04-06                        427   \n",
              "4                       2         2021-04-08                          1   \n",
              "\n",
              "  ultima_actualizacion  \n",
              "0           2022-06-05  \n",
              "1           2022-06-05  \n",
              "2           2022-06-05  \n",
              "3           2022-06-05  \n",
              "4           2022-06-05  \n",
              "\n",
              "[5 rows x 25 columns]"
            ],
            "text/html": [
              "\n",
              "  <div id=\"df-243522b0-8e69-4d3a-a9d8-3ecc9a3e1998\">\n",
              "    <div class=\"colab-df-container\">\n",
              "      <div>\n",
              "<style scoped>\n",
              "    .dataframe tbody tr th:only-of-type {\n",
              "        vertical-align: middle;\n",
              "    }\n",
              "\n",
              "    .dataframe tbody tr th {\n",
              "        vertical-align: top;\n",
              "    }\n",
              "\n",
              "    .dataframe thead th {\n",
              "        text-align: right;\n",
              "    }\n",
              "</style>\n",
              "<table border=\"1\" class=\"dataframe\">\n",
              "  <thead>\n",
              "    <tr style=\"text-align: right;\">\n",
              "      <th></th>\n",
              "      <th>id_evento_caso</th>\n",
              "      <th>sexo</th>\n",
              "      <th>edad</th>\n",
              "      <th>edad_años_meses</th>\n",
              "      <th>residencia_pais_nombre</th>\n",
              "      <th>residencia_provincia_nombre</th>\n",
              "      <th>residencia_departamento_nombre</th>\n",
              "      <th>carga_provincia_nombre</th>\n",
              "      <th>fecha_inicio_sintomas</th>\n",
              "      <th>fecha_apertura</th>\n",
              "      <th>...</th>\n",
              "      <th>fecha_fallecimiento</th>\n",
              "      <th>asistencia_respiratoria_mecanica</th>\n",
              "      <th>carga_provincia_id</th>\n",
              "      <th>origen_financiamiento</th>\n",
              "      <th>clasificacion</th>\n",
              "      <th>clasificacion_resumen</th>\n",
              "      <th>residencia_provincia_id</th>\n",
              "      <th>fecha_diagnostico</th>\n",
              "      <th>residencia_departamento_id</th>\n",
              "      <th>ultima_actualizacion</th>\n",
              "    </tr>\n",
              "  </thead>\n",
              "  <tbody>\n",
              "    <tr>\n",
              "      <th>0</th>\n",
              "      <td>1000000</td>\n",
              "      <td>M</td>\n",
              "      <td>55.0</td>\n",
              "      <td>Años</td>\n",
              "      <td>Argentina</td>\n",
              "      <td>CABA</td>\n",
              "      <td>SIN ESPECIFICAR</td>\n",
              "      <td>Buenos Aires</td>\n",
              "      <td>NaN</td>\n",
              "      <td>2020-06-01</td>\n",
              "      <td>...</td>\n",
              "      <td>NaN</td>\n",
              "      <td>NO</td>\n",
              "      <td>6</td>\n",
              "      <td>Privado</td>\n",
              "      <td>Caso Descartado</td>\n",
              "      <td>Descartado</td>\n",
              "      <td>2</td>\n",
              "      <td>2020-06-09</td>\n",
              "      <td>0</td>\n",
              "      <td>2022-06-05</td>\n",
              "    </tr>\n",
              "    <tr>\n",
              "      <th>1</th>\n",
              "      <td>10000000</td>\n",
              "      <td>F</td>\n",
              "      <td>53.0</td>\n",
              "      <td>Años</td>\n",
              "      <td>Argentina</td>\n",
              "      <td>CABA</td>\n",
              "      <td>SIN ESPECIFICAR</td>\n",
              "      <td>CABA</td>\n",
              "      <td>NaN</td>\n",
              "      <td>2021-04-08</td>\n",
              "      <td>...</td>\n",
              "      <td>NaN</td>\n",
              "      <td>NO</td>\n",
              "      <td>2</td>\n",
              "      <td>Público</td>\n",
              "      <td>Caso Descartado</td>\n",
              "      <td>Descartado</td>\n",
              "      <td>2</td>\n",
              "      <td>2021-04-08</td>\n",
              "      <td>0</td>\n",
              "      <td>2022-06-05</td>\n",
              "    </tr>\n",
              "    <tr>\n",
              "      <th>2</th>\n",
              "      <td>10000001</td>\n",
              "      <td>F</td>\n",
              "      <td>23.0</td>\n",
              "      <td>Años</td>\n",
              "      <td>Argentina</td>\n",
              "      <td>Buenos Aires</td>\n",
              "      <td>Lomas de Zamora</td>\n",
              "      <td>Buenos Aires</td>\n",
              "      <td>2021-04-05</td>\n",
              "      <td>2021-04-08</td>\n",
              "      <td>...</td>\n",
              "      <td>NaN</td>\n",
              "      <td>NO</td>\n",
              "      <td>6</td>\n",
              "      <td>Público</td>\n",
              "      <td>Caso Descartado</td>\n",
              "      <td>Descartado</td>\n",
              "      <td>6</td>\n",
              "      <td>2021-04-08</td>\n",
              "      <td>490</td>\n",
              "      <td>2022-06-05</td>\n",
              "    </tr>\n",
              "    <tr>\n",
              "      <th>3</th>\n",
              "      <td>10000002</td>\n",
              "      <td>F</td>\n",
              "      <td>45.0</td>\n",
              "      <td>Años</td>\n",
              "      <td>Argentina</td>\n",
              "      <td>Buenos Aires</td>\n",
              "      <td>La Matanza</td>\n",
              "      <td>CABA</td>\n",
              "      <td>NaN</td>\n",
              "      <td>2021-04-08</td>\n",
              "      <td>...</td>\n",
              "      <td>NaN</td>\n",
              "      <td>NO</td>\n",
              "      <td>2</td>\n",
              "      <td>Público</td>\n",
              "      <td>Caso Descartado</td>\n",
              "      <td>Descartado</td>\n",
              "      <td>6</td>\n",
              "      <td>2021-04-06</td>\n",
              "      <td>427</td>\n",
              "      <td>2022-06-05</td>\n",
              "    </tr>\n",
              "    <tr>\n",
              "      <th>4</th>\n",
              "      <td>10000003</td>\n",
              "      <td>F</td>\n",
              "      <td>34.0</td>\n",
              "      <td>Años</td>\n",
              "      <td>Argentina</td>\n",
              "      <td>CABA</td>\n",
              "      <td>COMUNA 01</td>\n",
              "      <td>CABA</td>\n",
              "      <td>NaN</td>\n",
              "      <td>2021-04-08</td>\n",
              "      <td>...</td>\n",
              "      <td>NaN</td>\n",
              "      <td>NO</td>\n",
              "      <td>2</td>\n",
              "      <td>Público</td>\n",
              "      <td>Caso Descartado</td>\n",
              "      <td>Descartado</td>\n",
              "      <td>2</td>\n",
              "      <td>2021-04-08</td>\n",
              "      <td>1</td>\n",
              "      <td>2022-06-05</td>\n",
              "    </tr>\n",
              "  </tbody>\n",
              "</table>\n",
              "<p>5 rows × 25 columns</p>\n",
              "</div>\n",
              "      <button class=\"colab-df-convert\" onclick=\"convertToInteractive('df-243522b0-8e69-4d3a-a9d8-3ecc9a3e1998')\"\n",
              "              title=\"Convert this dataframe to an interactive table.\"\n",
              "              style=\"display:none;\">\n",
              "        \n",
              "  <svg xmlns=\"http://www.w3.org/2000/svg\" height=\"24px\"viewBox=\"0 0 24 24\"\n",
              "       width=\"24px\">\n",
              "    <path d=\"M0 0h24v24H0V0z\" fill=\"none\"/>\n",
              "    <path d=\"M18.56 5.44l.94 2.06.94-2.06 2.06-.94-2.06-.94-.94-2.06-.94 2.06-2.06.94zm-11 1L8.5 8.5l.94-2.06 2.06-.94-2.06-.94L8.5 2.5l-.94 2.06-2.06.94zm10 10l.94 2.06.94-2.06 2.06-.94-2.06-.94-.94-2.06-.94 2.06-2.06.94z\"/><path d=\"M17.41 7.96l-1.37-1.37c-.4-.4-.92-.59-1.43-.59-.52 0-1.04.2-1.43.59L10.3 9.45l-7.72 7.72c-.78.78-.78 2.05 0 2.83L4 21.41c.39.39.9.59 1.41.59.51 0 1.02-.2 1.41-.59l7.78-7.78 2.81-2.81c.8-.78.8-2.07 0-2.86zM5.41 20L4 18.59l7.72-7.72 1.47 1.35L5.41 20z\"/>\n",
              "  </svg>\n",
              "      </button>\n",
              "      \n",
              "  <style>\n",
              "    .colab-df-container {\n",
              "      display:flex;\n",
              "      flex-wrap:wrap;\n",
              "      gap: 12px;\n",
              "    }\n",
              "\n",
              "    .colab-df-convert {\n",
              "      background-color: #E8F0FE;\n",
              "      border: none;\n",
              "      border-radius: 50%;\n",
              "      cursor: pointer;\n",
              "      display: none;\n",
              "      fill: #1967D2;\n",
              "      height: 32px;\n",
              "      padding: 0 0 0 0;\n",
              "      width: 32px;\n",
              "    }\n",
              "\n",
              "    .colab-df-convert:hover {\n",
              "      background-color: #E2EBFA;\n",
              "      box-shadow: 0px 1px 2px rgba(60, 64, 67, 0.3), 0px 1px 3px 1px rgba(60, 64, 67, 0.15);\n",
              "      fill: #174EA6;\n",
              "    }\n",
              "\n",
              "    [theme=dark] .colab-df-convert {\n",
              "      background-color: #3B4455;\n",
              "      fill: #D2E3FC;\n",
              "    }\n",
              "\n",
              "    [theme=dark] .colab-df-convert:hover {\n",
              "      background-color: #434B5C;\n",
              "      box-shadow: 0px 1px 3px 1px rgba(0, 0, 0, 0.15);\n",
              "      filter: drop-shadow(0px 1px 2px rgba(0, 0, 0, 0.3));\n",
              "      fill: #FFFFFF;\n",
              "    }\n",
              "  </style>\n",
              "\n",
              "      <script>\n",
              "        const buttonEl =\n",
              "          document.querySelector('#df-243522b0-8e69-4d3a-a9d8-3ecc9a3e1998 button.colab-df-convert');\n",
              "        buttonEl.style.display =\n",
              "          google.colab.kernel.accessAllowed ? 'block' : 'none';\n",
              "\n",
              "        async function convertToInteractive(key) {\n",
              "          const element = document.querySelector('#df-243522b0-8e69-4d3a-a9d8-3ecc9a3e1998');\n",
              "          const dataTable =\n",
              "            await google.colab.kernel.invokeFunction('convertToInteractive',\n",
              "                                                     [key], {});\n",
              "          if (!dataTable) return;\n",
              "\n",
              "          const docLinkHtml = 'Like what you see? Visit the ' +\n",
              "            '<a target=\"_blank\" href=https://colab.research.google.com/notebooks/data_table.ipynb>data table notebook</a>'\n",
              "            + ' to learn more about interactive tables.';\n",
              "          element.innerHTML = '';\n",
              "          dataTable['output_type'] = 'display_data';\n",
              "          await google.colab.output.renderOutput(dataTable, element);\n",
              "          const docLink = document.createElement('div');\n",
              "          docLink.innerHTML = docLinkHtml;\n",
              "          element.appendChild(docLink);\n",
              "        }\n",
              "      </script>\n",
              "    </div>\n",
              "  </div>\n",
              "  "
            ]
          },
          "metadata": {},
          "execution_count": 2
        }
      ]
    },
    {
      "cell_type": "code",
      "source": [
        "df.shape"
      ],
      "metadata": {
        "id": "aWX4bofY2fu3",
        "colab": {
          "base_uri": "https://localhost:8080/"
        },
        "outputId": "8234ec3d-7eff-416c-e61d-4fe577e2003b"
      },
      "execution_count": null,
      "outputs": [
        {
          "output_type": "execute_result",
          "data": {
            "text/plain": [
              "(100000, 25)"
            ]
          },
          "metadata": {},
          "execution_count": 3
        }
      ]
    },
    {
      "cell_type": "code",
      "source": [
        "df.columns"
      ],
      "metadata": {
        "id": "N8S6pwib2gtH",
        "colab": {
          "base_uri": "https://localhost:8080/"
        },
        "outputId": "0c659122-28f4-4848-a233-c6c79e5f6dd0"
      },
      "execution_count": null,
      "outputs": [
        {
          "output_type": "execute_result",
          "data": {
            "text/plain": [
              "Index(['id_evento_caso', 'sexo', 'edad', 'edad_años_meses',\n",
              "       'residencia_pais_nombre', 'residencia_provincia_nombre',\n",
              "       'residencia_departamento_nombre', 'carga_provincia_nombre',\n",
              "       'fecha_inicio_sintomas', 'fecha_apertura', 'sepi_apertura',\n",
              "       'fecha_internacion', 'cuidado_intensivo', 'fecha_cui_intensivo',\n",
              "       'fallecido', 'fecha_fallecimiento', 'asistencia_respiratoria_mecanica',\n",
              "       'carga_provincia_id', 'origen_financiamiento', 'clasificacion',\n",
              "       'clasificacion_resumen', 'residencia_provincia_id', 'fecha_diagnostico',\n",
              "       'residencia_departamento_id', 'ultima_actualizacion'],\n",
              "      dtype='object')"
            ]
          },
          "metadata": {},
          "execution_count": 4
        }
      ]
    },
    {
      "cell_type": "code",
      "source": [
        "df.info()"
      ],
      "metadata": {
        "id": "ZQ5GLXaL2k6J",
        "colab": {
          "base_uri": "https://localhost:8080/"
        },
        "outputId": "e1b1789c-d979-44b2-ad30-07e8862d9f52"
      },
      "execution_count": null,
      "outputs": [
        {
          "output_type": "stream",
          "name": "stdout",
          "text": [
            "<class 'pandas.core.frame.DataFrame'>\n",
            "RangeIndex: 100000 entries, 0 to 99999\n",
            "Data columns (total 25 columns):\n",
            " #   Column                            Non-Null Count   Dtype  \n",
            "---  ------                            --------------   -----  \n",
            " 0   id_evento_caso                    100000 non-null  int64  \n",
            " 1   sexo                              100000 non-null  object \n",
            " 2   edad                              99970 non-null   float64\n",
            " 3   edad_años_meses                   100000 non-null  object \n",
            " 4   residencia_pais_nombre            100000 non-null  object \n",
            " 5   residencia_provincia_nombre       100000 non-null  object \n",
            " 6   residencia_departamento_nombre    100000 non-null  object \n",
            " 7   carga_provincia_nombre            100000 non-null  object \n",
            " 8   fecha_inicio_sintomas             36418 non-null   object \n",
            " 9   fecha_apertura                    100000 non-null  object \n",
            " 10  sepi_apertura                     100000 non-null  int64  \n",
            " 11  fecha_internacion                 2658 non-null    object \n",
            " 12  cuidado_intensivo                 100000 non-null  object \n",
            " 13  fecha_cui_intensivo               514 non-null     object \n",
            " 14  fallecido                         100000 non-null  object \n",
            " 15  fecha_fallecimiento               630 non-null     object \n",
            " 16  asistencia_respiratoria_mecanica  100000 non-null  object \n",
            " 17  carga_provincia_id                100000 non-null  int64  \n",
            " 18  origen_financiamiento             100000 non-null  object \n",
            " 19  clasificacion                     100000 non-null  object \n",
            " 20  clasificacion_resumen             100000 non-null  object \n",
            " 21  residencia_provincia_id           100000 non-null  int64  \n",
            " 22  fecha_diagnostico                 93689 non-null   object \n",
            " 23  residencia_departamento_id        100000 non-null  int64  \n",
            " 24  ultima_actualizacion              100000 non-null  object \n",
            "dtypes: float64(1), int64(5), object(19)\n",
            "memory usage: 19.1+ MB\n"
          ]
        }
      ]
    },
    {
      "cell_type": "code",
      "source": [
        "df.describe()"
      ],
      "metadata": {
        "id": "Mn0ZjBR92nU4",
        "colab": {
          "base_uri": "https://localhost:8080/",
          "height": 300
        },
        "outputId": "7f3504dc-6ff3-471b-db76-fa56c35244ee"
      },
      "execution_count": null,
      "outputs": [
        {
          "output_type": "execute_result",
          "data": {
            "text/plain": [
              "       id_evento_caso          edad  sepi_apertura  carga_provincia_id  \\\n",
              "count    1.000000e+05  99970.000000  100000.000000       100000.000000   \n",
              "mean     9.375346e+06     38.579594      14.669870           22.348080   \n",
              "std      2.373808e+06     17.447920       2.362236           28.592709   \n",
              "min      1.000000e+06      1.000000      14.000000            2.000000   \n",
              "25%      1.001848e+07     26.000000      14.000000            2.000000   \n",
              "50%      1.004438e+07     37.000000      14.000000            6.000000   \n",
              "75%      1.007070e+07     50.000000      14.000000           30.000000   \n",
              "max      1.009716e+07    222.000000      23.000000           94.000000   \n",
              "\n",
              "       residencia_provincia_id  residencia_departamento_id  \n",
              "count            100000.000000                100000.00000  \n",
              "mean                 23.366560                   204.02063  \n",
              "std                  28.796844                   253.71888  \n",
              "min                   2.000000                     0.00000  \n",
              "25%                   6.000000                    14.00000  \n",
              "50%                   6.000000                    84.00000  \n",
              "75%                  34.000000                   410.00000  \n",
              "max                  99.000000                   882.00000  "
            ],
            "text/html": [
              "\n",
              "  <div id=\"df-36f7f4e1-32d6-4e6e-b6a6-b3cd41075ded\">\n",
              "    <div class=\"colab-df-container\">\n",
              "      <div>\n",
              "<style scoped>\n",
              "    .dataframe tbody tr th:only-of-type {\n",
              "        vertical-align: middle;\n",
              "    }\n",
              "\n",
              "    .dataframe tbody tr th {\n",
              "        vertical-align: top;\n",
              "    }\n",
              "\n",
              "    .dataframe thead th {\n",
              "        text-align: right;\n",
              "    }\n",
              "</style>\n",
              "<table border=\"1\" class=\"dataframe\">\n",
              "  <thead>\n",
              "    <tr style=\"text-align: right;\">\n",
              "      <th></th>\n",
              "      <th>id_evento_caso</th>\n",
              "      <th>edad</th>\n",
              "      <th>sepi_apertura</th>\n",
              "      <th>carga_provincia_id</th>\n",
              "      <th>residencia_provincia_id</th>\n",
              "      <th>residencia_departamento_id</th>\n",
              "    </tr>\n",
              "  </thead>\n",
              "  <tbody>\n",
              "    <tr>\n",
              "      <th>count</th>\n",
              "      <td>1.000000e+05</td>\n",
              "      <td>99970.000000</td>\n",
              "      <td>100000.000000</td>\n",
              "      <td>100000.000000</td>\n",
              "      <td>100000.000000</td>\n",
              "      <td>100000.00000</td>\n",
              "    </tr>\n",
              "    <tr>\n",
              "      <th>mean</th>\n",
              "      <td>9.375346e+06</td>\n",
              "      <td>38.579594</td>\n",
              "      <td>14.669870</td>\n",
              "      <td>22.348080</td>\n",
              "      <td>23.366560</td>\n",
              "      <td>204.02063</td>\n",
              "    </tr>\n",
              "    <tr>\n",
              "      <th>std</th>\n",
              "      <td>2.373808e+06</td>\n",
              "      <td>17.447920</td>\n",
              "      <td>2.362236</td>\n",
              "      <td>28.592709</td>\n",
              "      <td>28.796844</td>\n",
              "      <td>253.71888</td>\n",
              "    </tr>\n",
              "    <tr>\n",
              "      <th>min</th>\n",
              "      <td>1.000000e+06</td>\n",
              "      <td>1.000000</td>\n",
              "      <td>14.000000</td>\n",
              "      <td>2.000000</td>\n",
              "      <td>2.000000</td>\n",
              "      <td>0.00000</td>\n",
              "    </tr>\n",
              "    <tr>\n",
              "      <th>25%</th>\n",
              "      <td>1.001848e+07</td>\n",
              "      <td>26.000000</td>\n",
              "      <td>14.000000</td>\n",
              "      <td>2.000000</td>\n",
              "      <td>6.000000</td>\n",
              "      <td>14.00000</td>\n",
              "    </tr>\n",
              "    <tr>\n",
              "      <th>50%</th>\n",
              "      <td>1.004438e+07</td>\n",
              "      <td>37.000000</td>\n",
              "      <td>14.000000</td>\n",
              "      <td>6.000000</td>\n",
              "      <td>6.000000</td>\n",
              "      <td>84.00000</td>\n",
              "    </tr>\n",
              "    <tr>\n",
              "      <th>75%</th>\n",
              "      <td>1.007070e+07</td>\n",
              "      <td>50.000000</td>\n",
              "      <td>14.000000</td>\n",
              "      <td>30.000000</td>\n",
              "      <td>34.000000</td>\n",
              "      <td>410.00000</td>\n",
              "    </tr>\n",
              "    <tr>\n",
              "      <th>max</th>\n",
              "      <td>1.009716e+07</td>\n",
              "      <td>222.000000</td>\n",
              "      <td>23.000000</td>\n",
              "      <td>94.000000</td>\n",
              "      <td>99.000000</td>\n",
              "      <td>882.00000</td>\n",
              "    </tr>\n",
              "  </tbody>\n",
              "</table>\n",
              "</div>\n",
              "      <button class=\"colab-df-convert\" onclick=\"convertToInteractive('df-36f7f4e1-32d6-4e6e-b6a6-b3cd41075ded')\"\n",
              "              title=\"Convert this dataframe to an interactive table.\"\n",
              "              style=\"display:none;\">\n",
              "        \n",
              "  <svg xmlns=\"http://www.w3.org/2000/svg\" height=\"24px\"viewBox=\"0 0 24 24\"\n",
              "       width=\"24px\">\n",
              "    <path d=\"M0 0h24v24H0V0z\" fill=\"none\"/>\n",
              "    <path d=\"M18.56 5.44l.94 2.06.94-2.06 2.06-.94-2.06-.94-.94-2.06-.94 2.06-2.06.94zm-11 1L8.5 8.5l.94-2.06 2.06-.94-2.06-.94L8.5 2.5l-.94 2.06-2.06.94zm10 10l.94 2.06.94-2.06 2.06-.94-2.06-.94-.94-2.06-.94 2.06-2.06.94z\"/><path d=\"M17.41 7.96l-1.37-1.37c-.4-.4-.92-.59-1.43-.59-.52 0-1.04.2-1.43.59L10.3 9.45l-7.72 7.72c-.78.78-.78 2.05 0 2.83L4 21.41c.39.39.9.59 1.41.59.51 0 1.02-.2 1.41-.59l7.78-7.78 2.81-2.81c.8-.78.8-2.07 0-2.86zM5.41 20L4 18.59l7.72-7.72 1.47 1.35L5.41 20z\"/>\n",
              "  </svg>\n",
              "      </button>\n",
              "      \n",
              "  <style>\n",
              "    .colab-df-container {\n",
              "      display:flex;\n",
              "      flex-wrap:wrap;\n",
              "      gap: 12px;\n",
              "    }\n",
              "\n",
              "    .colab-df-convert {\n",
              "      background-color: #E8F0FE;\n",
              "      border: none;\n",
              "      border-radius: 50%;\n",
              "      cursor: pointer;\n",
              "      display: none;\n",
              "      fill: #1967D2;\n",
              "      height: 32px;\n",
              "      padding: 0 0 0 0;\n",
              "      width: 32px;\n",
              "    }\n",
              "\n",
              "    .colab-df-convert:hover {\n",
              "      background-color: #E2EBFA;\n",
              "      box-shadow: 0px 1px 2px rgba(60, 64, 67, 0.3), 0px 1px 3px 1px rgba(60, 64, 67, 0.15);\n",
              "      fill: #174EA6;\n",
              "    }\n",
              "\n",
              "    [theme=dark] .colab-df-convert {\n",
              "      background-color: #3B4455;\n",
              "      fill: #D2E3FC;\n",
              "    }\n",
              "\n",
              "    [theme=dark] .colab-df-convert:hover {\n",
              "      background-color: #434B5C;\n",
              "      box-shadow: 0px 1px 3px 1px rgba(0, 0, 0, 0.15);\n",
              "      filter: drop-shadow(0px 1px 2px rgba(0, 0, 0, 0.3));\n",
              "      fill: #FFFFFF;\n",
              "    }\n",
              "  </style>\n",
              "\n",
              "      <script>\n",
              "        const buttonEl =\n",
              "          document.querySelector('#df-36f7f4e1-32d6-4e6e-b6a6-b3cd41075ded button.colab-df-convert');\n",
              "        buttonEl.style.display =\n",
              "          google.colab.kernel.accessAllowed ? 'block' : 'none';\n",
              "\n",
              "        async function convertToInteractive(key) {\n",
              "          const element = document.querySelector('#df-36f7f4e1-32d6-4e6e-b6a6-b3cd41075ded');\n",
              "          const dataTable =\n",
              "            await google.colab.kernel.invokeFunction('convertToInteractive',\n",
              "                                                     [key], {});\n",
              "          if (!dataTable) return;\n",
              "\n",
              "          const docLinkHtml = 'Like what you see? Visit the ' +\n",
              "            '<a target=\"_blank\" href=https://colab.research.google.com/notebooks/data_table.ipynb>data table notebook</a>'\n",
              "            + ' to learn more about interactive tables.';\n",
              "          element.innerHTML = '';\n",
              "          dataTable['output_type'] = 'display_data';\n",
              "          await google.colab.output.renderOutput(dataTable, element);\n",
              "          const docLink = document.createElement('div');\n",
              "          docLink.innerHTML = docLinkHtml;\n",
              "          element.appendChild(docLink);\n",
              "        }\n",
              "      </script>\n",
              "    </div>\n",
              "  </div>\n",
              "  "
            ]
          },
          "metadata": {},
          "execution_count": 6
        }
      ]
    },
    {
      "cell_type": "markdown",
      "source": [
        "###### Proporción de contagios por sexo"
      ],
      "metadata": {
        "id": "UWdkvP0MWZjh"
      }
    },
    {
      "cell_type": "code",
      "source": [
        "discriminado_por_sexo = df.groupby(\"sexo\").count()\n",
        "\n",
        "discriminado_por_sexo"
      ],
      "metadata": {
        "id": "z6lrLjUU2pQT",
        "colab": {
          "base_uri": "https://localhost:8080/",
          "height": 268
        },
        "outputId": "d67e16c2-239f-47e7-d439-9f656dbe55f8"
      },
      "execution_count": null,
      "outputs": [
        {
          "output_type": "execute_result",
          "data": {
            "text/plain": [
              "      id_evento_caso   edad  edad_años_meses  residencia_pais_nombre  \\\n",
              "sexo                                                                   \n",
              "F              52663  52662            52663                   52663   \n",
              "M              46595  46591            46595                   46595   \n",
              "NR               742    717              742                     742   \n",
              "\n",
              "      residencia_provincia_nombre  residencia_departamento_nombre  \\\n",
              "sexo                                                                \n",
              "F                           52663                           52663   \n",
              "M                           46595                           46595   \n",
              "NR                            742                             742   \n",
              "\n",
              "      carga_provincia_nombre  fecha_inicio_sintomas  fecha_apertura  \\\n",
              "sexo                                                                  \n",
              "F                      52663                  19292           52663   \n",
              "M                      46595                  16701           46595   \n",
              "NR                       742                    425             742   \n",
              "\n",
              "      sepi_apertura  ...  fecha_fallecimiento  \\\n",
              "sexo                 ...                        \n",
              "F             52663  ...                  260   \n",
              "M             46595  ...                  363   \n",
              "NR              742  ...                    7   \n",
              "\n",
              "      asistencia_respiratoria_mecanica  carga_provincia_id  \\\n",
              "sexo                                                         \n",
              "F                                52663               52663   \n",
              "M                                46595               46595   \n",
              "NR                                 742                 742   \n",
              "\n",
              "      origen_financiamiento  clasificacion  clasificacion_resumen  \\\n",
              "sexo                                                                \n",
              "F                     52663          52663                  52663   \n",
              "M                     46595          46595                  46595   \n",
              "NR                      742            742                    742   \n",
              "\n",
              "      residencia_provincia_id  fecha_diagnostico  residencia_departamento_id  \\\n",
              "sexo                                                                           \n",
              "F                       52663              49292                       52663   \n",
              "M                       46595              43769                       46595   \n",
              "NR                        742                628                         742   \n",
              "\n",
              "      ultima_actualizacion  \n",
              "sexo                        \n",
              "F                    52663  \n",
              "M                    46595  \n",
              "NR                     742  \n",
              "\n",
              "[3 rows x 24 columns]"
            ],
            "text/html": [
              "\n",
              "  <div id=\"df-6476b1f3-a39b-44a0-b50f-46710098909d\">\n",
              "    <div class=\"colab-df-container\">\n",
              "      <div>\n",
              "<style scoped>\n",
              "    .dataframe tbody tr th:only-of-type {\n",
              "        vertical-align: middle;\n",
              "    }\n",
              "\n",
              "    .dataframe tbody tr th {\n",
              "        vertical-align: top;\n",
              "    }\n",
              "\n",
              "    .dataframe thead th {\n",
              "        text-align: right;\n",
              "    }\n",
              "</style>\n",
              "<table border=\"1\" class=\"dataframe\">\n",
              "  <thead>\n",
              "    <tr style=\"text-align: right;\">\n",
              "      <th></th>\n",
              "      <th>id_evento_caso</th>\n",
              "      <th>edad</th>\n",
              "      <th>edad_años_meses</th>\n",
              "      <th>residencia_pais_nombre</th>\n",
              "      <th>residencia_provincia_nombre</th>\n",
              "      <th>residencia_departamento_nombre</th>\n",
              "      <th>carga_provincia_nombre</th>\n",
              "      <th>fecha_inicio_sintomas</th>\n",
              "      <th>fecha_apertura</th>\n",
              "      <th>sepi_apertura</th>\n",
              "      <th>...</th>\n",
              "      <th>fecha_fallecimiento</th>\n",
              "      <th>asistencia_respiratoria_mecanica</th>\n",
              "      <th>carga_provincia_id</th>\n",
              "      <th>origen_financiamiento</th>\n",
              "      <th>clasificacion</th>\n",
              "      <th>clasificacion_resumen</th>\n",
              "      <th>residencia_provincia_id</th>\n",
              "      <th>fecha_diagnostico</th>\n",
              "      <th>residencia_departamento_id</th>\n",
              "      <th>ultima_actualizacion</th>\n",
              "    </tr>\n",
              "    <tr>\n",
              "      <th>sexo</th>\n",
              "      <th></th>\n",
              "      <th></th>\n",
              "      <th></th>\n",
              "      <th></th>\n",
              "      <th></th>\n",
              "      <th></th>\n",
              "      <th></th>\n",
              "      <th></th>\n",
              "      <th></th>\n",
              "      <th></th>\n",
              "      <th></th>\n",
              "      <th></th>\n",
              "      <th></th>\n",
              "      <th></th>\n",
              "      <th></th>\n",
              "      <th></th>\n",
              "      <th></th>\n",
              "      <th></th>\n",
              "      <th></th>\n",
              "      <th></th>\n",
              "      <th></th>\n",
              "    </tr>\n",
              "  </thead>\n",
              "  <tbody>\n",
              "    <tr>\n",
              "      <th>F</th>\n",
              "      <td>52663</td>\n",
              "      <td>52662</td>\n",
              "      <td>52663</td>\n",
              "      <td>52663</td>\n",
              "      <td>52663</td>\n",
              "      <td>52663</td>\n",
              "      <td>52663</td>\n",
              "      <td>19292</td>\n",
              "      <td>52663</td>\n",
              "      <td>52663</td>\n",
              "      <td>...</td>\n",
              "      <td>260</td>\n",
              "      <td>52663</td>\n",
              "      <td>52663</td>\n",
              "      <td>52663</td>\n",
              "      <td>52663</td>\n",
              "      <td>52663</td>\n",
              "      <td>52663</td>\n",
              "      <td>49292</td>\n",
              "      <td>52663</td>\n",
              "      <td>52663</td>\n",
              "    </tr>\n",
              "    <tr>\n",
              "      <th>M</th>\n",
              "      <td>46595</td>\n",
              "      <td>46591</td>\n",
              "      <td>46595</td>\n",
              "      <td>46595</td>\n",
              "      <td>46595</td>\n",
              "      <td>46595</td>\n",
              "      <td>46595</td>\n",
              "      <td>16701</td>\n",
              "      <td>46595</td>\n",
              "      <td>46595</td>\n",
              "      <td>...</td>\n",
              "      <td>363</td>\n",
              "      <td>46595</td>\n",
              "      <td>46595</td>\n",
              "      <td>46595</td>\n",
              "      <td>46595</td>\n",
              "      <td>46595</td>\n",
              "      <td>46595</td>\n",
              "      <td>43769</td>\n",
              "      <td>46595</td>\n",
              "      <td>46595</td>\n",
              "    </tr>\n",
              "    <tr>\n",
              "      <th>NR</th>\n",
              "      <td>742</td>\n",
              "      <td>717</td>\n",
              "      <td>742</td>\n",
              "      <td>742</td>\n",
              "      <td>742</td>\n",
              "      <td>742</td>\n",
              "      <td>742</td>\n",
              "      <td>425</td>\n",
              "      <td>742</td>\n",
              "      <td>742</td>\n",
              "      <td>...</td>\n",
              "      <td>7</td>\n",
              "      <td>742</td>\n",
              "      <td>742</td>\n",
              "      <td>742</td>\n",
              "      <td>742</td>\n",
              "      <td>742</td>\n",
              "      <td>742</td>\n",
              "      <td>628</td>\n",
              "      <td>742</td>\n",
              "      <td>742</td>\n",
              "    </tr>\n",
              "  </tbody>\n",
              "</table>\n",
              "<p>3 rows × 24 columns</p>\n",
              "</div>\n",
              "      <button class=\"colab-df-convert\" onclick=\"convertToInteractive('df-6476b1f3-a39b-44a0-b50f-46710098909d')\"\n",
              "              title=\"Convert this dataframe to an interactive table.\"\n",
              "              style=\"display:none;\">\n",
              "        \n",
              "  <svg xmlns=\"http://www.w3.org/2000/svg\" height=\"24px\"viewBox=\"0 0 24 24\"\n",
              "       width=\"24px\">\n",
              "    <path d=\"M0 0h24v24H0V0z\" fill=\"none\"/>\n",
              "    <path d=\"M18.56 5.44l.94 2.06.94-2.06 2.06-.94-2.06-.94-.94-2.06-.94 2.06-2.06.94zm-11 1L8.5 8.5l.94-2.06 2.06-.94-2.06-.94L8.5 2.5l-.94 2.06-2.06.94zm10 10l.94 2.06.94-2.06 2.06-.94-2.06-.94-.94-2.06-.94 2.06-2.06.94z\"/><path d=\"M17.41 7.96l-1.37-1.37c-.4-.4-.92-.59-1.43-.59-.52 0-1.04.2-1.43.59L10.3 9.45l-7.72 7.72c-.78.78-.78 2.05 0 2.83L4 21.41c.39.39.9.59 1.41.59.51 0 1.02-.2 1.41-.59l7.78-7.78 2.81-2.81c.8-.78.8-2.07 0-2.86zM5.41 20L4 18.59l7.72-7.72 1.47 1.35L5.41 20z\"/>\n",
              "  </svg>\n",
              "      </button>\n",
              "      \n",
              "  <style>\n",
              "    .colab-df-container {\n",
              "      display:flex;\n",
              "      flex-wrap:wrap;\n",
              "      gap: 12px;\n",
              "    }\n",
              "\n",
              "    .colab-df-convert {\n",
              "      background-color: #E8F0FE;\n",
              "      border: none;\n",
              "      border-radius: 50%;\n",
              "      cursor: pointer;\n",
              "      display: none;\n",
              "      fill: #1967D2;\n",
              "      height: 32px;\n",
              "      padding: 0 0 0 0;\n",
              "      width: 32px;\n",
              "    }\n",
              "\n",
              "    .colab-df-convert:hover {\n",
              "      background-color: #E2EBFA;\n",
              "      box-shadow: 0px 1px 2px rgba(60, 64, 67, 0.3), 0px 1px 3px 1px rgba(60, 64, 67, 0.15);\n",
              "      fill: #174EA6;\n",
              "    }\n",
              "\n",
              "    [theme=dark] .colab-df-convert {\n",
              "      background-color: #3B4455;\n",
              "      fill: #D2E3FC;\n",
              "    }\n",
              "\n",
              "    [theme=dark] .colab-df-convert:hover {\n",
              "      background-color: #434B5C;\n",
              "      box-shadow: 0px 1px 3px 1px rgba(0, 0, 0, 0.15);\n",
              "      filter: drop-shadow(0px 1px 2px rgba(0, 0, 0, 0.3));\n",
              "      fill: #FFFFFF;\n",
              "    }\n",
              "  </style>\n",
              "\n",
              "      <script>\n",
              "        const buttonEl =\n",
              "          document.querySelector('#df-6476b1f3-a39b-44a0-b50f-46710098909d button.colab-df-convert');\n",
              "        buttonEl.style.display =\n",
              "          google.colab.kernel.accessAllowed ? 'block' : 'none';\n",
              "\n",
              "        async function convertToInteractive(key) {\n",
              "          const element = document.querySelector('#df-6476b1f3-a39b-44a0-b50f-46710098909d');\n",
              "          const dataTable =\n",
              "            await google.colab.kernel.invokeFunction('convertToInteractive',\n",
              "                                                     [key], {});\n",
              "          if (!dataTable) return;\n",
              "\n",
              "          const docLinkHtml = 'Like what you see? Visit the ' +\n",
              "            '<a target=\"_blank\" href=https://colab.research.google.com/notebooks/data_table.ipynb>data table notebook</a>'\n",
              "            + ' to learn more about interactive tables.';\n",
              "          element.innerHTML = '';\n",
              "          dataTable['output_type'] = 'display_data';\n",
              "          await google.colab.output.renderOutput(dataTable, element);\n",
              "          const docLink = document.createElement('div');\n",
              "          docLink.innerHTML = docLinkHtml;\n",
              "          element.appendChild(docLink);\n",
              "        }\n",
              "      </script>\n",
              "    </div>\n",
              "  </div>\n",
              "  "
            ]
          },
          "metadata": {},
          "execution_count": 10
        }
      ]
    },
    {
      "cell_type": "code",
      "source": [
        "discriminado_por_sexo_id = discriminado_por_sexo.id_evento_caso\n",
        "\n",
        "fig, ax = plt.subplots(figsize=(14, 9))\n",
        "\n",
        "ax.pie(discriminado_por_sexo_id.values, labels=discriminado_por_sexo_id.index, autopct=\"%0.1f %%\")\n",
        "\n",
        "plt.title('Contagiados por sexo')"
      ],
      "metadata": {
        "colab": {
          "base_uri": "https://localhost:8080/",
          "height": 553
        },
        "id": "PIoTZ4MWWudi",
        "outputId": "179c4dcc-023d-45db-e874-16e5197995f7"
      },
      "execution_count": null,
      "outputs": [
        {
          "output_type": "execute_result",
          "data": {
            "text/plain": [
              "Text(0.5, 1.0, 'Contagiados por sexo')"
            ]
          },
          "metadata": {},
          "execution_count": 11
        },
        {
          "output_type": "display_data",
          "data": {
            "text/plain": [
              "<Figure size 1008x648 with 1 Axes>"
            ],
            "image/png": "[encoded data removed]"
          },
          "metadata": {}
        }
      ]
    },
    {
      "cell_type": "markdown",
      "source": [
        "###### Proporción de contagios por provincia de residencia\n",
        "\n",
        "\n"
      ],
      "metadata": {
        "id": "Q8dagp1H2u-C"
      }
    },
    {
      "cell_type": "code",
      "source": [
        "total_por_provincia_todos = df.groupby(\"residencia_provincia_nombre\").count()\n",
        "total_por_provincia = total_por_provincia_todos.id_evento_caso"
      ],
      "metadata": {
        "id": "gmkkxJBZ2sSY"
      },
      "execution_count": null,
      "outputs": []
    },
    {
      "cell_type": "code",
      "source": [
        "fig, ax = plt.subplots(figsize=(14, 9))\n",
        "\n",
        "ax.pie(total_por_provincia.values, labels=total_por_provincia.index, autopct=\"%0.1f %%\")\n",
        "\n",
        "plt.title('Cantidad de contagios por provincias')"
      ],
      "metadata": {
        "id": "uvW9OTlN21XW",
        "colab": {
          "base_uri": "https://localhost:8080/",
          "height": 553
        },
        "outputId": "8794d457-4416-4a36-9ef1-22904e0ebd93"
      },
      "execution_count": null,
      "outputs": [
        {
          "output_type": "execute_result",
          "data": {
            "text/plain": [
              "Text(0.5, 1.0, 'Cantidad de contagios por provincias')"
            ]
          },
          "metadata": {},
          "execution_count": 13
        },
        {
          "output_type": "display_data",
          "data": {
            "text/plain": [
              "<Figure size 1008x648 with 1 Axes>"
            ],
            "image/png": "[encoded data removed]"
          },
          "metadata": {}
        }
      ]
    },
    {
      "cell_type": "markdown",
      "source": [
        "###### Proporción de contagios por provincia de residencia(sólo las 15 provincias con mas contagios)"
      ],
      "metadata": {
        "id": "V7d3EHAKZd1f"
      }
    },
    {
      "cell_type": "code",
      "source": [
        "total_por_provincia_15 = total_por_provincia_todos.sort_values('id_evento_caso', ascending=False)[:15]"
      ],
      "metadata": {
        "id": "sTVN3Xs725cq"
      },
      "execution_count": null,
      "outputs": []
    },
    {
      "cell_type": "code",
      "source": [
        "sns.set_theme(style=\"whitegrid\")\n",
        "\n",
        "f, axs = plt.subplots(nrows=1, ncols=1, figsize=(18, 4))\n",
        "\n",
        "sns.barplot(x=total_por_provincia_15.index, y=total_por_provincia_15.id_evento_caso, data=total_por_provincia_10)"
      ],
      "metadata": {
        "id": "x1SyjALB28NB",
        "colab": {
          "base_uri": "https://localhost:8080/",
          "height": 304
        },
        "outputId": "0b84ddb9-634d-49b6-fc34-924a82e182be"
      },
      "execution_count": null,
      "outputs": [
        {
          "output_type": "execute_result",
          "data": {
            "text/plain": [
              "<matplotlib.axes._subplots.AxesSubplot at 0x7fec41ec5810>"
            ]
          },
          "metadata": {},
          "execution_count": 13
        },
        {
          "output_type": "display_data",
          "data": {
            "text/plain": [
              "<Figure size 1296x288 with 1 Axes>"
            ],
            "image/png": "[encoded data removed]"
          },
          "metadata": {}
        }
      ]
    },
    {
      "cell_type": "markdown",
      "source": [
        "##### iv) Recomendaciones"
      ],
      "metadata": {
        "id": "c9DhSBcx3KM1"
      }
    },
    {
      "cell_type": "markdown",
      "source": [
        "Las recomendaciones a las que se llegan son la siguientes:\n",
        "\n",
        "- Con respecto a la consulta planteada de saber si hay mayor cantidad de contagios según el sexo, del análisis se desprende los siguiente:\n",
        "Existe una parte de los registros que no posee datos(NR) que es muy ínfima y su suma para algunas de las otras partes no afecta el análisis por lo tanto no la tenemos en cuenta. Si bien se evidencia un mayor porcentaje de varones contagiados ésta diferencia no es tan grande.\n",
        "\n",
        "- De las dos últimas gráficas se observa el mismo fenómeno pero desde distintas perspectivas que Buenos Aires(suma de Buenos Aires y CABA) es por lejos que más registros tiene, esto es algo razonable ya que son las zonas más densamente pobladas de las nación. Para tener una mejor visión de los datos, en el gráfico de barras solo se eligen solo 15 provincias, ya que en el piechart al graficarlas a todas quedaba confusa la gráfica "
      ],
      "metadata": {
        "id": "Zqq8KkQy3Nwx"
      }
    },
    {
      "cell_type": "markdown",
      "source": [
        "#### **Encoding de variables categóricas**"
      ],
      "metadata": {
        "id": "IKAfFkm-HCAO"
      }
    },
    {
      "cell_type": "code",
      "source": [
        "import numpy as np\n",
        "from sklearn.model_selection import train_test_split, RandomizedSearchCV\n",
        "from sklearn.preprocessing import LabelEncoder\n",
        "\n",
        "encoder = LabelEncoder()"
      ],
      "metadata": {
        "id": "etfg5BiDYjbH"
      },
      "execution_count": null,
      "outputs": []
    },
    {
      "cell_type": "code",
      "source": [
        "df.info()"
      ],
      "metadata": {
        "colab": {
          "base_uri": "https://localhost:8080/"
        },
        "id": "kkIYzrwAYDgH",
        "outputId": "e3397eda-10d2-4304-c235-6b794ed12183"
      },
      "execution_count": null,
      "outputs": [
        {
          "output_type": "stream",
          "name": "stdout",
          "text": [
            "<class 'pandas.core.frame.DataFrame'>\n",
            "RangeIndex: 100000 entries, 0 to 99999\n",
            "Data columns (total 25 columns):\n",
            " #   Column                            Non-Null Count   Dtype  \n",
            "---  ------                            --------------   -----  \n",
            " 0   id_evento_caso                    100000 non-null  int64  \n",
            " 1   sexo                              100000 non-null  object \n",
            " 2   edad                              99970 non-null   float64\n",
            " 3   edad_años_meses                   100000 non-null  object \n",
            " 4   residencia_pais_nombre            100000 non-null  object \n",
            " 5   residencia_provincia_nombre       100000 non-null  object \n",
            " 6   residencia_departamento_nombre    100000 non-null  object \n",
            " 7   carga_provincia_nombre            100000 non-null  object \n",
            " 8   fecha_inicio_sintomas             36418 non-null   object \n",
            " 9   fecha_apertura                    100000 non-null  object \n",
            " 10  sepi_apertura                     100000 non-null  int64  \n",
            " 11  fecha_internacion                 2658 non-null    object \n",
            " 12  cuidado_intensivo                 100000 non-null  object \n",
            " 13  fecha_cui_intensivo               514 non-null     object \n",
            " 14  fallecido                         100000 non-null  object \n",
            " 15  fecha_fallecimiento               630 non-null     object \n",
            " 16  asistencia_respiratoria_mecanica  100000 non-null  object \n",
            " 17  carga_provincia_id                100000 non-null  int64  \n",
            " 18  origen_financiamiento             100000 non-null  object \n",
            " 19  clasificacion                     100000 non-null  object \n",
            " 20  clasificacion_resumen             100000 non-null  object \n",
            " 21  residencia_provincia_id           100000 non-null  int64  \n",
            " 22  fecha_diagnostico                 93689 non-null   object \n",
            " 23  residencia_departamento_id        100000 non-null  int64  \n",
            " 24  ultima_actualizacion              100000 non-null  object \n",
            "dtypes: float64(1), int64(5), object(19)\n",
            "memory usage: 19.1+ MB\n"
          ]
        }
      ]
    },
    {
      "cell_type": "code",
      "source": [
        "df1 = df.copy()\n",
        "\n",
        "# Codificación de variables con muchas categorías (Label Encoder): residencia_pais_nombre, residencia_provincia_nombre, residencia_departamento_nombre, carga_provincia_nombre, clasificacion, clasificacion_resumen\n",
        "# Codificación de cada una de las variables que tienen muchas categorías y actualizo el valor en el DataFrame\n",
        "df1['residencia_pais_nombre'] = encoder.fit_transform(df1['residencia_pais_nombre']).astype('int32')\n",
        "df1['residencia_provincia_nombre'] = encoder.fit_transform(df1['residencia_provincia_nombre']).astype('int32')\n",
        "df1['residencia_departamento_nombre'] = encoder.fit_transform(df1['residencia_departamento_nombre']).astype('int32')\n",
        "df1['carga_provincia_nombre'] = encoder.fit_transform(df1['carga_provincia_nombre']).astype('int32')\n",
        "df1['clasificacion'] = encoder.fit_transform(df1['clasificacion']).astype('int32')\n",
        "df1['clasificacion_resumen'] = encoder.fit_transform(df1['clasificacion_resumen']).astype('int32')\n",
        "df1['sexo'] = encoder.fit_transform(df1['sexo']).astype('int32')\n",
        "df1['fallecido'] = encoder.fit_transform(df1['fallecido']).astype('int32')\n",
        "\n",
        "# Codificación de variables con pocas categorías (One Hot Encoder): sepi_apertura, fallecido, asistencia_respiratoria_mecanica, origen_financiamiento, cuidado_intensivo, edad_años_meses\n",
        "df1 = pd.get_dummies(df1, columns=['sepi_apertura', 'asistencia_respiratoria_mecanica', 'origen_financiamiento', 'cuidado_intensivo', 'edad_años_meses'])\n",
        "# Eliminación de columnas contrastantes \n",
        "df1.drop(columns=['sepi_apertura_23', 'asistencia_respiratoria_mecanica_NO', 'origen_financiamiento_Privado', 'cuidado_intensivo_NO', 'edad_años_meses_Años'], inplace=True)  \n",
        "# Eliminación de columnas con referencias a fechas\n",
        "df1.drop(columns=['fecha_inicio_sintomas', 'fecha_apertura', 'fecha_internacion', 'fecha_cui_intensivo', 'fecha_fallecimiento', 'fecha_diagnostico', 'ultima_actualizacion'], inplace=True)  \n",
        "# Eliminación la columna de número de evento que solo es un identificador del registro\n",
        "df1.drop(columns=['id_evento_caso'], inplace=True)  \n",
        "\n",
        "# Elimino los NaN de la columna edad y la casteo a int64\n",
        "df1['edad'].fillna(value=df1['edad'].mean(), inplace=True)\n",
        "df1[\"edad\"] = df1['edad'].astype(np.int64)\n",
        "\n",
        "df1.info()"
      ],
      "metadata": {
        "colab": {
          "base_uri": "https://localhost:8080/"
        },
        "id": "qRvKfYChi_zk",
        "outputId": "f9fce1f1-5c6e-4e3f-a910-b4d21f0d2399"
      },
      "execution_count": null,
      "outputs": [
        {
          "output_type": "stream",
          "name": "stdout",
          "text": [
            "<class 'pandas.core.frame.DataFrame'>\n",
            "RangeIndex: 100000 entries, 0 to 99999\n",
            "Data columns (total 16 columns):\n",
            " #   Column                               Non-Null Count   Dtype\n",
            "---  ------                               --------------   -----\n",
            " 0   sexo                                 100000 non-null  int32\n",
            " 1   edad                                 100000 non-null  int64\n",
            " 2   residencia_pais_nombre               100000 non-null  int32\n",
            " 3   residencia_provincia_nombre          100000 non-null  int32\n",
            " 4   residencia_departamento_nombre       100000 non-null  int32\n",
            " 5   carga_provincia_nombre               100000 non-null  int32\n",
            " 6   fallecido                            100000 non-null  int32\n",
            " 7   carga_provincia_id                   100000 non-null  int64\n",
            " 8   clasificacion                        100000 non-null  int32\n",
            " 9   clasificacion_resumen                100000 non-null  int32\n",
            " 10  residencia_provincia_id              100000 non-null  int64\n",
            " 11  residencia_departamento_id           100000 non-null  int64\n",
            " 12  sepi_apertura_14                     100000 non-null  uint8\n",
            " 13  asistencia_respiratoria_mecanica_SI  100000 non-null  uint8\n",
            " 14  origen_financiamiento_Público        100000 non-null  uint8\n",
            " 15  cuidado_intensivo_SI                 100000 non-null  uint8\n",
            "dtypes: int32(8), int64(4), uint8(4)\n",
            "memory usage: 6.5 MB\n"
          ]
        }
      ]
    },
    {
      "cell_type": "markdown",
      "source": [
        "#### **Balanceo de la variables de salida(Oversampling)**"
      ],
      "metadata": {
        "id": "vYCz320Ibfb5"
      }
    },
    {
      "cell_type": "code",
      "source": [
        "from imblearn.over_sampling import RandomOverSampler\n",
        "from sklearn.model_selection import train_test_split, RandomizedSearchCV"
      ],
      "metadata": {
        "id": "XHghH8Xtcdif"
      },
      "execution_count": null,
      "outputs": []
    },
    {
      "cell_type": "code",
      "source": [
        "oversample = RandomOverSampler(sampling_strategy='minority')  # Hacemos un oversampling para balancear la cantidad de datos target de stroke\n",
        "\n",
        "X = df1.drop(['fallecido'], axis=1) \n",
        "y = df1['fallecido'] \n",
        "\n",
        "X_over, y_over = oversample.fit_resample(X, y) # Realizo el oversampling del dataset para balancear los datos"
      ],
      "metadata": {
        "id": "nLHqO9EEbf4c"
      },
      "execution_count": null,
      "outputs": []
    },
    {
      "cell_type": "markdown",
      "source": [
        "#### **Determinación de entrenamiento y de test**"
      ],
      "metadata": {
        "id": "XLmN7zS3IB_q"
      }
    },
    {
      "cell_type": "code",
      "source": [
        "X_train, X_test, y_train, y_test = train_test_split(X_over, y_over, test_size= 0.2, random_state= 42) #hacemos el spliting de training y test\n",
        "\n",
        "print(y_train.value_counts())\n",
        "print(y_test.value_counts())"
      ],
      "metadata": {
        "colab": {
          "base_uri": "https://localhost:8080/"
        },
        "id": "i9xNZk_1Bj1_",
        "outputId": "11f65416-1aa6-4d1c-852f-e8878edd5b28"
      },
      "execution_count": null,
      "outputs": [
        {
          "output_type": "stream",
          "name": "stdout",
          "text": [
            "0    79603\n",
            "1    79389\n",
            "Name: fallecido, dtype: int64\n",
            "1    19981\n",
            "0    19767\n",
            "Name: fallecido, dtype: int64\n"
          ]
        }
      ]
    },
    {
      "cell_type": "markdown",
      "source": [
        "#### **Declaración del método de Feature Selection(Forward Selection) y ejecución del mismo**\n"
      ],
      "metadata": {
        "id": "nE1Ky41fI5mc"
      }
    },
    {
      "cell_type": "code",
      "source": [
        "import statsmodels.api as sm\n",
        "\n",
        "def forward_selection(data, target, significance_level=0.01):\n",
        "    initial_features = data.columns.tolist()\n",
        "    best_features = []\n",
        "    \n",
        "    while (len(initial_features) > 0):\n",
        "        remaining_features = list(set(initial_features)-set(best_features))\n",
        "        new_pval = pd.Series(index=remaining_features)\n",
        "        \n",
        "        for new_column in remaining_features:\n",
        "            model = sm.OLS(target, sm.add_constant(data[best_features+[new_column]])).fit()\n",
        "            new_pval[new_column] = model.pvalues[new_column]\n",
        "        min_p_value = new_pval.min()\n",
        "        \n",
        "        if(min_p_value < significance_level):\n",
        "            best_features.append(new_pval.idxmin())\n",
        "        else:\n",
        "            break\n",
        "            \n",
        "    return best_features"
      ],
      "metadata": {
        "id": "RklkK0fr3fa1"
      },
      "execution_count": null,
      "outputs": []
    },
    {
      "cell_type": "code",
      "source": [
        "forward_selection(X, y)"
      ],
      "metadata": {
        "id": "GZ3QLUMe3gJE",
        "colab": {
          "base_uri": "https://localhost:8080/"
        },
        "outputId": "a61a829f-36c9-4572-b7f9-a1727df4885c"
      },
      "execution_count": null,
      "outputs": [
        {
          "output_type": "stream",
          "name": "stderr",
          "text": [
            "/usr/local/lib/python3.7/dist-packages/ipykernel_launcher.py:9: DeprecationWarning: The default dtype for empty Series will be 'object' instead of 'float64' in a future version. Specify a dtype explicitly to silence this warning.\n",
            "  if __name__ == '__main__':\n",
            "/usr/local/lib/python3.7/dist-packages/statsmodels/tsa/tsatools.py:142: FutureWarning: In a future version of pandas all arguments of concat except for the argument 'objs' will be keyword-only\n",
            "  x = pd.concat(x[::order], 1)\n",
            "/usr/local/lib/python3.7/dist-packages/statsmodels/tsa/tsatools.py:142: FutureWarning: In a future version of pandas all arguments of concat except for the argument 'objs' will be keyword-only\n",
            "  x = pd.concat(x[::order], 1)\n",
            "/usr/local/lib/python3.7/dist-packages/statsmodels/tsa/tsatools.py:142: FutureWarning: In a future version of pandas all arguments of concat except for the argument 'objs' will be keyword-only\n",
            "  x = pd.concat(x[::order], 1)\n",
            "/usr/local/lib/python3.7/dist-packages/statsmodels/tsa/tsatools.py:142: FutureWarning: In a future version of pandas all arguments of concat except for the argument 'objs' will be keyword-only\n",
            "  x = pd.concat(x[::order], 1)\n",
            "/usr/local/lib/python3.7/dist-packages/statsmodels/tsa/tsatools.py:142: FutureWarning: In a future version of pandas all arguments of concat except for the argument 'objs' will be keyword-only\n",
            "  x = pd.concat(x[::order], 1)\n",
            "/usr/local/lib/python3.7/dist-packages/statsmodels/tsa/tsatools.py:142: FutureWarning: In a future version of pandas all arguments of concat except for the argument 'objs' will be keyword-only\n",
            "  x = pd.concat(x[::order], 1)\n",
            "/usr/local/lib/python3.7/dist-packages/statsmodels/tsa/tsatools.py:142: FutureWarning: In a future version of pandas all arguments of concat except for the argument 'objs' will be keyword-only\n",
            "  x = pd.concat(x[::order], 1)\n",
            "/usr/local/lib/python3.7/dist-packages/statsmodels/tsa/tsatools.py:142: FutureWarning: In a future version of pandas all arguments of concat except for the argument 'objs' will be keyword-only\n",
            "  x = pd.concat(x[::order], 1)\n",
            "/usr/local/lib/python3.7/dist-packages/statsmodels/tsa/tsatools.py:142: FutureWarning: In a future version of pandas all arguments of concat except for the argument 'objs' will be keyword-only\n",
            "  x = pd.concat(x[::order], 1)\n",
            "/usr/local/lib/python3.7/dist-packages/statsmodels/tsa/tsatools.py:142: FutureWarning: In a future version of pandas all arguments of concat except for the argument 'objs' will be keyword-only\n",
            "  x = pd.concat(x[::order], 1)\n",
            "/usr/local/lib/python3.7/dist-packages/statsmodels/tsa/tsatools.py:142: FutureWarning: In a future version of pandas all arguments of concat except for the argument 'objs' will be keyword-only\n",
            "  x = pd.concat(x[::order], 1)\n",
            "/usr/local/lib/python3.7/dist-packages/statsmodels/tsa/tsatools.py:142: FutureWarning: In a future version of pandas all arguments of concat except for the argument 'objs' will be keyword-only\n",
            "  x = pd.concat(x[::order], 1)\n",
            "/usr/local/lib/python3.7/dist-packages/statsmodels/tsa/tsatools.py:142: FutureWarning: In a future version of pandas all arguments of concat except for the argument 'objs' will be keyword-only\n",
            "  x = pd.concat(x[::order], 1)\n",
            "/usr/local/lib/python3.7/dist-packages/statsmodels/tsa/tsatools.py:142: FutureWarning: In a future version of pandas all arguments of concat except for the argument 'objs' will be keyword-only\n",
            "  x = pd.concat(x[::order], 1)\n",
            "/usr/local/lib/python3.7/dist-packages/statsmodels/tsa/tsatools.py:142: FutureWarning: In a future version of pandas all arguments of concat except for the argument 'objs' will be keyword-only\n",
            "  x = pd.concat(x[::order], 1)\n",
            "/usr/local/lib/python3.7/dist-packages/ipykernel_launcher.py:9: DeprecationWarning: The default dtype for empty Series will be 'object' instead of 'float64' in a future version. Specify a dtype explicitly to silence this warning.\n",
            "  if __name__ == '__main__':\n",
            "/usr/local/lib/python3.7/dist-packages/statsmodels/tsa/tsatools.py:142: FutureWarning: In a future version of pandas all arguments of concat except for the argument 'objs' will be keyword-only\n",
            "  x = pd.concat(x[::order], 1)\n",
            "/usr/local/lib/python3.7/dist-packages/statsmodels/tsa/tsatools.py:142: FutureWarning: In a future version of pandas all arguments of concat except for the argument 'objs' will be keyword-only\n",
            "  x = pd.concat(x[::order], 1)\n",
            "/usr/local/lib/python3.7/dist-packages/statsmodels/tsa/tsatools.py:142: FutureWarning: In a future version of pandas all arguments of concat except for the argument 'objs' will be keyword-only\n",
            "  x = pd.concat(x[::order], 1)\n",
            "/usr/local/lib/python3.7/dist-packages/statsmodels/tsa/tsatools.py:142: FutureWarning: In a future version of pandas all arguments of concat except for the argument 'objs' will be keyword-only\n",
            "  x = pd.concat(x[::order], 1)\n",
            "/usr/local/lib/python3.7/dist-packages/statsmodels/tsa/tsatools.py:142: FutureWarning: In a future version of pandas all arguments of concat except for the argument 'objs' will be keyword-only\n",
            "  x = pd.concat(x[::order], 1)\n",
            "/usr/local/lib/python3.7/dist-packages/statsmodels/tsa/tsatools.py:142: FutureWarning: In a future version of pandas all arguments of concat except for the argument 'objs' will be keyword-only\n",
            "  x = pd.concat(x[::order], 1)\n",
            "/usr/local/lib/python3.7/dist-packages/statsmodels/tsa/tsatools.py:142: FutureWarning: In a future version of pandas all arguments of concat except for the argument 'objs' will be keyword-only\n",
            "  x = pd.concat(x[::order], 1)\n",
            "/usr/local/lib/python3.7/dist-packages/statsmodels/tsa/tsatools.py:142: FutureWarning: In a future version of pandas all arguments of concat except for the argument 'objs' will be keyword-only\n",
            "  x = pd.concat(x[::order], 1)\n",
            "/usr/local/lib/python3.7/dist-packages/statsmodels/tsa/tsatools.py:142: FutureWarning: In a future version of pandas all arguments of concat except for the argument 'objs' will be keyword-only\n",
            "  x = pd.concat(x[::order], 1)\n",
            "/usr/local/lib/python3.7/dist-packages/statsmodels/tsa/tsatools.py:142: FutureWarning: In a future version of pandas all arguments of concat except for the argument 'objs' will be keyword-only\n",
            "  x = pd.concat(x[::order], 1)\n",
            "/usr/local/lib/python3.7/dist-packages/statsmodels/tsa/tsatools.py:142: FutureWarning: In a future version of pandas all arguments of concat except for the argument 'objs' will be keyword-only\n",
            "  x = pd.concat(x[::order], 1)\n",
            "/usr/local/lib/python3.7/dist-packages/statsmodels/tsa/tsatools.py:142: FutureWarning: In a future version of pandas all arguments of concat except for the argument 'objs' will be keyword-only\n",
            "  x = pd.concat(x[::order], 1)\n",
            "/usr/local/lib/python3.7/dist-packages/statsmodels/tsa/tsatools.py:142: FutureWarning: In a future version of pandas all arguments of concat except for the argument 'objs' will be keyword-only\n",
            "  x = pd.concat(x[::order], 1)\n",
            "/usr/local/lib/python3.7/dist-packages/statsmodels/tsa/tsatools.py:142: FutureWarning: In a future version of pandas all arguments of concat except for the argument 'objs' will be keyword-only\n",
            "  x = pd.concat(x[::order], 1)\n",
            "/usr/local/lib/python3.7/dist-packages/ipykernel_launcher.py:9: DeprecationWarning: The default dtype for empty Series will be 'object' instead of 'float64' in a future version. Specify a dtype explicitly to silence this warning.\n",
            "  if __name__ == '__main__':\n",
            "/usr/local/lib/python3.7/dist-packages/statsmodels/tsa/tsatools.py:142: FutureWarning: In a future version of pandas all arguments of concat except for the argument 'objs' will be keyword-only\n",
            "  x = pd.concat(x[::order], 1)\n",
            "/usr/local/lib/python3.7/dist-packages/statsmodels/tsa/tsatools.py:142: FutureWarning: In a future version of pandas all arguments of concat except for the argument 'objs' will be keyword-only\n",
            "  x = pd.concat(x[::order], 1)\n",
            "/usr/local/lib/python3.7/dist-packages/statsmodels/tsa/tsatools.py:142: FutureWarning: In a future version of pandas all arguments of concat except for the argument 'objs' will be keyword-only\n",
            "  x = pd.concat(x[::order], 1)\n",
            "/usr/local/lib/python3.7/dist-packages/statsmodels/tsa/tsatools.py:142: FutureWarning: In a future version of pandas all arguments of concat except for the argument 'objs' will be keyword-only\n",
            "  x = pd.concat(x[::order], 1)\n",
            "/usr/local/lib/python3.7/dist-packages/statsmodels/tsa/tsatools.py:142: FutureWarning: In a future version of pandas all arguments of concat except for the argument 'objs' will be keyword-only\n",
            "  x = pd.concat(x[::order], 1)\n",
            "/usr/local/lib/python3.7/dist-packages/statsmodels/tsa/tsatools.py:142: FutureWarning: In a future version of pandas all arguments of concat except for the argument 'objs' will be keyword-only\n",
            "  x = pd.concat(x[::order], 1)\n",
            "/usr/local/lib/python3.7/dist-packages/statsmodels/tsa/tsatools.py:142: FutureWarning: In a future version of pandas all arguments of concat except for the argument 'objs' will be keyword-only\n",
            "  x = pd.concat(x[::order], 1)\n",
            "/usr/local/lib/python3.7/dist-packages/statsmodels/tsa/tsatools.py:142: FutureWarning: In a future version of pandas all arguments of concat except for the argument 'objs' will be keyword-only\n",
            "  x = pd.concat(x[::order], 1)\n",
            "/usr/local/lib/python3.7/dist-packages/statsmodels/tsa/tsatools.py:142: FutureWarning: In a future version of pandas all arguments of concat except for the argument 'objs' will be keyword-only\n",
            "  x = pd.concat(x[::order], 1)\n",
            "/usr/local/lib/python3.7/dist-packages/statsmodels/tsa/tsatools.py:142: FutureWarning: In a future version of pandas all arguments of concat except for the argument 'objs' will be keyword-only\n",
            "  x = pd.concat(x[::order], 1)\n",
            "/usr/local/lib/python3.7/dist-packages/statsmodels/tsa/tsatools.py:142: FutureWarning: In a future version of pandas all arguments of concat except for the argument 'objs' will be keyword-only\n",
            "  x = pd.concat(x[::order], 1)\n",
            "/usr/local/lib/python3.7/dist-packages/statsmodels/tsa/tsatools.py:142: FutureWarning: In a future version of pandas all arguments of concat except for the argument 'objs' will be keyword-only\n",
            "  x = pd.concat(x[::order], 1)\n",
            "/usr/local/lib/python3.7/dist-packages/statsmodels/tsa/tsatools.py:142: FutureWarning: In a future version of pandas all arguments of concat except for the argument 'objs' will be keyword-only\n",
            "  x = pd.concat(x[::order], 1)\n",
            "/usr/local/lib/python3.7/dist-packages/ipykernel_launcher.py:9: DeprecationWarning: The default dtype for empty Series will be 'object' instead of 'float64' in a future version. Specify a dtype explicitly to silence this warning.\n",
            "  if __name__ == '__main__':\n",
            "/usr/local/lib/python3.7/dist-packages/statsmodels/tsa/tsatools.py:142: FutureWarning: In a future version of pandas all arguments of concat except for the argument 'objs' will be keyword-only\n",
            "  x = pd.concat(x[::order], 1)\n",
            "/usr/local/lib/python3.7/dist-packages/statsmodels/tsa/tsatools.py:142: FutureWarning: In a future version of pandas all arguments of concat except for the argument 'objs' will be keyword-only\n",
            "  x = pd.concat(x[::order], 1)\n",
            "/usr/local/lib/python3.7/dist-packages/statsmodels/tsa/tsatools.py:142: FutureWarning: In a future version of pandas all arguments of concat except for the argument 'objs' will be keyword-only\n",
            "  x = pd.concat(x[::order], 1)\n",
            "/usr/local/lib/python3.7/dist-packages/statsmodels/tsa/tsatools.py:142: FutureWarning: In a future version of pandas all arguments of concat except for the argument 'objs' will be keyword-only\n",
            "  x = pd.concat(x[::order], 1)\n",
            "/usr/local/lib/python3.7/dist-packages/statsmodels/tsa/tsatools.py:142: FutureWarning: In a future version of pandas all arguments of concat except for the argument 'objs' will be keyword-only\n",
            "  x = pd.concat(x[::order], 1)\n",
            "/usr/local/lib/python3.7/dist-packages/statsmodels/tsa/tsatools.py:142: FutureWarning: In a future version of pandas all arguments of concat except for the argument 'objs' will be keyword-only\n",
            "  x = pd.concat(x[::order], 1)\n",
            "/usr/local/lib/python3.7/dist-packages/statsmodels/tsa/tsatools.py:142: FutureWarning: In a future version of pandas all arguments of concat except for the argument 'objs' will be keyword-only\n",
            "  x = pd.concat(x[::order], 1)\n",
            "/usr/local/lib/python3.7/dist-packages/statsmodels/tsa/tsatools.py:142: FutureWarning: In a future version of pandas all arguments of concat except for the argument 'objs' will be keyword-only\n",
            "  x = pd.concat(x[::order], 1)\n",
            "/usr/local/lib/python3.7/dist-packages/statsmodels/tsa/tsatools.py:142: FutureWarning: In a future version of pandas all arguments of concat except for the argument 'objs' will be keyword-only\n",
            "  x = pd.concat(x[::order], 1)\n",
            "/usr/local/lib/python3.7/dist-packages/statsmodels/tsa/tsatools.py:142: FutureWarning: In a future version of pandas all arguments of concat except for the argument 'objs' will be keyword-only\n",
            "  x = pd.concat(x[::order], 1)\n",
            "/usr/local/lib/python3.7/dist-packages/statsmodels/tsa/tsatools.py:142: FutureWarning: In a future version of pandas all arguments of concat except for the argument 'objs' will be keyword-only\n",
            "  x = pd.concat(x[::order], 1)\n",
            "/usr/local/lib/python3.7/dist-packages/statsmodels/tsa/tsatools.py:142: FutureWarning: In a future version of pandas all arguments of concat except for the argument 'objs' will be keyword-only\n",
            "  x = pd.concat(x[::order], 1)\n",
            "/usr/local/lib/python3.7/dist-packages/ipykernel_launcher.py:9: DeprecationWarning: The default dtype for empty Series will be 'object' instead of 'float64' in a future version. Specify a dtype explicitly to silence this warning.\n",
            "  if __name__ == '__main__':\n",
            "/usr/local/lib/python3.7/dist-packages/statsmodels/tsa/tsatools.py:142: FutureWarning: In a future version of pandas all arguments of concat except for the argument 'objs' will be keyword-only\n",
            "  x = pd.concat(x[::order], 1)\n",
            "/usr/local/lib/python3.7/dist-packages/statsmodels/tsa/tsatools.py:142: FutureWarning: In a future version of pandas all arguments of concat except for the argument 'objs' will be keyword-only\n",
            "  x = pd.concat(x[::order], 1)\n",
            "/usr/local/lib/python3.7/dist-packages/statsmodels/tsa/tsatools.py:142: FutureWarning: In a future version of pandas all arguments of concat except for the argument 'objs' will be keyword-only\n",
            "  x = pd.concat(x[::order], 1)\n",
            "/usr/local/lib/python3.7/dist-packages/statsmodels/tsa/tsatools.py:142: FutureWarning: In a future version of pandas all arguments of concat except for the argument 'objs' will be keyword-only\n",
            "  x = pd.concat(x[::order], 1)\n",
            "/usr/local/lib/python3.7/dist-packages/statsmodels/tsa/tsatools.py:142: FutureWarning: In a future version of pandas all arguments of concat except for the argument 'objs' will be keyword-only\n",
            "  x = pd.concat(x[::order], 1)\n",
            "/usr/local/lib/python3.7/dist-packages/statsmodels/tsa/tsatools.py:142: FutureWarning: In a future version of pandas all arguments of concat except for the argument 'objs' will be keyword-only\n",
            "  x = pd.concat(x[::order], 1)\n",
            "/usr/local/lib/python3.7/dist-packages/statsmodels/tsa/tsatools.py:142: FutureWarning: In a future version of pandas all arguments of concat except for the argument 'objs' will be keyword-only\n",
            "  x = pd.concat(x[::order], 1)\n",
            "/usr/local/lib/python3.7/dist-packages/statsmodels/tsa/tsatools.py:142: FutureWarning: In a future version of pandas all arguments of concat except for the argument 'objs' will be keyword-only\n",
            "  x = pd.concat(x[::order], 1)\n",
            "/usr/local/lib/python3.7/dist-packages/statsmodels/tsa/tsatools.py:142: FutureWarning: In a future version of pandas all arguments of concat except for the argument 'objs' will be keyword-only\n",
            "  x = pd.concat(x[::order], 1)\n",
            "/usr/local/lib/python3.7/dist-packages/statsmodels/tsa/tsatools.py:142: FutureWarning: In a future version of pandas all arguments of concat except for the argument 'objs' will be keyword-only\n",
            "  x = pd.concat(x[::order], 1)\n",
            "/usr/local/lib/python3.7/dist-packages/statsmodels/tsa/tsatools.py:142: FutureWarning: In a future version of pandas all arguments of concat except for the argument 'objs' will be keyword-only\n",
            "  x = pd.concat(x[::order], 1)\n",
            "/usr/local/lib/python3.7/dist-packages/ipykernel_launcher.py:9: DeprecationWarning: The default dtype for empty Series will be 'object' instead of 'float64' in a future version. Specify a dtype explicitly to silence this warning.\n",
            "  if __name__ == '__main__':\n",
            "/usr/local/lib/python3.7/dist-packages/statsmodels/tsa/tsatools.py:142: FutureWarning: In a future version of pandas all arguments of concat except for the argument 'objs' will be keyword-only\n",
            "  x = pd.concat(x[::order], 1)\n",
            "/usr/local/lib/python3.7/dist-packages/statsmodels/tsa/tsatools.py:142: FutureWarning: In a future version of pandas all arguments of concat except for the argument 'objs' will be keyword-only\n",
            "  x = pd.concat(x[::order], 1)\n",
            "/usr/local/lib/python3.7/dist-packages/statsmodels/tsa/tsatools.py:142: FutureWarning: In a future version of pandas all arguments of concat except for the argument 'objs' will be keyword-only\n",
            "  x = pd.concat(x[::order], 1)\n",
            "/usr/local/lib/python3.7/dist-packages/statsmodels/tsa/tsatools.py:142: FutureWarning: In a future version of pandas all arguments of concat except for the argument 'objs' will be keyword-only\n",
            "  x = pd.concat(x[::order], 1)\n",
            "/usr/local/lib/python3.7/dist-packages/statsmodels/tsa/tsatools.py:142: FutureWarning: In a future version of pandas all arguments of concat except for the argument 'objs' will be keyword-only\n",
            "  x = pd.concat(x[::order], 1)\n",
            "/usr/local/lib/python3.7/dist-packages/statsmodels/tsa/tsatools.py:142: FutureWarning: In a future version of pandas all arguments of concat except for the argument 'objs' will be keyword-only\n",
            "  x = pd.concat(x[::order], 1)\n",
            "/usr/local/lib/python3.7/dist-packages/statsmodels/tsa/tsatools.py:142: FutureWarning: In a future version of pandas all arguments of concat except for the argument 'objs' will be keyword-only\n",
            "  x = pd.concat(x[::order], 1)\n",
            "/usr/local/lib/python3.7/dist-packages/statsmodels/tsa/tsatools.py:142: FutureWarning: In a future version of pandas all arguments of concat except for the argument 'objs' will be keyword-only\n",
            "  x = pd.concat(x[::order], 1)\n",
            "/usr/local/lib/python3.7/dist-packages/statsmodels/tsa/tsatools.py:142: FutureWarning: In a future version of pandas all arguments of concat except for the argument 'objs' will be keyword-only\n",
            "  x = pd.concat(x[::order], 1)\n",
            "/usr/local/lib/python3.7/dist-packages/statsmodels/tsa/tsatools.py:142: FutureWarning: In a future version of pandas all arguments of concat except for the argument 'objs' will be keyword-only\n",
            "  x = pd.concat(x[::order], 1)\n",
            "/usr/local/lib/python3.7/dist-packages/ipykernel_launcher.py:9: DeprecationWarning: The default dtype for empty Series will be 'object' instead of 'float64' in a future version. Specify a dtype explicitly to silence this warning.\n",
            "  if __name__ == '__main__':\n",
            "/usr/local/lib/python3.7/dist-packages/statsmodels/tsa/tsatools.py:142: FutureWarning: In a future version of pandas all arguments of concat except for the argument 'objs' will be keyword-only\n",
            "  x = pd.concat(x[::order], 1)\n",
            "/usr/local/lib/python3.7/dist-packages/statsmodels/tsa/tsatools.py:142: FutureWarning: In a future version of pandas all arguments of concat except for the argument 'objs' will be keyword-only\n",
            "  x = pd.concat(x[::order], 1)\n",
            "/usr/local/lib/python3.7/dist-packages/statsmodels/tsa/tsatools.py:142: FutureWarning: In a future version of pandas all arguments of concat except for the argument 'objs' will be keyword-only\n",
            "  x = pd.concat(x[::order], 1)\n",
            "/usr/local/lib/python3.7/dist-packages/statsmodels/tsa/tsatools.py:142: FutureWarning: In a future version of pandas all arguments of concat except for the argument 'objs' will be keyword-only\n",
            "  x = pd.concat(x[::order], 1)\n",
            "/usr/local/lib/python3.7/dist-packages/statsmodels/tsa/tsatools.py:142: FutureWarning: In a future version of pandas all arguments of concat except for the argument 'objs' will be keyword-only\n",
            "  x = pd.concat(x[::order], 1)\n",
            "/usr/local/lib/python3.7/dist-packages/statsmodels/tsa/tsatools.py:142: FutureWarning: In a future version of pandas all arguments of concat except for the argument 'objs' will be keyword-only\n",
            "  x = pd.concat(x[::order], 1)\n",
            "/usr/local/lib/python3.7/dist-packages/statsmodels/tsa/tsatools.py:142: FutureWarning: In a future version of pandas all arguments of concat except for the argument 'objs' will be keyword-only\n",
            "  x = pd.concat(x[::order], 1)\n",
            "/usr/local/lib/python3.7/dist-packages/statsmodels/tsa/tsatools.py:142: FutureWarning: In a future version of pandas all arguments of concat except for the argument 'objs' will be keyword-only\n",
            "  x = pd.concat(x[::order], 1)\n",
            "/usr/local/lib/python3.7/dist-packages/statsmodels/tsa/tsatools.py:142: FutureWarning: In a future version of pandas all arguments of concat except for the argument 'objs' will be keyword-only\n",
            "  x = pd.concat(x[::order], 1)\n",
            "/usr/local/lib/python3.7/dist-packages/ipykernel_launcher.py:9: DeprecationWarning: The default dtype for empty Series will be 'object' instead of 'float64' in a future version. Specify a dtype explicitly to silence this warning.\n",
            "  if __name__ == '__main__':\n",
            "/usr/local/lib/python3.7/dist-packages/statsmodels/tsa/tsatools.py:142: FutureWarning: In a future version of pandas all arguments of concat except for the argument 'objs' will be keyword-only\n",
            "  x = pd.concat(x[::order], 1)\n",
            "/usr/local/lib/python3.7/dist-packages/statsmodels/tsa/tsatools.py:142: FutureWarning: In a future version of pandas all arguments of concat except for the argument 'objs' will be keyword-only\n",
            "  x = pd.concat(x[::order], 1)\n",
            "/usr/local/lib/python3.7/dist-packages/statsmodels/tsa/tsatools.py:142: FutureWarning: In a future version of pandas all arguments of concat except for the argument 'objs' will be keyword-only\n",
            "  x = pd.concat(x[::order], 1)\n",
            "/usr/local/lib/python3.7/dist-packages/statsmodels/tsa/tsatools.py:142: FutureWarning: In a future version of pandas all arguments of concat except for the argument 'objs' will be keyword-only\n",
            "  x = pd.concat(x[::order], 1)\n",
            "/usr/local/lib/python3.7/dist-packages/statsmodels/tsa/tsatools.py:142: FutureWarning: In a future version of pandas all arguments of concat except for the argument 'objs' will be keyword-only\n",
            "  x = pd.concat(x[::order], 1)\n",
            "/usr/local/lib/python3.7/dist-packages/statsmodels/tsa/tsatools.py:142: FutureWarning: In a future version of pandas all arguments of concat except for the argument 'objs' will be keyword-only\n",
            "  x = pd.concat(x[::order], 1)\n",
            "/usr/local/lib/python3.7/dist-packages/statsmodels/tsa/tsatools.py:142: FutureWarning: In a future version of pandas all arguments of concat except for the argument 'objs' will be keyword-only\n",
            "  x = pd.concat(x[::order], 1)\n",
            "/usr/local/lib/python3.7/dist-packages/statsmodels/tsa/tsatools.py:142: FutureWarning: In a future version of pandas all arguments of concat except for the argument 'objs' will be keyword-only\n",
            "  x = pd.concat(x[::order], 1)\n",
            "/usr/local/lib/python3.7/dist-packages/ipykernel_launcher.py:9: DeprecationWarning: The default dtype for empty Series will be 'object' instead of 'float64' in a future version. Specify a dtype explicitly to silence this warning.\n",
            "  if __name__ == '__main__':\n",
            "/usr/local/lib/python3.7/dist-packages/statsmodels/tsa/tsatools.py:142: FutureWarning: In a future version of pandas all arguments of concat except for the argument 'objs' will be keyword-only\n",
            "  x = pd.concat(x[::order], 1)\n",
            "/usr/local/lib/python3.7/dist-packages/statsmodels/tsa/tsatools.py:142: FutureWarning: In a future version of pandas all arguments of concat except for the argument 'objs' will be keyword-only\n",
            "  x = pd.concat(x[::order], 1)\n",
            "/usr/local/lib/python3.7/dist-packages/statsmodels/tsa/tsatools.py:142: FutureWarning: In a future version of pandas all arguments of concat except for the argument 'objs' will be keyword-only\n",
            "  x = pd.concat(x[::order], 1)\n",
            "/usr/local/lib/python3.7/dist-packages/statsmodels/tsa/tsatools.py:142: FutureWarning: In a future version of pandas all arguments of concat except for the argument 'objs' will be keyword-only\n",
            "  x = pd.concat(x[::order], 1)\n",
            "/usr/local/lib/python3.7/dist-packages/statsmodels/tsa/tsatools.py:142: FutureWarning: In a future version of pandas all arguments of concat except for the argument 'objs' will be keyword-only\n",
            "  x = pd.concat(x[::order], 1)\n",
            "/usr/local/lib/python3.7/dist-packages/statsmodels/tsa/tsatools.py:142: FutureWarning: In a future version of pandas all arguments of concat except for the argument 'objs' will be keyword-only\n",
            "  x = pd.concat(x[::order], 1)\n",
            "/usr/local/lib/python3.7/dist-packages/statsmodels/tsa/tsatools.py:142: FutureWarning: In a future version of pandas all arguments of concat except for the argument 'objs' will be keyword-only\n",
            "  x = pd.concat(x[::order], 1)\n",
            "/usr/local/lib/python3.7/dist-packages/ipykernel_launcher.py:9: DeprecationWarning: The default dtype for empty Series will be 'object' instead of 'float64' in a future version. Specify a dtype explicitly to silence this warning.\n",
            "  if __name__ == '__main__':\n",
            "/usr/local/lib/python3.7/dist-packages/statsmodels/tsa/tsatools.py:142: FutureWarning: In a future version of pandas all arguments of concat except for the argument 'objs' will be keyword-only\n",
            "  x = pd.concat(x[::order], 1)\n",
            "/usr/local/lib/python3.7/dist-packages/statsmodels/tsa/tsatools.py:142: FutureWarning: In a future version of pandas all arguments of concat except for the argument 'objs' will be keyword-only\n",
            "  x = pd.concat(x[::order], 1)\n",
            "/usr/local/lib/python3.7/dist-packages/statsmodels/tsa/tsatools.py:142: FutureWarning: In a future version of pandas all arguments of concat except for the argument 'objs' will be keyword-only\n",
            "  x = pd.concat(x[::order], 1)\n",
            "/usr/local/lib/python3.7/dist-packages/statsmodels/tsa/tsatools.py:142: FutureWarning: In a future version of pandas all arguments of concat except for the argument 'objs' will be keyword-only\n",
            "  x = pd.concat(x[::order], 1)\n",
            "/usr/local/lib/python3.7/dist-packages/statsmodels/tsa/tsatools.py:142: FutureWarning: In a future version of pandas all arguments of concat except for the argument 'objs' will be keyword-only\n",
            "  x = pd.concat(x[::order], 1)\n",
            "/usr/local/lib/python3.7/dist-packages/statsmodels/tsa/tsatools.py:142: FutureWarning: In a future version of pandas all arguments of concat except for the argument 'objs' will be keyword-only\n",
            "  x = pd.concat(x[::order], 1)\n"
          ]
        },
        {
          "output_type": "execute_result",
          "data": {
            "text/plain": [
              "['asistencia_respiratoria_mecanica_SI',\n",
              " 'edad',\n",
              " 'cuidado_intensivo_SI',\n",
              " 'clasificacion_resumen',\n",
              " 'residencia_departamento_id',\n",
              " 'sexo',\n",
              " 'origen_financiamiento_Público',\n",
              " 'residencia_pais_nombre',\n",
              " 'residencia_departamento_nombre']"
            ]
          },
          "metadata": {},
          "execution_count": 37
        }
      ]
    },
    {
      "cell_type": "markdown",
      "source": [
        "#### **Selección de los algoritmos a aplicar**\n",
        "Como la variable target es categórica se debe seleccionar un algoritmo de clasificación"
      ],
      "metadata": {
        "id": "paMxy23L3qGt"
      }
    },
    {
      "cell_type": "markdown",
      "source": [
        "**Instalación e importación de librerias para graficar**"
      ],
      "metadata": {
        "id": "oP4f26IsXEKT"
      }
    },
    {
      "cell_type": "code",
      "source": [
        "!pip install scikit-plot"
      ],
      "metadata": {
        "colab": {
          "base_uri": "https://localhost:8080/"
        },
        "id": "zAcsI_F1WvXn",
        "outputId": "a335a867-f9d8-4905-cb28-00c30632384e"
      },
      "execution_count": null,
      "outputs": [
        {
          "output_type": "stream",
          "name": "stdout",
          "text": [
            "Looking in indexes: https://pypi.org/simple, https://us-python.pkg.dev/colab-wheels/public/simple/\n",
            "Collecting scikit-plot\n",
            "  Downloading scikit_plot-0.3.7-py3-none-any.whl (33 kB)\n",
            "Requirement already satisfied: scikit-learn>=0.18 in /usr/local/lib/python3.7/dist-packages (from scikit-plot) (1.0.2)\n",
            "Requirement already satisfied: scipy>=0.9 in /usr/local/lib/python3.7/dist-packages (from scikit-plot) (1.7.3)\n",
            "Requirement already satisfied: joblib>=0.10 in /usr/local/lib/python3.7/dist-packages (from scikit-plot) (1.1.0)\n",
            "Requirement already satisfied: matplotlib>=1.4.0 in /usr/local/lib/python3.7/dist-packages (from scikit-plot) (3.2.2)\n",
            "Requirement already satisfied: kiwisolver>=1.0.1 in /usr/local/lib/python3.7/dist-packages (from matplotlib>=1.4.0->scikit-plot) (1.4.4)\n",
            "Requirement already satisfied: numpy>=1.11 in /usr/local/lib/python3.7/dist-packages (from matplotlib>=1.4.0->scikit-plot) (1.21.6)\n",
            "Requirement already satisfied: cycler>=0.10 in /usr/local/lib/python3.7/dist-packages (from matplotlib>=1.4.0->scikit-plot) (0.11.0)\n",
            "Requirement already satisfied: pyparsing!=2.0.4,!=2.1.2,!=2.1.6,>=2.0.1 in /usr/local/lib/python3.7/dist-packages (from matplotlib>=1.4.0->scikit-plot) (3.0.9)\n",
            "Requirement already satisfied: python-dateutil>=2.1 in /usr/local/lib/python3.7/dist-packages (from matplotlib>=1.4.0->scikit-plot) (2.8.2)\n",
            "Requirement already satisfied: typing-extensions in /usr/local/lib/python3.7/dist-packages (from kiwisolver>=1.0.1->matplotlib>=1.4.0->scikit-plot) (4.1.1)\n",
            "Requirement already satisfied: six>=1.5 in /usr/local/lib/python3.7/dist-packages (from python-dateutil>=2.1->matplotlib>=1.4.0->scikit-plot) (1.15.0)\n",
            "Requirement already satisfied: threadpoolctl>=2.0.0 in /usr/local/lib/python3.7/dist-packages (from scikit-learn>=0.18->scikit-plot) (3.1.0)\n",
            "Installing collected packages: scikit-plot\n",
            "Successfully installed scikit-plot-0.3.7\n"
          ]
        }
      ]
    },
    {
      "cell_type": "code",
      "source": [
        "# Libreria gráfica\n",
        "import scikitplot as skplt\n",
        "\n",
        "# Algoritmos\n",
        "from sklearn.neighbors import KNeighborsClassifier\n",
        "from sklearn.ensemble import RandomForestClassifier\n",
        "from sklearn.tree import DecisionTreeClassifier, plot_tree\n",
        "\n",
        "# Métricas\n",
        "from sklearn.metrics import accuracy_score, classification_report\n",
        "#from sklearn.metrics import accuracy_score, roc_auc_score, roc_curve, classification_report"
      ],
      "metadata": {
        "id": "mYhgAhgsWzRk"
      },
      "execution_count": null,
      "outputs": []
    },
    {
      "cell_type": "markdown",
      "source": [
        "**Primer algoritmo: KNN**"
      ],
      "metadata": {
        "id": "8vGDl6SOWHuW"
      }
    },
    {
      "cell_type": "code",
      "source": [
        "knn = KNeighborsClassifier(n_neighbors=2) \n",
        "knn.fit(X_train, y_train)  \n",
        "y_pred_knn = knn.predict(X_test) \n",
        "y_pred_prob_knn = knn.predict_proba(X_test)[:, 1]\n",
        "\n",
        "skplt.metrics.plot_confusion_matrix(y_test, y_pred_knn, figsize=(6,6), cmap= 'YlGnBu');\n",
        "\n",
        "print('Accuracy:', accuracy_score(y_test, y_pred_knn))\n",
        "#print('ROC AUC Score:', roc_auc_score(y_test, y_pred_prob_knn)) "
      ],
      "metadata": {
        "id": "u8SrXZxq85lR",
        "colab": {
          "base_uri": "https://localhost:8080/",
          "height": 376
        },
        "outputId": "9b85bc42-0632-4b1d-dc71-6a3c4bff2c6e"
      },
      "execution_count": null,
      "outputs": [
        {
          "output_type": "stream",
          "name": "stdout",
          "text": [
            "Accuracy: 0.9963268592130422\n"
          ]
        },
        {
          "output_type": "display_data",
          "data": {
            "text/plain": [
              "<Figure size 432x432 with 2 Axes>"
            ],
            "image/png": "[encoded data removed]"
          },
          "metadata": {
            "needs_background": "light"
          }
        }
      ]
    },
    {
      "cell_type": "markdown",
      "source": [
        "**Segundo algoritmo: Random Forest**"
      ],
      "metadata": {
        "id": "yqEgAtfnXn8x"
      }
    },
    {
      "cell_type": "code",
      "source": [
        "rf = RandomForestClassifier(n_estimators=100)\n",
        "rf.fit(X_train, y_train) \n",
        "y_pred_rf = rf.predict(X_test) \n",
        "y_pred_prob_rf = rf.predict_proba(X_test)[:, 1]\n",
        "\n",
        "skplt.metrics.plot_confusion_matrix(y_test, y_pred_rf, figsize=(6,6), cmap= 'YlGnBu');\n",
        "print('Accuracy:', accuracy_score(y_test, y_pred_rf))\n",
        "#print('ROC AUC Score:', roc_auc_score(y_test, y_pred_prob_rf))"
      ],
      "metadata": {
        "colab": {
          "base_uri": "https://localhost:8080/",
          "height": 380
        },
        "id": "YpnshZkWYADX",
        "outputId": "f89ee76c-4dd7-42c7-8bf5-aec4f711c926"
      },
      "execution_count": null,
      "outputs": [
        {
          "output_type": "stream",
          "name": "stdout",
          "text": [
            "Accuracy: 0.9994465130321022\n"
          ]
        },
        {
          "output_type": "display_data",
          "data": {
            "text/plain": [
              "<Figure size 432x432 with 2 Axes>"
            ],
            "image/png": "[encoded data removed]"
          },
          "metadata": {
            "needs_background": "light"
          }
        }
      ]
    },
    {
      "cell_type": "markdown",
      "source": [
        "**Tercer algoritmo: Decision Tree**"
      ],
      "metadata": {
        "id": "V4VgCNTkX13d"
      }
    },
    {
      "cell_type": "code",
      "source": [
        "dtc = DecisionTreeClassifier(criterion='entropy', max_depth=3) \n",
        "dtc.fit(X_train, y_train)\n",
        "y_pred_dtc = dtc.predict(X_test) \n",
        "y_pred_prob_dtc = dtc.predict_proba(X_test)[:, 1]\n",
        "\n",
        "skplt.metrics.plot_confusion_matrix(y_test, y_pred_dtc, figsize=(6,6), cmap= 'YlGnBu');\n",
        "print('Accuracy:', accuracy_score(y_test, y_pred_dtc))\n",
        "#print('ROC AUC Score:', roc_auc_score(y_test, y_pred_prob_dtc))"
      ],
      "metadata": {
        "colab": {
          "base_uri": "https://localhost:8080/",
          "height": 376
        },
        "id": "10TM0wmdYQ7F",
        "outputId": "9de0f55c-cc82-4381-eb85-2b2973c36a9a"
      },
      "execution_count": null,
      "outputs": [
        {
          "output_type": "stream",
          "name": "stdout",
          "text": [
            "Accuracy: 0.8951896950789977\n"
          ]
        },
        {
          "output_type": "display_data",
          "data": {
            "text/plain": [
              "<Figure size 432x432 with 2 Axes>"
            ],
            "image/png": "[encoded data removed]"
          },
          "metadata": {
            "needs_background": "light"
          }
        }
      ]
    },
    {
      "cell_type": "markdown",
      "source": [
        "#### **Calculo las métricas para cada uno de los algoritmos**"
      ],
      "metadata": {
        "id": "8mBBP8kv3sbs"
      }
    },
    {
      "cell_type": "markdown",
      "source": [
        "**Métricas para KNN**"
      ],
      "metadata": {
        "id": "u-qy4ah2ZK8l"
      }
    },
    {
      "cell_type": "code",
      "source": [
        "print(classification_report(y_test, y_pred_knn)) "
      ],
      "metadata": {
        "colab": {
          "base_uri": "https://localhost:8080/"
        },
        "id": "8fr0uGfUYsLA",
        "outputId": "07779586-318c-4327-a81b-d64da8787108"
      },
      "execution_count": null,
      "outputs": [
        {
          "output_type": "stream",
          "name": "stdout",
          "text": [
            "              precision    recall  f1-score   support\n",
            "\n",
            "           0       1.00      1.00      1.00     19767\n",
            "           1       1.00      1.00      1.00     19981\n",
            "\n",
            "    accuracy                           1.00     39748\n",
            "   macro avg       1.00      1.00      1.00     39748\n",
            "weighted avg       1.00      1.00      1.00     39748\n",
            "\n"
          ]
        }
      ]
    },
    {
      "cell_type": "markdown",
      "source": [
        "**Métricas para Random Forest**"
      ],
      "metadata": {
        "id": "5mumAFWhZXO0"
      }
    },
    {
      "cell_type": "code",
      "source": [
        "print(classification_report(y_test, y_pred_rf)) "
      ],
      "metadata": {
        "colab": {
          "base_uri": "https://localhost:8080/"
        },
        "id": "MNJRzwmjZBnI",
        "outputId": "5d213943-4dfd-4efc-80d7-9ea644216b95"
      },
      "execution_count": null,
      "outputs": [
        {
          "output_type": "stream",
          "name": "stdout",
          "text": [
            "              precision    recall  f1-score   support\n",
            "\n",
            "           0       1.00      1.00      1.00     19767\n",
            "           1       1.00      1.00      1.00     19981\n",
            "\n",
            "    accuracy                           1.00     39748\n",
            "   macro avg       1.00      1.00      1.00     39748\n",
            "weighted avg       1.00      1.00      1.00     39748\n",
            "\n"
          ]
        }
      ]
    },
    {
      "cell_type": "markdown",
      "source": [
        "**Métricas para Decision Tree**"
      ],
      "metadata": {
        "id": "gOThaPqFZatg"
      }
    },
    {
      "cell_type": "code",
      "source": [
        "print(classification_report(y_test, y_pred_dtc)) "
      ],
      "metadata": {
        "colab": {
          "base_uri": "https://localhost:8080/"
        },
        "id": "bOtDHQlqZG7C",
        "outputId": "66f8b64a-ae4d-451c-82af-e75e8383620b"
      },
      "execution_count": null,
      "outputs": [
        {
          "output_type": "stream",
          "name": "stdout",
          "text": [
            "              precision    recall  f1-score   support\n",
            "\n",
            "           0       0.83      0.99      0.90     19767\n",
            "           1       0.98      0.81      0.89     19981\n",
            "\n",
            "    accuracy                           0.90     39748\n",
            "   macro avg       0.91      0.90      0.89     39748\n",
            "weighted avg       0.91      0.90      0.89     39748\n",
            "\n"
          ]
        }
      ]
    },
    {
      "cell_type": "markdown",
      "source": [
        "#### **Concluciones y evaluaciones de los algoritmos seleccionados**"
      ],
      "metadata": {
        "id": "HMu7sCTD3xp8"
      }
    },
    {
      "cell_type": "markdown",
      "source": [
        "Como se puede observar de la métricas, los mejores resultados se los obtiene KNN y de Random Forest pero lo que llama la atención es que los mismos tiene un 100 % de probabilidad en todas las métricas, habria que revisar hasta que punto con menos variables siguen teniendo ese rendimiento, ya que podría darse un caso de overfitting. Para el caso de Arboles de desición se observa que el mismo tiene un rendimiento más pobre."
      ],
      "metadata": {
        "id": "uqyT2nD1Zdiy"
      }
    }
  ]
}