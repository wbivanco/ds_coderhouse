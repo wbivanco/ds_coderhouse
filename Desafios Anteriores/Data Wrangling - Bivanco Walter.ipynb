{
 "cells": [
  {
   "cell_type": "markdown",
   "metadata": {
    "id": "91Ro-XjUxVBP"
   },
   "source": [
    "# Data Wringling"
   ]
  },
  {
   "cell_type": "markdown",
   "metadata": {
    "id": "GRhRjhnBxafQ"
   },
   "source": [
    "## Dataset: Contagiados COVID 19 - Temática: Salud "
   ]
  },
  {
   "cell_type": "markdown",
   "metadata": {
    "id": "Lq0DHICrxm26"
   },
   "source": [
    "#### Objetivo\n",
    "Con los datos históricos que se posee acerca de los contagiados en la República Argentina, ¿hay indicios que demuestren que hay alguna correlación entre alguna de las variables y el fallecimiento de un contagiado?\n",
    "\n",
    "#### Contexto del negocio\n",
    "El año 2019 comenzaron los contagios de COVID-19, al momento que la misma se convirtió en un pandemia paso a ser un tema de suma importancia para los paises, apartir de ese instante se comenzó a llevar registro de los contagios, en el caso particular de la Argentina, toda esa información fue administrada por el gobierno nacional atraves de un sistema de carga de esa data. Dichos datos fueron disponibilizados para que el público en general pueda acceder y descargar los mismos.\n",
    "\n",
    "#### Problema del negocio\n",
    "A la información recavada por parte del gobierno nacional se la pretende poder utilizar para poder llevar a cabo la toma de decisiones estratégicas.\n",
    "\n",
    "#### Contexto analítico\n",
    "El dataset que es utilizado en el notebook tiene como temática la salud, el mismo fué descargado de https://www.datos.gob.ar que es el sitio oficial del gobierno de la República Argentina. Dentro del sitio luego de un análisis se decidio descargar la información de los contagiados de la Republica Argentina. Es un único archivo en formato CSV."
   ]
  },
  {
   "cell_type": "markdown",
   "metadata": {
    "id": "124eXf0fxxOh"
   },
   "source": [
    "##### i) Abstract:\n",
    "El dataset almacena el listado de los contagiados de COVID-19 en la República Argentina desde el 01/03/2020 hasta el 04/06/2022, dicho dataset tiene una cantidad de 105.916.221 registros de los cuales seleccione los primeros 100.000 registros por lo tanto hay variables como las fechas que solo muestran un periodo muy corto.\n",
    "\n",
    "El dataset lleva el registro de los contagios de COVID-19 que se produjeron en Argentina, dentro de información de maneja se puede mencionar que posee 17 campos entre los que se destacan los siguientes:\n",
    "\n",
    "- id_evento_caso = es el número de caso, debido a que solo trabajamos con una parte de datasets, no será información muy útil.\n",
    "- sexo\n",
    "- edad\n",
    "- residencia_provincia_nombre = es la provincia de residencia de la persona, aquí hay que aclarar que Buenos Aires y CABA pertenecen a la misma provincia que es Buenos Aires, pero hacen la diferencia entre interior(Buenos Aires) y capital(CABA).\n",
    "- origen_financiamiento = indica si el análisis clínico fue realizado en la parte pública o privada.\n",
    "- residencia_departemento_nombre = me indica el departamento de residencia de la persona cargado; este es un campo que no se tiene mucho en cuenta por que tiene mucha información sucia, como datos sin especificar, valores ficticios, etc.\n",
    "- Hay casos de datos de tipos fecha que tienen muchos registros no cargados, como fecha_inicio_sintomas o fecha de fallecimiento, en este último caso evidencian que son para las personas que no han fallecido por causas del COVID-19.\n",
    "\n"
   ]
  },
  {
   "cell_type": "markdown",
   "metadata": {
    "id": "NVgNNlcQU3Dk"
   },
   "source": [
    "\n",
    "\n",
    "##### ii) Pregunta / Hipótesis\n",
    "* Hay más mujeres que hombres que se contagiaron de covid en el periodo seleccionado.\n",
    "\n",
    "* Se desea saber cómo es la proporción de contagios con respecto a las provincias."
   ]
  },
  {
   "cell_type": "markdown",
   "metadata": {
    "id": "cF5z7LIlx17w"
   },
   "source": [
    "##### iii) EDA"
   ]
  },
  {
   "cell_type": "code",
   "execution_count": 1,
   "metadata": {
    "id": "SqhvEKqwVLw-"
   },
   "outputs": [],
   "source": [
    "import pandas as pd\n",
    "\n",
    "# Librerías gráficas\n",
    "import matplotlib as mpl\n",
    "import matplotlib.pyplot as plt\n",
    "import seaborn as sns"
   ]
  },
  {
   "cell_type": "code",
   "execution_count": 2,
   "metadata": {
    "colab": {
     "base_uri": "https://localhost:8080/",
     "height": 300
    },
    "id": "gT2zMWQex3b3",
    "outputId": "58b7d117-058f-465e-ce23-3a93e174be74"
   },
   "outputs": [
    {
     "data": {
      "text/html": [
       "<div>\n",
       "<style scoped>\n",
       "    .dataframe tbody tr th:only-of-type {\n",
       "        vertical-align: middle;\n",
       "    }\n",
       "\n",
       "    .dataframe tbody tr th {\n",
       "        vertical-align: top;\n",
       "    }\n",
       "\n",
       "    .dataframe thead th {\n",
       "        text-align: right;\n",
       "    }\n",
       "</style>\n",
       "<table border=\"1\" class=\"dataframe\">\n",
       "  <thead>\n",
       "    <tr style=\"text-align: right;\">\n",
       "      <th></th>\n",
       "      <th>id_evento_caso</th>\n",
       "      <th>sexo</th>\n",
       "      <th>edad</th>\n",
       "      <th>edad_años_meses</th>\n",
       "      <th>residencia_pais_nombre</th>\n",
       "      <th>residencia_provincia_nombre</th>\n",
       "      <th>residencia_departamento_nombre</th>\n",
       "      <th>carga_provincia_nombre</th>\n",
       "      <th>fecha_inicio_sintomas</th>\n",
       "      <th>fecha_apertura</th>\n",
       "      <th>...</th>\n",
       "      <th>fecha_fallecimiento</th>\n",
       "      <th>asistencia_respiratoria_mecanica</th>\n",
       "      <th>carga_provincia_id</th>\n",
       "      <th>origen_financiamiento</th>\n",
       "      <th>clasificacion</th>\n",
       "      <th>clasificacion_resumen</th>\n",
       "      <th>residencia_provincia_id</th>\n",
       "      <th>fecha_diagnostico</th>\n",
       "      <th>residencia_departamento_id</th>\n",
       "      <th>ultima_actualizacion</th>\n",
       "    </tr>\n",
       "  </thead>\n",
       "  <tbody>\n",
       "    <tr>\n",
       "      <th>0</th>\n",
       "      <td>1000000</td>\n",
       "      <td>M</td>\n",
       "      <td>55.0</td>\n",
       "      <td>Años</td>\n",
       "      <td>Argentina</td>\n",
       "      <td>CABA</td>\n",
       "      <td>SIN ESPECIFICAR</td>\n",
       "      <td>Buenos Aires</td>\n",
       "      <td>NaN</td>\n",
       "      <td>2020-06-01</td>\n",
       "      <td>...</td>\n",
       "      <td>NaN</td>\n",
       "      <td>NO</td>\n",
       "      <td>6</td>\n",
       "      <td>Privado</td>\n",
       "      <td>Caso Descartado</td>\n",
       "      <td>Descartado</td>\n",
       "      <td>2</td>\n",
       "      <td>2020-06-09</td>\n",
       "      <td>0</td>\n",
       "      <td>2022-06-05</td>\n",
       "    </tr>\n",
       "    <tr>\n",
       "      <th>1</th>\n",
       "      <td>10000000</td>\n",
       "      <td>F</td>\n",
       "      <td>53.0</td>\n",
       "      <td>Años</td>\n",
       "      <td>Argentina</td>\n",
       "      <td>CABA</td>\n",
       "      <td>SIN ESPECIFICAR</td>\n",
       "      <td>CABA</td>\n",
       "      <td>NaN</td>\n",
       "      <td>2021-04-08</td>\n",
       "      <td>...</td>\n",
       "      <td>NaN</td>\n",
       "      <td>NO</td>\n",
       "      <td>2</td>\n",
       "      <td>Público</td>\n",
       "      <td>Caso Descartado</td>\n",
       "      <td>Descartado</td>\n",
       "      <td>2</td>\n",
       "      <td>2021-04-08</td>\n",
       "      <td>0</td>\n",
       "      <td>2022-06-05</td>\n",
       "    </tr>\n",
       "    <tr>\n",
       "      <th>2</th>\n",
       "      <td>10000001</td>\n",
       "      <td>F</td>\n",
       "      <td>23.0</td>\n",
       "      <td>Años</td>\n",
       "      <td>Argentina</td>\n",
       "      <td>Buenos Aires</td>\n",
       "      <td>Lomas de Zamora</td>\n",
       "      <td>Buenos Aires</td>\n",
       "      <td>2021-04-05</td>\n",
       "      <td>2021-04-08</td>\n",
       "      <td>...</td>\n",
       "      <td>NaN</td>\n",
       "      <td>NO</td>\n",
       "      <td>6</td>\n",
       "      <td>Público</td>\n",
       "      <td>Caso Descartado</td>\n",
       "      <td>Descartado</td>\n",
       "      <td>6</td>\n",
       "      <td>2021-04-08</td>\n",
       "      <td>490</td>\n",
       "      <td>2022-06-05</td>\n",
       "    </tr>\n",
       "    <tr>\n",
       "      <th>3</th>\n",
       "      <td>10000002</td>\n",
       "      <td>F</td>\n",
       "      <td>45.0</td>\n",
       "      <td>Años</td>\n",
       "      <td>Argentina</td>\n",
       "      <td>Buenos Aires</td>\n",
       "      <td>La Matanza</td>\n",
       "      <td>CABA</td>\n",
       "      <td>NaN</td>\n",
       "      <td>2021-04-08</td>\n",
       "      <td>...</td>\n",
       "      <td>NaN</td>\n",
       "      <td>NO</td>\n",
       "      <td>2</td>\n",
       "      <td>Público</td>\n",
       "      <td>Caso Descartado</td>\n",
       "      <td>Descartado</td>\n",
       "      <td>6</td>\n",
       "      <td>2021-04-06</td>\n",
       "      <td>427</td>\n",
       "      <td>2022-06-05</td>\n",
       "    </tr>\n",
       "    <tr>\n",
       "      <th>4</th>\n",
       "      <td>10000003</td>\n",
       "      <td>F</td>\n",
       "      <td>34.0</td>\n",
       "      <td>Años</td>\n",
       "      <td>Argentina</td>\n",
       "      <td>CABA</td>\n",
       "      <td>COMUNA 01</td>\n",
       "      <td>CABA</td>\n",
       "      <td>NaN</td>\n",
       "      <td>2021-04-08</td>\n",
       "      <td>...</td>\n",
       "      <td>NaN</td>\n",
       "      <td>NO</td>\n",
       "      <td>2</td>\n",
       "      <td>Público</td>\n",
       "      <td>Caso Descartado</td>\n",
       "      <td>Descartado</td>\n",
       "      <td>2</td>\n",
       "      <td>2021-04-08</td>\n",
       "      <td>1</td>\n",
       "      <td>2022-06-05</td>\n",
       "    </tr>\n",
       "  </tbody>\n",
       "</table>\n",
       "<p>5 rows × 25 columns</p>\n",
       "</div>"
      ],
      "text/plain": [
       "   id_evento_caso sexo  edad edad_años_meses residencia_pais_nombre  \\\n",
       "0         1000000    M  55.0            Años              Argentina   \n",
       "1        10000000    F  53.0            Años              Argentina   \n",
       "2        10000001    F  23.0            Años              Argentina   \n",
       "3        10000002    F  45.0            Años              Argentina   \n",
       "4        10000003    F  34.0            Años              Argentina   \n",
       "\n",
       "  residencia_provincia_nombre residencia_departamento_nombre  \\\n",
       "0                        CABA                SIN ESPECIFICAR   \n",
       "1                        CABA                SIN ESPECIFICAR   \n",
       "2                Buenos Aires                Lomas de Zamora   \n",
       "3                Buenos Aires                     La Matanza   \n",
       "4                        CABA                      COMUNA 01   \n",
       "\n",
       "  carga_provincia_nombre fecha_inicio_sintomas fecha_apertura  ...  \\\n",
       "0           Buenos Aires                   NaN     2020-06-01  ...   \n",
       "1                   CABA                   NaN     2021-04-08  ...   \n",
       "2           Buenos Aires            2021-04-05     2021-04-08  ...   \n",
       "3                   CABA                   NaN     2021-04-08  ...   \n",
       "4                   CABA                   NaN     2021-04-08  ...   \n",
       "\n",
       "   fecha_fallecimiento asistencia_respiratoria_mecanica carga_provincia_id  \\\n",
       "0                  NaN                               NO                  6   \n",
       "1                  NaN                               NO                  2   \n",
       "2                  NaN                               NO                  6   \n",
       "3                  NaN                               NO                  2   \n",
       "4                  NaN                               NO                  2   \n",
       "\n",
       "  origen_financiamiento    clasificacion clasificacion_resumen  \\\n",
       "0               Privado  Caso Descartado            Descartado   \n",
       "1               Público  Caso Descartado            Descartado   \n",
       "2               Público  Caso Descartado            Descartado   \n",
       "3               Público  Caso Descartado            Descartado   \n",
       "4               Público  Caso Descartado            Descartado   \n",
       "\n",
       "  residencia_provincia_id  fecha_diagnostico residencia_departamento_id  \\\n",
       "0                       2         2020-06-09                          0   \n",
       "1                       2         2021-04-08                          0   \n",
       "2                       6         2021-04-08                        490   \n",
       "3                       6         2021-04-06                        427   \n",
       "4                       2         2021-04-08                          1   \n",
       "\n",
       "  ultima_actualizacion  \n",
       "0           2022-06-05  \n",
       "1           2022-06-05  \n",
       "2           2022-06-05  \n",
       "3           2022-06-05  \n",
       "4           2022-06-05  \n",
       "\n",
       "[5 rows x 25 columns]"
      ]
     },
     "execution_count": 2,
     "metadata": {},
     "output_type": "execute_result"
    }
   ],
   "source": [
    "url = 'https://docs.google.com/spreadsheets/d/1Y1XbymFFNfLCdTjDT64oIMVw1YE4x5TdlzK2eyCWoDM/export?format=csv&gid=1022416023'\n",
    "\n",
    "df = pd.read_csv(url)\n",
    "\n",
    "df.head()"
   ]
  },
  {
   "cell_type": "code",
   "execution_count": 3,
   "metadata": {
    "colab": {
     "base_uri": "https://localhost:8080/"
    },
    "id": "aWX4bofY2fu3",
    "outputId": "8234ec3d-7eff-416c-e61d-4fe577e2003b"
   },
   "outputs": [
    {
     "data": {
      "text/plain": [
       "(100000, 25)"
      ]
     },
     "execution_count": 3,
     "metadata": {},
     "output_type": "execute_result"
    }
   ],
   "source": [
    "df.shape"
   ]
  },
  {
   "cell_type": "code",
   "execution_count": 5,
   "metadata": {
    "colab": {
     "base_uri": "https://localhost:8080/"
    },
    "id": "N8S6pwib2gtH",
    "outputId": "0c659122-28f4-4848-a233-c6c79e5f6dd0"
   },
   "outputs": [
    {
     "data": {
      "text/plain": [
       "Index(['id_evento_caso', 'sexo', 'edad', 'edad_años_meses',\n",
       "       'residencia_pais_nombre', 'residencia_provincia_nombre',\n",
       "       'residencia_departamento_nombre', 'carga_provincia_nombre',\n",
       "       'fecha_inicio_sintomas', 'fecha_apertura', 'sepi_apertura',\n",
       "       'fecha_internacion', 'cuidado_intensivo', 'fecha_cui_intensivo',\n",
       "       'fallecido', 'fecha_fallecimiento', 'asistencia_respiratoria_mecanica',\n",
       "       'carga_provincia_id', 'origen_financiamiento', 'clasificacion',\n",
       "       'clasificacion_resumen', 'residencia_provincia_id', 'fecha_diagnostico',\n",
       "       'residencia_departamento_id', 'ultima_actualizacion'],\n",
       "      dtype='object')"
      ]
     },
     "execution_count": 5,
     "metadata": {},
     "output_type": "execute_result"
    }
   ],
   "source": [
    "df.columns"
   ]
  },
  {
   "cell_type": "code",
   "execution_count": 6,
   "metadata": {
    "colab": {
     "base_uri": "https://localhost:8080/"
    },
    "id": "ZQ5GLXaL2k6J",
    "outputId": "e1b1789c-d979-44b2-ad30-07e8862d9f52"
   },
   "outputs": [
    {
     "name": "stdout",
     "output_type": "stream",
     "text": [
      "<class 'pandas.core.frame.DataFrame'>\n",
      "RangeIndex: 100000 entries, 0 to 99999\n",
      "Data columns (total 25 columns):\n",
      " #   Column                            Non-Null Count   Dtype  \n",
      "---  ------                            --------------   -----  \n",
      " 0   id_evento_caso                    100000 non-null  int64  \n",
      " 1   sexo                              100000 non-null  object \n",
      " 2   edad                              99970 non-null   float64\n",
      " 3   edad_años_meses                   100000 non-null  object \n",
      " 4   residencia_pais_nombre            100000 non-null  object \n",
      " 5   residencia_provincia_nombre       100000 non-null  object \n",
      " 6   residencia_departamento_nombre    100000 non-null  object \n",
      " 7   carga_provincia_nombre            100000 non-null  object \n",
      " 8   fecha_inicio_sintomas             36418 non-null   object \n",
      " 9   fecha_apertura                    100000 non-null  object \n",
      " 10  sepi_apertura                     100000 non-null  int64  \n",
      " 11  fecha_internacion                 2658 non-null    object \n",
      " 12  cuidado_intensivo                 100000 non-null  object \n",
      " 13  fecha_cui_intensivo               514 non-null     object \n",
      " 14  fallecido                         100000 non-null  object \n",
      " 15  fecha_fallecimiento               630 non-null     object \n",
      " 16  asistencia_respiratoria_mecanica  100000 non-null  object \n",
      " 17  carga_provincia_id                100000 non-null  int64  \n",
      " 18  origen_financiamiento             100000 non-null  object \n",
      " 19  clasificacion                     100000 non-null  object \n",
      " 20  clasificacion_resumen             100000 non-null  object \n",
      " 21  residencia_provincia_id           100000 non-null  int64  \n",
      " 22  fecha_diagnostico                 93689 non-null   object \n",
      " 23  residencia_departamento_id        100000 non-null  int64  \n",
      " 24  ultima_actualizacion              100000 non-null  object \n",
      "dtypes: float64(1), int64(5), object(19)\n",
      "memory usage: 19.1+ MB\n"
     ]
    }
   ],
   "source": [
    "df.info()"
   ]
  },
  {
   "cell_type": "code",
   "execution_count": 7,
   "metadata": {
    "colab": {
     "base_uri": "https://localhost:8080/",
     "height": 300
    },
    "id": "Mn0ZjBR92nU4",
    "outputId": "7f3504dc-6ff3-471b-db76-fa56c35244ee"
   },
   "outputs": [
    {
     "data": {
      "text/html": [
       "<div>\n",
       "<style scoped>\n",
       "    .dataframe tbody tr th:only-of-type {\n",
       "        vertical-align: middle;\n",
       "    }\n",
       "\n",
       "    .dataframe tbody tr th {\n",
       "        vertical-align: top;\n",
       "    }\n",
       "\n",
       "    .dataframe thead th {\n",
       "        text-align: right;\n",
       "    }\n",
       "</style>\n",
       "<table border=\"1\" class=\"dataframe\">\n",
       "  <thead>\n",
       "    <tr style=\"text-align: right;\">\n",
       "      <th></th>\n",
       "      <th>id_evento_caso</th>\n",
       "      <th>edad</th>\n",
       "      <th>sepi_apertura</th>\n",
       "      <th>carga_provincia_id</th>\n",
       "      <th>residencia_provincia_id</th>\n",
       "      <th>residencia_departamento_id</th>\n",
       "    </tr>\n",
       "  </thead>\n",
       "  <tbody>\n",
       "    <tr>\n",
       "      <th>count</th>\n",
       "      <td>1.000000e+05</td>\n",
       "      <td>99970.000000</td>\n",
       "      <td>100000.000000</td>\n",
       "      <td>100000.000000</td>\n",
       "      <td>100000.000000</td>\n",
       "      <td>100000.00000</td>\n",
       "    </tr>\n",
       "    <tr>\n",
       "      <th>mean</th>\n",
       "      <td>9.375346e+06</td>\n",
       "      <td>38.579594</td>\n",
       "      <td>14.669870</td>\n",
       "      <td>22.348080</td>\n",
       "      <td>23.366560</td>\n",
       "      <td>204.02063</td>\n",
       "    </tr>\n",
       "    <tr>\n",
       "      <th>std</th>\n",
       "      <td>2.373808e+06</td>\n",
       "      <td>17.447920</td>\n",
       "      <td>2.362236</td>\n",
       "      <td>28.592709</td>\n",
       "      <td>28.796844</td>\n",
       "      <td>253.71888</td>\n",
       "    </tr>\n",
       "    <tr>\n",
       "      <th>min</th>\n",
       "      <td>1.000000e+06</td>\n",
       "      <td>1.000000</td>\n",
       "      <td>14.000000</td>\n",
       "      <td>2.000000</td>\n",
       "      <td>2.000000</td>\n",
       "      <td>0.00000</td>\n",
       "    </tr>\n",
       "    <tr>\n",
       "      <th>25%</th>\n",
       "      <td>1.001848e+07</td>\n",
       "      <td>26.000000</td>\n",
       "      <td>14.000000</td>\n",
       "      <td>2.000000</td>\n",
       "      <td>6.000000</td>\n",
       "      <td>14.00000</td>\n",
       "    </tr>\n",
       "    <tr>\n",
       "      <th>50%</th>\n",
       "      <td>1.004438e+07</td>\n",
       "      <td>37.000000</td>\n",
       "      <td>14.000000</td>\n",
       "      <td>6.000000</td>\n",
       "      <td>6.000000</td>\n",
       "      <td>84.00000</td>\n",
       "    </tr>\n",
       "    <tr>\n",
       "      <th>75%</th>\n",
       "      <td>1.007070e+07</td>\n",
       "      <td>50.000000</td>\n",
       "      <td>14.000000</td>\n",
       "      <td>30.000000</td>\n",
       "      <td>34.000000</td>\n",
       "      <td>410.00000</td>\n",
       "    </tr>\n",
       "    <tr>\n",
       "      <th>max</th>\n",
       "      <td>1.009716e+07</td>\n",
       "      <td>222.000000</td>\n",
       "      <td>23.000000</td>\n",
       "      <td>94.000000</td>\n",
       "      <td>99.000000</td>\n",
       "      <td>882.00000</td>\n",
       "    </tr>\n",
       "  </tbody>\n",
       "</table>\n",
       "</div>"
      ],
      "text/plain": [
       "       id_evento_caso          edad  sepi_apertura  carga_provincia_id  \\\n",
       "count    1.000000e+05  99970.000000  100000.000000       100000.000000   \n",
       "mean     9.375346e+06     38.579594      14.669870           22.348080   \n",
       "std      2.373808e+06     17.447920       2.362236           28.592709   \n",
       "min      1.000000e+06      1.000000      14.000000            2.000000   \n",
       "25%      1.001848e+07     26.000000      14.000000            2.000000   \n",
       "50%      1.004438e+07     37.000000      14.000000            6.000000   \n",
       "75%      1.007070e+07     50.000000      14.000000           30.000000   \n",
       "max      1.009716e+07    222.000000      23.000000           94.000000   \n",
       "\n",
       "       residencia_provincia_id  residencia_departamento_id  \n",
       "count            100000.000000                100000.00000  \n",
       "mean                 23.366560                   204.02063  \n",
       "std                  28.796844                   253.71888  \n",
       "min                   2.000000                     0.00000  \n",
       "25%                   6.000000                    14.00000  \n",
       "50%                   6.000000                    84.00000  \n",
       "75%                  34.000000                   410.00000  \n",
       "max                  99.000000                   882.00000  "
      ]
     },
     "execution_count": 7,
     "metadata": {},
     "output_type": "execute_result"
    }
   ],
   "source": [
    "df.describe()"
   ]
  },
  {
   "cell_type": "markdown",
   "metadata": {
    "id": "UWdkvP0MWZjh"
   },
   "source": [
    "###### Proporción de contagios por sexo"
   ]
  },
  {
   "cell_type": "code",
   "execution_count": 8,
   "metadata": {
    "colab": {
     "base_uri": "https://localhost:8080/",
     "height": 268
    },
    "id": "z6lrLjUU2pQT",
    "outputId": "d67e16c2-239f-47e7-d439-9f656dbe55f8"
   },
   "outputs": [
    {
     "data": {
      "text/html": [
       "<div>\n",
       "<style scoped>\n",
       "    .dataframe tbody tr th:only-of-type {\n",
       "        vertical-align: middle;\n",
       "    }\n",
       "\n",
       "    .dataframe tbody tr th {\n",
       "        vertical-align: top;\n",
       "    }\n",
       "\n",
       "    .dataframe thead th {\n",
       "        text-align: right;\n",
       "    }\n",
       "</style>\n",
       "<table border=\"1\" class=\"dataframe\">\n",
       "  <thead>\n",
       "    <tr style=\"text-align: right;\">\n",
       "      <th></th>\n",
       "      <th>id_evento_caso</th>\n",
       "      <th>edad</th>\n",
       "      <th>edad_años_meses</th>\n",
       "      <th>residencia_pais_nombre</th>\n",
       "      <th>residencia_provincia_nombre</th>\n",
       "      <th>residencia_departamento_nombre</th>\n",
       "      <th>carga_provincia_nombre</th>\n",
       "      <th>fecha_inicio_sintomas</th>\n",
       "      <th>fecha_apertura</th>\n",
       "      <th>sepi_apertura</th>\n",
       "      <th>...</th>\n",
       "      <th>fecha_fallecimiento</th>\n",
       "      <th>asistencia_respiratoria_mecanica</th>\n",
       "      <th>carga_provincia_id</th>\n",
       "      <th>origen_financiamiento</th>\n",
       "      <th>clasificacion</th>\n",
       "      <th>clasificacion_resumen</th>\n",
       "      <th>residencia_provincia_id</th>\n",
       "      <th>fecha_diagnostico</th>\n",
       "      <th>residencia_departamento_id</th>\n",
       "      <th>ultima_actualizacion</th>\n",
       "    </tr>\n",
       "    <tr>\n",
       "      <th>sexo</th>\n",
       "      <th></th>\n",
       "      <th></th>\n",
       "      <th></th>\n",
       "      <th></th>\n",
       "      <th></th>\n",
       "      <th></th>\n",
       "      <th></th>\n",
       "      <th></th>\n",
       "      <th></th>\n",
       "      <th></th>\n",
       "      <th></th>\n",
       "      <th></th>\n",
       "      <th></th>\n",
       "      <th></th>\n",
       "      <th></th>\n",
       "      <th></th>\n",
       "      <th></th>\n",
       "      <th></th>\n",
       "      <th></th>\n",
       "      <th></th>\n",
       "      <th></th>\n",
       "    </tr>\n",
       "  </thead>\n",
       "  <tbody>\n",
       "    <tr>\n",
       "      <th>F</th>\n",
       "      <td>52663</td>\n",
       "      <td>52662</td>\n",
       "      <td>52663</td>\n",
       "      <td>52663</td>\n",
       "      <td>52663</td>\n",
       "      <td>52663</td>\n",
       "      <td>52663</td>\n",
       "      <td>19292</td>\n",
       "      <td>52663</td>\n",
       "      <td>52663</td>\n",
       "      <td>...</td>\n",
       "      <td>260</td>\n",
       "      <td>52663</td>\n",
       "      <td>52663</td>\n",
       "      <td>52663</td>\n",
       "      <td>52663</td>\n",
       "      <td>52663</td>\n",
       "      <td>52663</td>\n",
       "      <td>49292</td>\n",
       "      <td>52663</td>\n",
       "      <td>52663</td>\n",
       "    </tr>\n",
       "    <tr>\n",
       "      <th>M</th>\n",
       "      <td>46595</td>\n",
       "      <td>46591</td>\n",
       "      <td>46595</td>\n",
       "      <td>46595</td>\n",
       "      <td>46595</td>\n",
       "      <td>46595</td>\n",
       "      <td>46595</td>\n",
       "      <td>16701</td>\n",
       "      <td>46595</td>\n",
       "      <td>46595</td>\n",
       "      <td>...</td>\n",
       "      <td>363</td>\n",
       "      <td>46595</td>\n",
       "      <td>46595</td>\n",
       "      <td>46595</td>\n",
       "      <td>46595</td>\n",
       "      <td>46595</td>\n",
       "      <td>46595</td>\n",
       "      <td>43769</td>\n",
       "      <td>46595</td>\n",
       "      <td>46595</td>\n",
       "    </tr>\n",
       "    <tr>\n",
       "      <th>NR</th>\n",
       "      <td>742</td>\n",
       "      <td>717</td>\n",
       "      <td>742</td>\n",
       "      <td>742</td>\n",
       "      <td>742</td>\n",
       "      <td>742</td>\n",
       "      <td>742</td>\n",
       "      <td>425</td>\n",
       "      <td>742</td>\n",
       "      <td>742</td>\n",
       "      <td>...</td>\n",
       "      <td>7</td>\n",
       "      <td>742</td>\n",
       "      <td>742</td>\n",
       "      <td>742</td>\n",
       "      <td>742</td>\n",
       "      <td>742</td>\n",
       "      <td>742</td>\n",
       "      <td>628</td>\n",
       "      <td>742</td>\n",
       "      <td>742</td>\n",
       "    </tr>\n",
       "  </tbody>\n",
       "</table>\n",
       "<p>3 rows × 24 columns</p>\n",
       "</div>"
      ],
      "text/plain": [
       "      id_evento_caso   edad  edad_años_meses  residencia_pais_nombre  \\\n",
       "sexo                                                                   \n",
       "F              52663  52662            52663                   52663   \n",
       "M              46595  46591            46595                   46595   \n",
       "NR               742    717              742                     742   \n",
       "\n",
       "      residencia_provincia_nombre  residencia_departamento_nombre  \\\n",
       "sexo                                                                \n",
       "F                           52663                           52663   \n",
       "M                           46595                           46595   \n",
       "NR                            742                             742   \n",
       "\n",
       "      carga_provincia_nombre  fecha_inicio_sintomas  fecha_apertura  \\\n",
       "sexo                                                                  \n",
       "F                      52663                  19292           52663   \n",
       "M                      46595                  16701           46595   \n",
       "NR                       742                    425             742   \n",
       "\n",
       "      sepi_apertura  ...  fecha_fallecimiento  \\\n",
       "sexo                 ...                        \n",
       "F             52663  ...                  260   \n",
       "M             46595  ...                  363   \n",
       "NR              742  ...                    7   \n",
       "\n",
       "      asistencia_respiratoria_mecanica  carga_provincia_id  \\\n",
       "sexo                                                         \n",
       "F                                52663               52663   \n",
       "M                                46595               46595   \n",
       "NR                                 742                 742   \n",
       "\n",
       "      origen_financiamiento  clasificacion  clasificacion_resumen  \\\n",
       "sexo                                                                \n",
       "F                     52663          52663                  52663   \n",
       "M                     46595          46595                  46595   \n",
       "NR                      742            742                    742   \n",
       "\n",
       "      residencia_provincia_id  fecha_diagnostico  residencia_departamento_id  \\\n",
       "sexo                                                                           \n",
       "F                       52663              49292                       52663   \n",
       "M                       46595              43769                       46595   \n",
       "NR                        742                628                         742   \n",
       "\n",
       "      ultima_actualizacion  \n",
       "sexo                        \n",
       "F                    52663  \n",
       "M                    46595  \n",
       "NR                     742  \n",
       "\n",
       "[3 rows x 24 columns]"
      ]
     },
     "execution_count": 8,
     "metadata": {},
     "output_type": "execute_result"
    }
   ],
   "source": [
    "discriminado_por_sexo = df.groupby(\"sexo\").count()\n",
    "\n",
    "discriminado_por_sexo"
   ]
  },
  {
   "cell_type": "code",
   "execution_count": 9,
   "metadata": {
    "colab": {
     "base_uri": "https://localhost:8080/",
     "height": 553
    },
    "id": "PIoTZ4MWWudi",
    "outputId": "179c4dcc-023d-45db-e874-16e5197995f7"
   },
   "outputs": [
    {
     "data": {
      "text/plain": [
       "Text(0.5, 1.0, 'Contagiados por sexo')"
      ]
     },
     "execution_count": 9,
     "metadata": {},
     "output_type": "execute_result"
    },
    {
     "data": {
      "image/png": "[encoded data removed]",
      "text/plain": [
       "<Figure size 1008x648 with 1 Axes>"
      ]
     },
     "metadata": {},
     "output_type": "display_data"
    }
   ],
   "source": [
    "discriminado_por_sexo_id = discriminado_por_sexo.id_evento_caso\n",
    "\n",
    "fig, ax = plt.subplots(figsize=(14, 9))\n",
    "\n",
    "ax.pie(discriminado_por_sexo_id.values, labels=discriminado_por_sexo_id.index, autopct=\"%0.1f %%\")\n",
    "\n",
    "plt.title('Contagiados por sexo')"
   ]
  },
  {
   "cell_type": "markdown",
   "metadata": {
    "id": "Q8dagp1H2u-C"
   },
   "source": [
    "###### Proporción de contagios por provincia de residencia\n",
    "\n",
    "\n"
   ]
  },
  {
   "cell_type": "code",
   "execution_count": 10,
   "metadata": {
    "id": "gmkkxJBZ2sSY"
   },
   "outputs": [],
   "source": [
    "total_por_provincia_todos = df.groupby(\"residencia_provincia_nombre\").count()\n",
    "total_por_provincia = total_por_provincia_todos.id_evento_caso"
   ]
  },
  {
   "cell_type": "code",
   "execution_count": 11,
   "metadata": {
    "colab": {
     "base_uri": "https://localhost:8080/",
     "height": 553
    },
    "id": "uvW9OTlN21XW",
    "outputId": "8794d457-4416-4a36-9ef1-22904e0ebd93"
   },
   "outputs": [
    {
     "data": {
      "text/plain": [
       "Text(0.5, 1.0, 'Cantidad de contagios por provincias')"
      ]
     },
     "execution_count": 11,
     "metadata": {},
     "output_type": "execute_result"
    },
    {
     "data": {
      "image/png": "[encoded data removed]",
      "text/plain": [
       "<Figure size 1008x648 with 1 Axes>"
      ]
     },
     "metadata": {},
     "output_type": "display_data"
    }
   ],
   "source": [
    "fig, ax = plt.subplots(figsize=(14, 9))\n",
    "\n",
    "ax.pie(total_por_provincia.values, labels=total_por_provincia.index, autopct=\"%0.1f %%\")\n",
    "\n",
    "plt.title('Cantidad de contagios por provincias')"
   ]
  },
  {
   "cell_type": "markdown",
   "metadata": {
    "id": "V7d3EHAKZd1f"
   },
   "source": [
    "###### Proporción de contagios por provincia de residencia(sólo las 15 provincias con mas contagios)"
   ]
  },
  {
   "cell_type": "code",
   "execution_count": 12,
   "metadata": {
    "id": "sTVN3Xs725cq"
   },
   "outputs": [],
   "source": [
    "total_por_provincia_15 = total_por_provincia_todos.sort_values('id_evento_caso', ascending=False)[:15]"
   ]
  },
  {
   "cell_type": "code",
   "execution_count": 13,
   "metadata": {
    "colab": {
     "base_uri": "https://localhost:8080/",
     "height": 304
    },
    "id": "x1SyjALB28NB",
    "outputId": "0b84ddb9-634d-49b6-fc34-924a82e182be"
   },
   "outputs": [
    {
     "data": {
      "text/plain": [
       "<AxesSubplot:xlabel='residencia_provincia_nombre', ylabel='id_evento_caso'>"
      ]
     },
     "execution_count": 13,
     "metadata": {},
     "output_type": "execute_result"
    },
    {
     "data": {
      "image/png": "[encoded data removed]",
      "text/plain": [
       "<Figure size 1296x288 with 1 Axes>"
      ]
     },
     "metadata": {},
     "output_type": "display_data"
    }
   ],
   "source": [
    "sns.set_theme(style=\"whitegrid\")\n",
    "\n",
    "f, axs = plt.subplots(nrows=1, ncols=1, figsize=(18, 4))\n",
    "\n",
    "sns.barplot(x=total_por_provincia_15.index, y=total_por_provincia_15.id_evento_caso, data=total_por_provincia_15)"
   ]
  },
  {
   "cell_type": "markdown",
   "metadata": {
    "id": "c9DhSBcx3KM1"
   },
   "source": [
    "##### iv) Recomendaciones"
   ]
  },
  {
   "cell_type": "markdown",
   "metadata": {
    "id": "Zqq8KkQy3Nwx"
   },
   "source": [
    "Las recomendaciones a las que se llegan son la siguientes:\n",
    "\n",
    "- Con respecto a la consulta planteada de saber si hay mayor cantidad de contagios según el sexo, del análisis se desprende los siguiente:\n",
    "Existe una parte de los registros que no posee datos(NR) que es muy ínfima y su suma para algunas de las otras partes no afecta el análisis por lo tanto no la tenemos en cuenta. Si bien se evidencia un mayor porcentaje de varones contagiados ésta diferencia no es tan grande.\n",
    "\n",
    "- De las dos últimas gráficas se observa el mismo fenómeno pero desde distintas perspectivas que Buenos Aires(suma de Buenos Aires y CABA) es por lejos que más registros tiene, esto es algo razonable ya que son las zonas más densamente pobladas de las nación. Para tener una mejor visión de los datos, en el gráfico de barras solo se eligen solo 15 provincias, ya que en el piechart al graficarlas a todas quedaba confusa la gráfica "
   ]
  },
  {
   "cell_type": "markdown",
   "metadata": {
    "id": "IKAfFkm-HCAO"
   },
   "source": [
    "#### **Encoding de variables categóricas**"
   ]
  },
  {
   "cell_type": "code",
   "execution_count": 14,
   "metadata": {
    "id": "etfg5BiDYjbH"
   },
   "outputs": [],
   "source": [
    "import numpy as np\n",
    "from sklearn.model_selection import train_test_split, RandomizedSearchCV\n",
    "from sklearn.preprocessing import LabelEncoder\n",
    "\n",
    "encoder = LabelEncoder()"
   ]
  },
  {
   "cell_type": "code",
   "execution_count": 15,
   "metadata": {
    "colab": {
     "base_uri": "https://localhost:8080/"
    },
    "id": "kkIYzrwAYDgH",
    "outputId": "e3397eda-10d2-4304-c235-6b794ed12183"
   },
   "outputs": [
    {
     "name": "stdout",
     "output_type": "stream",
     "text": [
      "<class 'pandas.core.frame.DataFrame'>\n",
      "RangeIndex: 100000 entries, 0 to 99999\n",
      "Data columns (total 25 columns):\n",
      " #   Column                            Non-Null Count   Dtype  \n",
      "---  ------                            --------------   -----  \n",
      " 0   id_evento_caso                    100000 non-null  int64  \n",
      " 1   sexo                              100000 non-null  object \n",
      " 2   edad                              99970 non-null   float64\n",
      " 3   edad_años_meses                   100000 non-null  object \n",
      " 4   residencia_pais_nombre            100000 non-null  object \n",
      " 5   residencia_provincia_nombre       100000 non-null  object \n",
      " 6   residencia_departamento_nombre    100000 non-null  object \n",
      " 7   carga_provincia_nombre            100000 non-null  object \n",
      " 8   fecha_inicio_sintomas             36418 non-null   object \n",
      " 9   fecha_apertura                    100000 non-null  object \n",
      " 10  sepi_apertura                     100000 non-null  int64  \n",
      " 11  fecha_internacion                 2658 non-null    object \n",
      " 12  cuidado_intensivo                 100000 non-null  object \n",
      " 13  fecha_cui_intensivo               514 non-null     object \n",
      " 14  fallecido                         100000 non-null  object \n",
      " 15  fecha_fallecimiento               630 non-null     object \n",
      " 16  asistencia_respiratoria_mecanica  100000 non-null  object \n",
      " 17  carga_provincia_id                100000 non-null  int64  \n",
      " 18  origen_financiamiento             100000 non-null  object \n",
      " 19  clasificacion                     100000 non-null  object \n",
      " 20  clasificacion_resumen             100000 non-null  object \n",
      " 21  residencia_provincia_id           100000 non-null  int64  \n",
      " 22  fecha_diagnostico                 93689 non-null   object \n",
      " 23  residencia_departamento_id        100000 non-null  int64  \n",
      " 24  ultima_actualizacion              100000 non-null  object \n",
      "dtypes: float64(1), int64(5), object(19)\n",
      "memory usage: 19.1+ MB\n"
     ]
    }
   ],
   "source": [
    "df.info()"
   ]
  },
  {
   "cell_type": "code",
   "execution_count": 16,
   "metadata": {
    "colab": {
     "base_uri": "https://localhost:8080/"
    },
    "id": "qRvKfYChi_zk",
    "outputId": "f9fce1f1-5c6e-4e3f-a910-b4d21f0d2399"
   },
   "outputs": [
    {
     "name": "stdout",
     "output_type": "stream",
     "text": [
      "<class 'pandas.core.frame.DataFrame'>\n",
      "RangeIndex: 100000 entries, 0 to 99999\n",
      "Data columns (total 16 columns):\n",
      " #   Column                               Non-Null Count   Dtype\n",
      "---  ------                               --------------   -----\n",
      " 0   sexo                                 100000 non-null  int32\n",
      " 1   edad                                 100000 non-null  int64\n",
      " 2   residencia_pais_nombre               100000 non-null  int32\n",
      " 3   residencia_provincia_nombre          100000 non-null  int32\n",
      " 4   residencia_departamento_nombre       100000 non-null  int32\n",
      " 5   carga_provincia_nombre               100000 non-null  int32\n",
      " 6   fallecido                            100000 non-null  int32\n",
      " 7   carga_provincia_id                   100000 non-null  int64\n",
      " 8   clasificacion                        100000 non-null  int32\n",
      " 9   clasificacion_resumen                100000 non-null  int32\n",
      " 10  residencia_provincia_id              100000 non-null  int64\n",
      " 11  residencia_departamento_id           100000 non-null  int64\n",
      " 12  sepi_apertura_14                     100000 non-null  uint8\n",
      " 13  asistencia_respiratoria_mecanica_SI  100000 non-null  uint8\n",
      " 14  origen_financiamiento_Público        100000 non-null  uint8\n",
      " 15  cuidado_intensivo_SI                 100000 non-null  uint8\n",
      "dtypes: int32(8), int64(4), uint8(4)\n",
      "memory usage: 6.5 MB\n"
     ]
    }
   ],
   "source": [
    "df1 = df.copy()\n",
    "\n",
    "# Codificación de variables con muchas categorías (Label Encoder): residencia_pais_nombre, residencia_provincia_nombre, residencia_departamento_nombre, carga_provincia_nombre, clasificacion, clasificacion_resumen\n",
    "# Codificación de cada una de las variables que tienen muchas categorías y actualizo el valor en el DataFrame\n",
    "df1['residencia_pais_nombre'] = encoder.fit_transform(df1['residencia_pais_nombre']).astype('int32')\n",
    "df1['residencia_provincia_nombre'] = encoder.fit_transform(df1['residencia_provincia_nombre']).astype('int32')\n",
    "df1['residencia_departamento_nombre'] = encoder.fit_transform(df1['residencia_departamento_nombre']).astype('int32')\n",
    "df1['carga_provincia_nombre'] = encoder.fit_transform(df1['carga_provincia_nombre']).astype('int32')\n",
    "df1['clasificacion'] = encoder.fit_transform(df1['clasificacion']).astype('int32')\n",
    "df1['clasificacion_resumen'] = encoder.fit_transform(df1['clasificacion_resumen']).astype('int32')\n",
    "df1['sexo'] = encoder.fit_transform(df1['sexo']).astype('int32')\n",
    "df1['fallecido'] = encoder.fit_transform(df1['fallecido']).astype('int32')\n",
    "\n",
    "# Codificación de variables con pocas categorías (One Hot Encoder): sepi_apertura, fallecido, asistencia_respiratoria_mecanica, origen_financiamiento, cuidado_intensivo, edad_años_meses\n",
    "df1 = pd.get_dummies(df1, columns=['sepi_apertura', 'asistencia_respiratoria_mecanica', 'origen_financiamiento', 'cuidado_intensivo', 'edad_años_meses'])\n",
    "# Eliminación de columnas contrastantes \n",
    "df1.drop(columns=['sepi_apertura_23', 'asistencia_respiratoria_mecanica_NO', 'origen_financiamiento_Privado', 'cuidado_intensivo_NO', 'edad_años_meses_Años'], inplace=True)  \n",
    "# Eliminación de columnas con referencias a fechas\n",
    "df1.drop(columns=['fecha_inicio_sintomas', 'fecha_apertura', 'fecha_internacion', 'fecha_cui_intensivo', 'fecha_fallecimiento', 'fecha_diagnostico', 'ultima_actualizacion'], inplace=True)  \n",
    "# Eliminación la columna de número de evento que solo es un identificador del registro\n",
    "df1.drop(columns=['id_evento_caso'], inplace=True)  \n",
    "\n",
    "# Elimino los NaN de la columna edad y la casteo a int64\n",
    "df1['edad'].fillna(value=df1['edad'].mean(), inplace=True)\n",
    "df1[\"edad\"] = df1['edad'].astype(np.int64)\n",
    "\n",
    "df1.info()"
   ]
  },
  {
   "cell_type": "markdown",
   "metadata": {
    "id": "vYCz320Ibfb5"
   },
   "source": [
    "#### **Balanceo de la variables de salida(Oversampling)**"
   ]
  },
  {
   "cell_type": "code",
   "execution_count": 17,
   "metadata": {
    "id": "XHghH8Xtcdif"
   },
   "outputs": [],
   "source": [
    "from imblearn.over_sampling import RandomOverSampler\n",
    "from sklearn.model_selection import train_test_split, RandomizedSearchCV"
   ]
  },
  {
   "cell_type": "code",
   "execution_count": 18,
   "metadata": {
    "id": "nLHqO9EEbf4c"
   },
   "outputs": [],
   "source": [
    "oversample = RandomOverSampler(sampling_strategy='minority')  # Hacemos un oversampling para balancear la cantidad de datos target de stroke\n",
    "\n",
    "X = df1.drop(['fallecido'], axis=1) \n",
    "y = df1['fallecido'] \n",
    "\n",
    "X_over, y_over = oversample.fit_resample(X, y) # Realizo el oversampling del dataset para balancear los datos"
   ]
  },
  {
   "cell_type": "markdown",
   "metadata": {
    "id": "XLmN7zS3IB_q"
   },
   "source": [
    "#### **Determinación de entrenamiento y de test**"
   ]
  },
  {
   "cell_type": "code",
   "execution_count": 19,
   "metadata": {
    "colab": {
     "base_uri": "https://localhost:8080/"
    },
    "id": "i9xNZk_1Bj1_",
    "outputId": "11f65416-1aa6-4d1c-852f-e8878edd5b28"
   },
   "outputs": [
    {
     "name": "stdout",
     "output_type": "stream",
     "text": [
      "0    79603\n",
      "1    79389\n",
      "Name: fallecido, dtype: int64\n",
      "1    19981\n",
      "0    19767\n",
      "Name: fallecido, dtype: int64\n"
     ]
    }
   ],
   "source": [
    "X_train, X_test, y_train, y_test = train_test_split(X_over, y_over, test_size= 0.2, random_state= 42) #hacemos el spliting de training y test\n",
    "\n",
    "print(y_train.value_counts())\n",
    "print(y_test.value_counts())"
   ]
  },
  {
   "cell_type": "markdown",
   "metadata": {
    "id": "nE1Ky41fI5mc"
   },
   "source": [
    "#### **Declaración del método de Feature Selection(Forward Selection) y ejecución del mismo**\n"
   ]
  },
  {
   "cell_type": "code",
   "execution_count": 20,
   "metadata": {
    "id": "RklkK0fr3fa1"
   },
   "outputs": [],
   "source": [
    "import statsmodels.api as sm\n",
    "\n",
    "def forward_selection(data, target, significance_level=0.01):\n",
    "    initial_features = data.columns.tolist()\n",
    "    best_features = []\n",
    "    \n",
    "    while (len(initial_features) > 0):\n",
    "        remaining_features = list(set(initial_features)-set(best_features))\n",
    "        new_pval = pd.Series(index=remaining_features)\n",
    "        \n",
    "        for new_column in remaining_features:\n",
    "            model = sm.OLS(target, sm.add_constant(data[best_features+[new_column]])).fit()\n",
    "            new_pval[new_column] = model.pvalues[new_column]\n",
    "        min_p_value = new_pval.min()\n",
    "        \n",
    "        if(min_p_value < significance_level):\n",
    "            best_features.append(new_pval.idxmin())\n",
    "        else:\n",
    "            break\n",
    "            \n",
    "    return best_features"
   ]
  },
  {
   "cell_type": "code",
   "execution_count": 21,
   "metadata": {
    "colab": {
     "base_uri": "https://localhost:8080/"
    },
    "id": "GZ3QLUMe3gJE",
    "outputId": "a61a829f-36c9-4572-b7f9-a1727df4885c"
   },
   "outputs": [
    {
     "name": "stderr",
     "output_type": "stream",
     "text": [
      "/var/folders/g9/27rgn2kn2fl4wwdptss5l0qr0000gn/T/ipykernel_10552/2471681000.py:9: DeprecationWarning: The default dtype for empty Series will be 'object' instead of 'float64' in a future version. Specify a dtype explicitly to silence this warning.\n",
      "  new_pval = pd.Series(index=remaining_features)\n",
      "/Users/wb/opt/anaconda3/lib/python3.9/site-packages/statsmodels/tsa/tsatools.py:142: FutureWarning: In a future version of pandas all arguments of concat except for the argument 'objs' will be keyword-only\n",
      "  x = pd.concat(x[::order], 1)\n",
      "/Users/wb/opt/anaconda3/lib/python3.9/site-packages/statsmodels/tsa/tsatools.py:142: FutureWarning: In a future version of pandas all arguments of concat except for the argument 'objs' will be keyword-only\n",
      "  x = pd.concat(x[::order], 1)\n",
      "/Users/wb/opt/anaconda3/lib/python3.9/site-packages/statsmodels/tsa/tsatools.py:142: FutureWarning: In a future version of pandas all arguments of concat except for the argument 'objs' will be keyword-only\n",
      "  x = pd.concat(x[::order], 1)\n",
      "/Users/wb/opt/anaconda3/lib/python3.9/site-packages/statsmodels/tsa/tsatools.py:142: FutureWarning: In a future version of pandas all arguments of concat except for the argument 'objs' will be keyword-only\n",
      "  x = pd.concat(x[::order], 1)\n",
      "/Users/wb/opt/anaconda3/lib/python3.9/site-packages/statsmodels/tsa/tsatools.py:142: FutureWarning: In a future version of pandas all arguments of concat except for the argument 'objs' will be keyword-only\n",
      "  x = pd.concat(x[::order], 1)\n",
      "/Users/wb/opt/anaconda3/lib/python3.9/site-packages/statsmodels/tsa/tsatools.py:142: FutureWarning: In a future version of pandas all arguments of concat except for the argument 'objs' will be keyword-only\n",
      "  x = pd.concat(x[::order], 1)\n",
      "/Users/wb/opt/anaconda3/lib/python3.9/site-packages/statsmodels/tsa/tsatools.py:142: FutureWarning: In a future version of pandas all arguments of concat except for the argument 'objs' will be keyword-only\n",
      "  x = pd.concat(x[::order], 1)\n",
      "/Users/wb/opt/anaconda3/lib/python3.9/site-packages/statsmodels/tsa/tsatools.py:142: FutureWarning: In a future version of pandas all arguments of concat except for the argument 'objs' will be keyword-only\n",
      "  x = pd.concat(x[::order], 1)\n",
      "/Users/wb/opt/anaconda3/lib/python3.9/site-packages/statsmodels/tsa/tsatools.py:142: FutureWarning: In a future version of pandas all arguments of concat except for the argument 'objs' will be keyword-only\n",
      "  x = pd.concat(x[::order], 1)\n",
      "/Users/wb/opt/anaconda3/lib/python3.9/site-packages/statsmodels/tsa/tsatools.py:142: FutureWarning: In a future version of pandas all arguments of concat except for the argument 'objs' will be keyword-only\n",
      "  x = pd.concat(x[::order], 1)\n",
      "/Users/wb/opt/anaconda3/lib/python3.9/site-packages/statsmodels/tsa/tsatools.py:142: FutureWarning: In a future version of pandas all arguments of concat except for the argument 'objs' will be keyword-only\n",
      "  x = pd.concat(x[::order], 1)\n",
      "/Users/wb/opt/anaconda3/lib/python3.9/site-packages/statsmodels/tsa/tsatools.py:142: FutureWarning: In a future version of pandas all arguments of concat except for the argument 'objs' will be keyword-only\n",
      "  x = pd.concat(x[::order], 1)\n",
      "/Users/wb/opt/anaconda3/lib/python3.9/site-packages/statsmodels/tsa/tsatools.py:142: FutureWarning: In a future version of pandas all arguments of concat except for the argument 'objs' will be keyword-only\n",
      "  x = pd.concat(x[::order], 1)\n",
      "/Users/wb/opt/anaconda3/lib/python3.9/site-packages/statsmodels/tsa/tsatools.py:142: FutureWarning: In a future version of pandas all arguments of concat except for the argument 'objs' will be keyword-only\n",
      "  x = pd.concat(x[::order], 1)\n",
      "/Users/wb/opt/anaconda3/lib/python3.9/site-packages/statsmodels/tsa/tsatools.py:142: FutureWarning: In a future version of pandas all arguments of concat except for the argument 'objs' will be keyword-only\n",
      "  x = pd.concat(x[::order], 1)\n",
      "/var/folders/g9/27rgn2kn2fl4wwdptss5l0qr0000gn/T/ipykernel_10552/2471681000.py:9: DeprecationWarning: The default dtype for empty Series will be 'object' instead of 'float64' in a future version. Specify a dtype explicitly to silence this warning.\n",
      "  new_pval = pd.Series(index=remaining_features)\n",
      "/Users/wb/opt/anaconda3/lib/python3.9/site-packages/statsmodels/tsa/tsatools.py:142: FutureWarning: In a future version of pandas all arguments of concat except for the argument 'objs' will be keyword-only\n",
      "  x = pd.concat(x[::order], 1)\n",
      "/Users/wb/opt/anaconda3/lib/python3.9/site-packages/statsmodels/tsa/tsatools.py:142: FutureWarning: In a future version of pandas all arguments of concat except for the argument 'objs' will be keyword-only\n",
      "  x = pd.concat(x[::order], 1)\n",
      "/Users/wb/opt/anaconda3/lib/python3.9/site-packages/statsmodels/tsa/tsatools.py:142: FutureWarning: In a future version of pandas all arguments of concat except for the argument 'objs' will be keyword-only\n",
      "  x = pd.concat(x[::order], 1)\n",
      "/Users/wb/opt/anaconda3/lib/python3.9/site-packages/statsmodels/tsa/tsatools.py:142: FutureWarning: In a future version of pandas all arguments of concat except for the argument 'objs' will be keyword-only\n",
      "  x = pd.concat(x[::order], 1)\n",
      "/Users/wb/opt/anaconda3/lib/python3.9/site-packages/statsmodels/tsa/tsatools.py:142: FutureWarning: In a future version of pandas all arguments of concat except for the argument 'objs' will be keyword-only\n",
      "  x = pd.concat(x[::order], 1)\n",
      "/Users/wb/opt/anaconda3/lib/python3.9/site-packages/statsmodels/tsa/tsatools.py:142: FutureWarning: In a future version of pandas all arguments of concat except for the argument 'objs' will be keyword-only\n",
      "  x = pd.concat(x[::order], 1)\n",
      "/Users/wb/opt/anaconda3/lib/python3.9/site-packages/statsmodels/tsa/tsatools.py:142: FutureWarning: In a future version of pandas all arguments of concat except for the argument 'objs' will be keyword-only\n",
      "  x = pd.concat(x[::order], 1)\n",
      "/Users/wb/opt/anaconda3/lib/python3.9/site-packages/statsmodels/tsa/tsatools.py:142: FutureWarning: In a future version of pandas all arguments of concat except for the argument 'objs' will be keyword-only\n",
      "  x = pd.concat(x[::order], 1)\n",
      "/Users/wb/opt/anaconda3/lib/python3.9/site-packages/statsmodels/tsa/tsatools.py:142: FutureWarning: In a future version of pandas all arguments of concat except for the argument 'objs' will be keyword-only\n",
      "  x = pd.concat(x[::order], 1)\n",
      "/Users/wb/opt/anaconda3/lib/python3.9/site-packages/statsmodels/tsa/tsatools.py:142: FutureWarning: In a future version of pandas all arguments of concat except for the argument 'objs' will be keyword-only\n",
      "  x = pd.concat(x[::order], 1)\n",
      "/Users/wb/opt/anaconda3/lib/python3.9/site-packages/statsmodels/tsa/tsatools.py:142: FutureWarning: In a future version of pandas all arguments of concat except for the argument 'objs' will be keyword-only\n",
      "  x = pd.concat(x[::order], 1)\n",
      "/Users/wb/opt/anaconda3/lib/python3.9/site-packages/statsmodels/tsa/tsatools.py:142: FutureWarning: In a future version of pandas all arguments of concat except for the argument 'objs' will be keyword-only\n",
      "  x = pd.concat(x[::order], 1)\n",
      "/Users/wb/opt/anaconda3/lib/python3.9/site-packages/statsmodels/tsa/tsatools.py:142: FutureWarning: In a future version of pandas all arguments of concat except for the argument 'objs' will be keyword-only\n",
      "  x = pd.concat(x[::order], 1)\n",
      "/Users/wb/opt/anaconda3/lib/python3.9/site-packages/statsmodels/tsa/tsatools.py:142: FutureWarning: In a future version of pandas all arguments of concat except for the argument 'objs' will be keyword-only\n",
      "  x = pd.concat(x[::order], 1)\n",
      "/var/folders/g9/27rgn2kn2fl4wwdptss5l0qr0000gn/T/ipykernel_10552/2471681000.py:9: DeprecationWarning: The default dtype for empty Series will be 'object' instead of 'float64' in a future version. Specify a dtype explicitly to silence this warning.\n",
      "  new_pval = pd.Series(index=remaining_features)\n",
      "/Users/wb/opt/anaconda3/lib/python3.9/site-packages/statsmodels/tsa/tsatools.py:142: FutureWarning: In a future version of pandas all arguments of concat except for the argument 'objs' will be keyword-only\n",
      "  x = pd.concat(x[::order], 1)\n",
      "/Users/wb/opt/anaconda3/lib/python3.9/site-packages/statsmodels/tsa/tsatools.py:142: FutureWarning: In a future version of pandas all arguments of concat except for the argument 'objs' will be keyword-only\n",
      "  x = pd.concat(x[::order], 1)\n",
      "/Users/wb/opt/anaconda3/lib/python3.9/site-packages/statsmodels/tsa/tsatools.py:142: FutureWarning: In a future version of pandas all arguments of concat except for the argument 'objs' will be keyword-only\n",
      "  x = pd.concat(x[::order], 1)\n",
      "/Users/wb/opt/anaconda3/lib/python3.9/site-packages/statsmodels/tsa/tsatools.py:142: FutureWarning: In a future version of pandas all arguments of concat except for the argument 'objs' will be keyword-only\n",
      "  x = pd.concat(x[::order], 1)\n",
      "/Users/wb/opt/anaconda3/lib/python3.9/site-packages/statsmodels/tsa/tsatools.py:142: FutureWarning: In a future version of pandas all arguments of concat except for the argument 'objs' will be keyword-only\n",
      "  x = pd.concat(x[::order], 1)\n",
      "/Users/wb/opt/anaconda3/lib/python3.9/site-packages/statsmodels/tsa/tsatools.py:142: FutureWarning: In a future version of pandas all arguments of concat except for the argument 'objs' will be keyword-only\n",
      "  x = pd.concat(x[::order], 1)\n",
      "/Users/wb/opt/anaconda3/lib/python3.9/site-packages/statsmodels/tsa/tsatools.py:142: FutureWarning: In a future version of pandas all arguments of concat except for the argument 'objs' will be keyword-only\n",
      "  x = pd.concat(x[::order], 1)\n",
      "/Users/wb/opt/anaconda3/lib/python3.9/site-packages/statsmodels/tsa/tsatools.py:142: FutureWarning: In a future version of pandas all arguments of concat except for the argument 'objs' will be keyword-only\n",
      "  x = pd.concat(x[::order], 1)\n",
      "/Users/wb/opt/anaconda3/lib/python3.9/site-packages/statsmodels/tsa/tsatools.py:142: FutureWarning: In a future version of pandas all arguments of concat except for the argument 'objs' will be keyword-only\n",
      "  x = pd.concat(x[::order], 1)\n",
      "/Users/wb/opt/anaconda3/lib/python3.9/site-packages/statsmodels/tsa/tsatools.py:142: FutureWarning: In a future version of pandas all arguments of concat except for the argument 'objs' will be keyword-only\n",
      "  x = pd.concat(x[::order], 1)\n",
      "/Users/wb/opt/anaconda3/lib/python3.9/site-packages/statsmodels/tsa/tsatools.py:142: FutureWarning: In a future version of pandas all arguments of concat except for the argument 'objs' will be keyword-only\n",
      "  x = pd.concat(x[::order], 1)\n",
      "/Users/wb/opt/anaconda3/lib/python3.9/site-packages/statsmodels/tsa/tsatools.py:142: FutureWarning: In a future version of pandas all arguments of concat except for the argument 'objs' will be keyword-only\n",
      "  x = pd.concat(x[::order], 1)\n",
      "/Users/wb/opt/anaconda3/lib/python3.9/site-packages/statsmodels/tsa/tsatools.py:142: FutureWarning: In a future version of pandas all arguments of concat except for the argument 'objs' will be keyword-only\n",
      "  x = pd.concat(x[::order], 1)\n",
      "/var/folders/g9/27rgn2kn2fl4wwdptss5l0qr0000gn/T/ipykernel_10552/2471681000.py:9: DeprecationWarning: The default dtype for empty Series will be 'object' instead of 'float64' in a future version. Specify a dtype explicitly to silence this warning.\n",
      "  new_pval = pd.Series(index=remaining_features)\n",
      "/Users/wb/opt/anaconda3/lib/python3.9/site-packages/statsmodels/tsa/tsatools.py:142: FutureWarning: In a future version of pandas all arguments of concat except for the argument 'objs' will be keyword-only\n",
      "  x = pd.concat(x[::order], 1)\n",
      "/Users/wb/opt/anaconda3/lib/python3.9/site-packages/statsmodels/tsa/tsatools.py:142: FutureWarning: In a future version of pandas all arguments of concat except for the argument 'objs' will be keyword-only\n",
      "  x = pd.concat(x[::order], 1)\n",
      "/Users/wb/opt/anaconda3/lib/python3.9/site-packages/statsmodels/tsa/tsatools.py:142: FutureWarning: In a future version of pandas all arguments of concat except for the argument 'objs' will be keyword-only\n",
      "  x = pd.concat(x[::order], 1)\n",
      "/Users/wb/opt/anaconda3/lib/python3.9/site-packages/statsmodels/tsa/tsatools.py:142: FutureWarning: In a future version of pandas all arguments of concat except for the argument 'objs' will be keyword-only\n",
      "  x = pd.concat(x[::order], 1)\n",
      "/Users/wb/opt/anaconda3/lib/python3.9/site-packages/statsmodels/tsa/tsatools.py:142: FutureWarning: In a future version of pandas all arguments of concat except for the argument 'objs' will be keyword-only\n",
      "  x = pd.concat(x[::order], 1)\n",
      "/Users/wb/opt/anaconda3/lib/python3.9/site-packages/statsmodels/tsa/tsatools.py:142: FutureWarning: In a future version of pandas all arguments of concat except for the argument 'objs' will be keyword-only\n",
      "  x = pd.concat(x[::order], 1)\n"
     ]
    },
    {
     "name": "stderr",
     "output_type": "stream",
     "text": [
      "/Users/wb/opt/anaconda3/lib/python3.9/site-packages/statsmodels/tsa/tsatools.py:142: FutureWarning: In a future version of pandas all arguments of concat except for the argument 'objs' will be keyword-only\n",
      "  x = pd.concat(x[::order], 1)\n",
      "/Users/wb/opt/anaconda3/lib/python3.9/site-packages/statsmodels/tsa/tsatools.py:142: FutureWarning: In a future version of pandas all arguments of concat except for the argument 'objs' will be keyword-only\n",
      "  x = pd.concat(x[::order], 1)\n",
      "/Users/wb/opt/anaconda3/lib/python3.9/site-packages/statsmodels/tsa/tsatools.py:142: FutureWarning: In a future version of pandas all arguments of concat except for the argument 'objs' will be keyword-only\n",
      "  x = pd.concat(x[::order], 1)\n",
      "/Users/wb/opt/anaconda3/lib/python3.9/site-packages/statsmodels/tsa/tsatools.py:142: FutureWarning: In a future version of pandas all arguments of concat except for the argument 'objs' will be keyword-only\n",
      "  x = pd.concat(x[::order], 1)\n",
      "/Users/wb/opt/anaconda3/lib/python3.9/site-packages/statsmodels/tsa/tsatools.py:142: FutureWarning: In a future version of pandas all arguments of concat except for the argument 'objs' will be keyword-only\n",
      "  x = pd.concat(x[::order], 1)\n",
      "/Users/wb/opt/anaconda3/lib/python3.9/site-packages/statsmodels/tsa/tsatools.py:142: FutureWarning: In a future version of pandas all arguments of concat except for the argument 'objs' will be keyword-only\n",
      "  x = pd.concat(x[::order], 1)\n",
      "/var/folders/g9/27rgn2kn2fl4wwdptss5l0qr0000gn/T/ipykernel_10552/2471681000.py:9: DeprecationWarning: The default dtype for empty Series will be 'object' instead of 'float64' in a future version. Specify a dtype explicitly to silence this warning.\n",
      "  new_pval = pd.Series(index=remaining_features)\n",
      "/Users/wb/opt/anaconda3/lib/python3.9/site-packages/statsmodels/tsa/tsatools.py:142: FutureWarning: In a future version of pandas all arguments of concat except for the argument 'objs' will be keyword-only\n",
      "  x = pd.concat(x[::order], 1)\n",
      "/Users/wb/opt/anaconda3/lib/python3.9/site-packages/statsmodels/tsa/tsatools.py:142: FutureWarning: In a future version of pandas all arguments of concat except for the argument 'objs' will be keyword-only\n",
      "  x = pd.concat(x[::order], 1)\n",
      "/Users/wb/opt/anaconda3/lib/python3.9/site-packages/statsmodels/tsa/tsatools.py:142: FutureWarning: In a future version of pandas all arguments of concat except for the argument 'objs' will be keyword-only\n",
      "  x = pd.concat(x[::order], 1)\n",
      "/Users/wb/opt/anaconda3/lib/python3.9/site-packages/statsmodels/tsa/tsatools.py:142: FutureWarning: In a future version of pandas all arguments of concat except for the argument 'objs' will be keyword-only\n",
      "  x = pd.concat(x[::order], 1)\n",
      "/Users/wb/opt/anaconda3/lib/python3.9/site-packages/statsmodels/tsa/tsatools.py:142: FutureWarning: In a future version of pandas all arguments of concat except for the argument 'objs' will be keyword-only\n",
      "  x = pd.concat(x[::order], 1)\n",
      "/Users/wb/opt/anaconda3/lib/python3.9/site-packages/statsmodels/tsa/tsatools.py:142: FutureWarning: In a future version of pandas all arguments of concat except for the argument 'objs' will be keyword-only\n",
      "  x = pd.concat(x[::order], 1)\n",
      "/Users/wb/opt/anaconda3/lib/python3.9/site-packages/statsmodels/tsa/tsatools.py:142: FutureWarning: In a future version of pandas all arguments of concat except for the argument 'objs' will be keyword-only\n",
      "  x = pd.concat(x[::order], 1)\n",
      "/Users/wb/opt/anaconda3/lib/python3.9/site-packages/statsmodels/tsa/tsatools.py:142: FutureWarning: In a future version of pandas all arguments of concat except for the argument 'objs' will be keyword-only\n",
      "  x = pd.concat(x[::order], 1)\n",
      "/Users/wb/opt/anaconda3/lib/python3.9/site-packages/statsmodels/tsa/tsatools.py:142: FutureWarning: In a future version of pandas all arguments of concat except for the argument 'objs' will be keyword-only\n",
      "  x = pd.concat(x[::order], 1)\n",
      "/Users/wb/opt/anaconda3/lib/python3.9/site-packages/statsmodels/tsa/tsatools.py:142: FutureWarning: In a future version of pandas all arguments of concat except for the argument 'objs' will be keyword-only\n",
      "  x = pd.concat(x[::order], 1)\n",
      "/Users/wb/opt/anaconda3/lib/python3.9/site-packages/statsmodels/tsa/tsatools.py:142: FutureWarning: In a future version of pandas all arguments of concat except for the argument 'objs' will be keyword-only\n",
      "  x = pd.concat(x[::order], 1)\n",
      "/var/folders/g9/27rgn2kn2fl4wwdptss5l0qr0000gn/T/ipykernel_10552/2471681000.py:9: DeprecationWarning: The default dtype for empty Series will be 'object' instead of 'float64' in a future version. Specify a dtype explicitly to silence this warning.\n",
      "  new_pval = pd.Series(index=remaining_features)\n",
      "/Users/wb/opt/anaconda3/lib/python3.9/site-packages/statsmodels/tsa/tsatools.py:142: FutureWarning: In a future version of pandas all arguments of concat except for the argument 'objs' will be keyword-only\n",
      "  x = pd.concat(x[::order], 1)\n",
      "/Users/wb/opt/anaconda3/lib/python3.9/site-packages/statsmodels/tsa/tsatools.py:142: FutureWarning: In a future version of pandas all arguments of concat except for the argument 'objs' will be keyword-only\n",
      "  x = pd.concat(x[::order], 1)\n",
      "/Users/wb/opt/anaconda3/lib/python3.9/site-packages/statsmodels/tsa/tsatools.py:142: FutureWarning: In a future version of pandas all arguments of concat except for the argument 'objs' will be keyword-only\n",
      "  x = pd.concat(x[::order], 1)\n",
      "/Users/wb/opt/anaconda3/lib/python3.9/site-packages/statsmodels/tsa/tsatools.py:142: FutureWarning: In a future version of pandas all arguments of concat except for the argument 'objs' will be keyword-only\n",
      "  x = pd.concat(x[::order], 1)\n",
      "/Users/wb/opt/anaconda3/lib/python3.9/site-packages/statsmodels/tsa/tsatools.py:142: FutureWarning: In a future version of pandas all arguments of concat except for the argument 'objs' will be keyword-only\n",
      "  x = pd.concat(x[::order], 1)\n",
      "/Users/wb/opt/anaconda3/lib/python3.9/site-packages/statsmodels/tsa/tsatools.py:142: FutureWarning: In a future version of pandas all arguments of concat except for the argument 'objs' will be keyword-only\n",
      "  x = pd.concat(x[::order], 1)\n",
      "/Users/wb/opt/anaconda3/lib/python3.9/site-packages/statsmodels/tsa/tsatools.py:142: FutureWarning: In a future version of pandas all arguments of concat except for the argument 'objs' will be keyword-only\n",
      "  x = pd.concat(x[::order], 1)\n",
      "/Users/wb/opt/anaconda3/lib/python3.9/site-packages/statsmodels/tsa/tsatools.py:142: FutureWarning: In a future version of pandas all arguments of concat except for the argument 'objs' will be keyword-only\n",
      "  x = pd.concat(x[::order], 1)\n",
      "/Users/wb/opt/anaconda3/lib/python3.9/site-packages/statsmodels/tsa/tsatools.py:142: FutureWarning: In a future version of pandas all arguments of concat except for the argument 'objs' will be keyword-only\n",
      "  x = pd.concat(x[::order], 1)\n",
      "/Users/wb/opt/anaconda3/lib/python3.9/site-packages/statsmodels/tsa/tsatools.py:142: FutureWarning: In a future version of pandas all arguments of concat except for the argument 'objs' will be keyword-only\n",
      "  x = pd.concat(x[::order], 1)\n",
      "/var/folders/g9/27rgn2kn2fl4wwdptss5l0qr0000gn/T/ipykernel_10552/2471681000.py:9: DeprecationWarning: The default dtype for empty Series will be 'object' instead of 'float64' in a future version. Specify a dtype explicitly to silence this warning.\n",
      "  new_pval = pd.Series(index=remaining_features)\n",
      "/Users/wb/opt/anaconda3/lib/python3.9/site-packages/statsmodels/tsa/tsatools.py:142: FutureWarning: In a future version of pandas all arguments of concat except for the argument 'objs' will be keyword-only\n",
      "  x = pd.concat(x[::order], 1)\n",
      "/Users/wb/opt/anaconda3/lib/python3.9/site-packages/statsmodels/tsa/tsatools.py:142: FutureWarning: In a future version of pandas all arguments of concat except for the argument 'objs' will be keyword-only\n",
      "  x = pd.concat(x[::order], 1)\n",
      "/Users/wb/opt/anaconda3/lib/python3.9/site-packages/statsmodels/tsa/tsatools.py:142: FutureWarning: In a future version of pandas all arguments of concat except for the argument 'objs' will be keyword-only\n",
      "  x = pd.concat(x[::order], 1)\n",
      "/Users/wb/opt/anaconda3/lib/python3.9/site-packages/statsmodels/tsa/tsatools.py:142: FutureWarning: In a future version of pandas all arguments of concat except for the argument 'objs' will be keyword-only\n",
      "  x = pd.concat(x[::order], 1)\n",
      "/Users/wb/opt/anaconda3/lib/python3.9/site-packages/statsmodels/tsa/tsatools.py:142: FutureWarning: In a future version of pandas all arguments of concat except for the argument 'objs' will be keyword-only\n",
      "  x = pd.concat(x[::order], 1)\n",
      "/Users/wb/opt/anaconda3/lib/python3.9/site-packages/statsmodels/tsa/tsatools.py:142: FutureWarning: In a future version of pandas all arguments of concat except for the argument 'objs' will be keyword-only\n",
      "  x = pd.concat(x[::order], 1)\n",
      "/Users/wb/opt/anaconda3/lib/python3.9/site-packages/statsmodels/tsa/tsatools.py:142: FutureWarning: In a future version of pandas all arguments of concat except for the argument 'objs' will be keyword-only\n",
      "  x = pd.concat(x[::order], 1)\n"
     ]
    },
    {
     "name": "stderr",
     "output_type": "stream",
     "text": [
      "/Users/wb/opt/anaconda3/lib/python3.9/site-packages/statsmodels/tsa/tsatools.py:142: FutureWarning: In a future version of pandas all arguments of concat except for the argument 'objs' will be keyword-only\n",
      "  x = pd.concat(x[::order], 1)\n",
      "/Users/wb/opt/anaconda3/lib/python3.9/site-packages/statsmodels/tsa/tsatools.py:142: FutureWarning: In a future version of pandas all arguments of concat except for the argument 'objs' will be keyword-only\n",
      "  x = pd.concat(x[::order], 1)\n",
      "/var/folders/g9/27rgn2kn2fl4wwdptss5l0qr0000gn/T/ipykernel_10552/2471681000.py:9: DeprecationWarning: The default dtype for empty Series will be 'object' instead of 'float64' in a future version. Specify a dtype explicitly to silence this warning.\n",
      "  new_pval = pd.Series(index=remaining_features)\n",
      "/Users/wb/opt/anaconda3/lib/python3.9/site-packages/statsmodels/tsa/tsatools.py:142: FutureWarning: In a future version of pandas all arguments of concat except for the argument 'objs' will be keyword-only\n",
      "  x = pd.concat(x[::order], 1)\n",
      "/Users/wb/opt/anaconda3/lib/python3.9/site-packages/statsmodels/tsa/tsatools.py:142: FutureWarning: In a future version of pandas all arguments of concat except for the argument 'objs' will be keyword-only\n",
      "  x = pd.concat(x[::order], 1)\n",
      "/Users/wb/opt/anaconda3/lib/python3.9/site-packages/statsmodels/tsa/tsatools.py:142: FutureWarning: In a future version of pandas all arguments of concat except for the argument 'objs' will be keyword-only\n",
      "  x = pd.concat(x[::order], 1)\n",
      "/Users/wb/opt/anaconda3/lib/python3.9/site-packages/statsmodels/tsa/tsatools.py:142: FutureWarning: In a future version of pandas all arguments of concat except for the argument 'objs' will be keyword-only\n",
      "  x = pd.concat(x[::order], 1)\n",
      "/Users/wb/opt/anaconda3/lib/python3.9/site-packages/statsmodels/tsa/tsatools.py:142: FutureWarning: In a future version of pandas all arguments of concat except for the argument 'objs' will be keyword-only\n",
      "  x = pd.concat(x[::order], 1)\n",
      "/Users/wb/opt/anaconda3/lib/python3.9/site-packages/statsmodels/tsa/tsatools.py:142: FutureWarning: In a future version of pandas all arguments of concat except for the argument 'objs' will be keyword-only\n",
      "  x = pd.concat(x[::order], 1)\n",
      "/Users/wb/opt/anaconda3/lib/python3.9/site-packages/statsmodels/tsa/tsatools.py:142: FutureWarning: In a future version of pandas all arguments of concat except for the argument 'objs' will be keyword-only\n",
      "  x = pd.concat(x[::order], 1)\n",
      "/Users/wb/opt/anaconda3/lib/python3.9/site-packages/statsmodels/tsa/tsatools.py:142: FutureWarning: In a future version of pandas all arguments of concat except for the argument 'objs' will be keyword-only\n",
      "  x = pd.concat(x[::order], 1)\n",
      "/var/folders/g9/27rgn2kn2fl4wwdptss5l0qr0000gn/T/ipykernel_10552/2471681000.py:9: DeprecationWarning: The default dtype for empty Series will be 'object' instead of 'float64' in a future version. Specify a dtype explicitly to silence this warning.\n",
      "  new_pval = pd.Series(index=remaining_features)\n",
      "/Users/wb/opt/anaconda3/lib/python3.9/site-packages/statsmodels/tsa/tsatools.py:142: FutureWarning: In a future version of pandas all arguments of concat except for the argument 'objs' will be keyword-only\n",
      "  x = pd.concat(x[::order], 1)\n",
      "/Users/wb/opt/anaconda3/lib/python3.9/site-packages/statsmodels/tsa/tsatools.py:142: FutureWarning: In a future version of pandas all arguments of concat except for the argument 'objs' will be keyword-only\n",
      "  x = pd.concat(x[::order], 1)\n",
      "/Users/wb/opt/anaconda3/lib/python3.9/site-packages/statsmodels/tsa/tsatools.py:142: FutureWarning: In a future version of pandas all arguments of concat except for the argument 'objs' will be keyword-only\n",
      "  x = pd.concat(x[::order], 1)\n",
      "/Users/wb/opt/anaconda3/lib/python3.9/site-packages/statsmodels/tsa/tsatools.py:142: FutureWarning: In a future version of pandas all arguments of concat except for the argument 'objs' will be keyword-only\n",
      "  x = pd.concat(x[::order], 1)\n",
      "/Users/wb/opt/anaconda3/lib/python3.9/site-packages/statsmodels/tsa/tsatools.py:142: FutureWarning: In a future version of pandas all arguments of concat except for the argument 'objs' will be keyword-only\n",
      "  x = pd.concat(x[::order], 1)\n",
      "/Users/wb/opt/anaconda3/lib/python3.9/site-packages/statsmodels/tsa/tsatools.py:142: FutureWarning: In a future version of pandas all arguments of concat except for the argument 'objs' will be keyword-only\n",
      "  x = pd.concat(x[::order], 1)\n",
      "/Users/wb/opt/anaconda3/lib/python3.9/site-packages/statsmodels/tsa/tsatools.py:142: FutureWarning: In a future version of pandas all arguments of concat except for the argument 'objs' will be keyword-only\n",
      "  x = pd.concat(x[::order], 1)\n",
      "/var/folders/g9/27rgn2kn2fl4wwdptss5l0qr0000gn/T/ipykernel_10552/2471681000.py:9: DeprecationWarning: The default dtype for empty Series will be 'object' instead of 'float64' in a future version. Specify a dtype explicitly to silence this warning.\n",
      "  new_pval = pd.Series(index=remaining_features)\n",
      "/Users/wb/opt/anaconda3/lib/python3.9/site-packages/statsmodels/tsa/tsatools.py:142: FutureWarning: In a future version of pandas all arguments of concat except for the argument 'objs' will be keyword-only\n",
      "  x = pd.concat(x[::order], 1)\n",
      "/Users/wb/opt/anaconda3/lib/python3.9/site-packages/statsmodels/tsa/tsatools.py:142: FutureWarning: In a future version of pandas all arguments of concat except for the argument 'objs' will be keyword-only\n",
      "  x = pd.concat(x[::order], 1)\n",
      "/Users/wb/opt/anaconda3/lib/python3.9/site-packages/statsmodels/tsa/tsatools.py:142: FutureWarning: In a future version of pandas all arguments of concat except for the argument 'objs' will be keyword-only\n",
      "  x = pd.concat(x[::order], 1)\n",
      "/Users/wb/opt/anaconda3/lib/python3.9/site-packages/statsmodels/tsa/tsatools.py:142: FutureWarning: In a future version of pandas all arguments of concat except for the argument 'objs' will be keyword-only\n",
      "  x = pd.concat(x[::order], 1)\n",
      "/Users/wb/opt/anaconda3/lib/python3.9/site-packages/statsmodels/tsa/tsatools.py:142: FutureWarning: In a future version of pandas all arguments of concat except for the argument 'objs' will be keyword-only\n",
      "  x = pd.concat(x[::order], 1)\n",
      "/Users/wb/opt/anaconda3/lib/python3.9/site-packages/statsmodels/tsa/tsatools.py:142: FutureWarning: In a future version of pandas all arguments of concat except for the argument 'objs' will be keyword-only\n",
      "  x = pd.concat(x[::order], 1)\n"
     ]
    },
    {
     "data": {
      "text/plain": [
       "['asistencia_respiratoria_mecanica_SI',\n",
       " 'edad',\n",
       " 'cuidado_intensivo_SI',\n",
       " 'clasificacion_resumen',\n",
       " 'residencia_departamento_id',\n",
       " 'sexo',\n",
       " 'origen_financiamiento_Público',\n",
       " 'residencia_pais_nombre',\n",
       " 'residencia_departamento_nombre']"
      ]
     },
     "execution_count": 21,
     "metadata": {},
     "output_type": "execute_result"
    }
   ],
   "source": [
    "forward_selection(X, y)"
   ]
  },
  {
   "cell_type": "markdown",
   "metadata": {
    "id": "paMxy23L3qGt"
   },
   "source": [
    "#### **Selección de los algoritmos a aplicar**\n",
    "Como la variable target es categórica se debe seleccionar un algoritmo de clasificación"
   ]
  },
  {
   "cell_type": "markdown",
   "metadata": {
    "id": "oP4f26IsXEKT"
   },
   "source": [
    "**Instalación e importación de librerias para graficar**"
   ]
  },
  {
   "cell_type": "code",
   "execution_count": 22,
   "metadata": {
    "colab": {
     "base_uri": "https://localhost:8080/"
    },
    "id": "zAcsI_F1WvXn",
    "outputId": "a335a867-f9d8-4905-cb28-00c30632384e"
   },
   "outputs": [
    {
     "name": "stdout",
     "output_type": "stream",
     "text": [
      "Requirement already satisfied: scikit-plot in /Users/wb/opt/anaconda3/lib/python3.9/site-packages (0.3.7)\n",
      "Requirement already satisfied: scipy>=0.9 in /Users/wb/opt/anaconda3/lib/python3.9/site-packages (from scikit-plot) (1.7.1)\n",
      "Requirement already satisfied: joblib>=0.10 in /Users/wb/opt/anaconda3/lib/python3.9/site-packages (from scikit-plot) (1.1.0)\n",
      "Requirement already satisfied: scikit-learn>=0.18 in /Users/wb/opt/anaconda3/lib/python3.9/site-packages (from scikit-plot) (1.1.2)\n",
      "Requirement already satisfied: matplotlib>=1.4.0 in /Users/wb/opt/anaconda3/lib/python3.9/site-packages (from scikit-plot) (3.4.3)\n",
      "Requirement already satisfied: pillow>=6.2.0 in /Users/wb/opt/anaconda3/lib/python3.9/site-packages (from matplotlib>=1.4.0->scikit-plot) (8.4.0)\n",
      "Requirement already satisfied: numpy>=1.16 in /Users/wb/opt/anaconda3/lib/python3.9/site-packages (from matplotlib>=1.4.0->scikit-plot) (1.20.3)\n",
      "Requirement already satisfied: cycler>=0.10 in /Users/wb/opt/anaconda3/lib/python3.9/site-packages (from matplotlib>=1.4.0->scikit-plot) (0.10.0)\n",
      "Requirement already satisfied: kiwisolver>=1.0.1 in /Users/wb/opt/anaconda3/lib/python3.9/site-packages (from matplotlib>=1.4.0->scikit-plot) (1.3.1)\n",
      "Requirement already satisfied: pyparsing>=2.2.1 in /Users/wb/opt/anaconda3/lib/python3.9/site-packages (from matplotlib>=1.4.0->scikit-plot) (3.0.4)\n",
      "Requirement already satisfied: python-dateutil>=2.7 in /Users/wb/opt/anaconda3/lib/python3.9/site-packages (from matplotlib>=1.4.0->scikit-plot) (2.8.2)\n",
      "Requirement already satisfied: six in /Users/wb/opt/anaconda3/lib/python3.9/site-packages (from cycler>=0.10->matplotlib>=1.4.0->scikit-plot) (1.16.0)\n",
      "Requirement already satisfied: threadpoolctl>=2.0.0 in /Users/wb/opt/anaconda3/lib/python3.9/site-packages (from scikit-learn>=0.18->scikit-plot) (2.2.0)\n"
     ]
    }
   ],
   "source": [
    "!pip install scikit-plot"
   ]
  },
  {
   "cell_type": "code",
   "execution_count": 23,
   "metadata": {
    "id": "mYhgAhgsWzRk"
   },
   "outputs": [],
   "source": [
    "# Libreria gráfica\n",
    "import scikitplot as skplt\n",
    "\n",
    "# Algoritmos\n",
    "from sklearn.neighbors import KNeighborsClassifier\n",
    "from sklearn.ensemble import RandomForestClassifier\n",
    "from sklearn.tree import DecisionTreeClassifier, plot_tree\n",
    "\n",
    "# Métricas\n",
    "from sklearn.metrics import accuracy_score, classification_report\n",
    "#from sklearn.metrics import accuracy_score, roc_auc_score, roc_curve, classification_report"
   ]
  },
  {
   "cell_type": "markdown",
   "metadata": {
    "id": "8vGDl6SOWHuW"
   },
   "source": [
    "**Primer algoritmo: KNN**"
   ]
  },
  {
   "cell_type": "code",
   "execution_count": 29,
   "metadata": {
    "colab": {
     "base_uri": "https://localhost:8080/",
     "height": 376
    },
    "id": "u8SrXZxq85lR",
    "outputId": "9b85bc42-0632-4b1d-dc71-6a3c4bff2c6e"
   },
   "outputs": [
    {
     "name": "stdout",
     "output_type": "stream",
     "text": [
      "Accuracy: 0.9978866861225723\n"
     ]
    },
    {
     "data": {
      "image/png": "[encoded data removed]",
      "text/plain": [
       "<Figure size 432x432 with 2 Axes>"
      ]
     },
     "metadata": {},
     "output_type": "display_data"
    }
   ],
   "source": [
    "knn = KNeighborsClassifier(n_neighbors=2) \n",
    "knn.fit(X_train, y_train)  \n",
    "y_pred_knn = knn.predict(X_test) \n",
    "y_pred_prob_knn = knn.predict_proba(X_test)[:, 1]\n",
    "\n",
    "skplt.metrics.plot_confusion_matrix(y_test, y_pred_knn, figsize=(6,6), cmap= 'YlGnBu');\n",
    "\n",
    "print('Accuracy:', accuracy_score(y_test, y_pred_knn))\n",
    "#print('ROC AUC Score:', roc_auc_score(y_test, y_pred_prob_knn)) "
   ]
  },
  {
   "cell_type": "markdown",
   "metadata": {
    "id": "yqEgAtfnXn8x"
   },
   "source": [
    "**Segundo algoritmo: Random Forest**"
   ]
  },
  {
   "cell_type": "code",
   "execution_count": 30,
   "metadata": {
    "colab": {
     "base_uri": "https://localhost:8080/",
     "height": 380
    },
    "id": "YpnshZkWYADX",
    "outputId": "f89ee76c-4dd7-42c7-8bf5-aec4f711c926"
   },
   "outputs": [
    {
     "name": "stdout",
     "output_type": "stream",
     "text": [
      "Accuracy: 0.9994716715306431\n"
     ]
    },
    {
     "data": {
      "image/png": "[encoded data removed]",
      "text/plain": [
       "<Figure size 432x432 with 2 Axes>"
      ]
     },
     "metadata": {},
     "output_type": "display_data"
    }
   ],
   "source": [
    "rf = RandomForestClassifier(n_estimators=100)\n",
    "rf.fit(X_train, y_train) \n",
    "y_pred_rf = rf.predict(X_test) \n",
    "y_pred_prob_rf = rf.predict_proba(X_test)[:, 1]\n",
    "\n",
    "skplt.metrics.plot_confusion_matrix(y_test, y_pred_rf, figsize=(6,6), cmap= 'YlGnBu');\n",
    "print('Accuracy:', accuracy_score(y_test, y_pred_rf))\n",
    "#print('ROC AUC Score:', roc_auc_score(y_test, y_pred_prob_rf))"
   ]
  },
  {
   "cell_type": "markdown",
   "metadata": {
    "id": "V4VgCNTkX13d"
   },
   "source": [
    "**Tercer algoritmo: Decision Tree**"
   ]
  },
  {
   "cell_type": "code",
   "execution_count": 31,
   "metadata": {
    "colab": {
     "base_uri": "https://localhost:8080/",
     "height": 376
    },
    "id": "10TM0wmdYQ7F",
    "outputId": "9de0f55c-cc82-4381-eb85-2b2973c36a9a"
   },
   "outputs": [
    {
     "name": "stdout",
     "output_type": "stream",
     "text": [
      "Accuracy: 0.8964727785045788\n"
     ]
    },
    {
     "data": {
      "image/png": "[encoded data removed]",
      "text/plain": [
       "<Figure size 432x432 with 2 Axes>"
      ]
     },
     "metadata": {},
     "output_type": "display_data"
    }
   ],
   "source": [
    "dtc = DecisionTreeClassifier(criterion='entropy', max_depth=3) \n",
    "dtc.fit(X_train, y_train)\n",
    "y_pred_dtc = dtc.predict(X_test) \n",
    "y_pred_prob_dtc = dtc.predict_proba(X_test)[:, 1]\n",
    "\n",
    "skplt.metrics.plot_confusion_matrix(y_test, y_pred_dtc, figsize=(6,6), cmap= 'YlGnBu');\n",
    "print('Accuracy:', accuracy_score(y_test, y_pred_dtc))\n",
    "#print('ROC AUC Score:', roc_auc_score(y_test, y_pred_prob_dtc))"
   ]
  },
  {
   "cell_type": "markdown",
   "metadata": {
    "id": "8mBBP8kv3sbs"
   },
   "source": [
    "#### **Calculo las métricas para cada uno de los algoritmos**"
   ]
  },
  {
   "cell_type": "markdown",
   "metadata": {
    "id": "u-qy4ah2ZK8l"
   },
   "source": [
    "**Métricas para KNN**"
   ]
  },
  {
   "cell_type": "code",
   "execution_count": 32,
   "metadata": {
    "colab": {
     "base_uri": "https://localhost:8080/"
    },
    "id": "8fr0uGfUYsLA",
    "outputId": "07779586-318c-4327-a81b-d64da8787108"
   },
   "outputs": [
    {
     "name": "stdout",
     "output_type": "stream",
     "text": [
      "              precision    recall  f1-score   support\n",
      "\n",
      "           0       1.00      1.00      1.00     19767\n",
      "           1       1.00      1.00      1.00     19981\n",
      "\n",
      "    accuracy                           1.00     39748\n",
      "   macro avg       1.00      1.00      1.00     39748\n",
      "weighted avg       1.00      1.00      1.00     39748\n",
      "\n"
     ]
    }
   ],
   "source": [
    "print(classification_report(y_test, y_pred_knn)) "
   ]
  },
  {
   "cell_type": "markdown",
   "metadata": {
    "id": "5mumAFWhZXO0"
   },
   "source": [
    "**Métricas para Random Forest**"
   ]
  },
  {
   "cell_type": "code",
   "execution_count": 33,
   "metadata": {
    "colab": {
     "base_uri": "https://localhost:8080/"
    },
    "id": "MNJRzwmjZBnI",
    "outputId": "5d213943-4dfd-4efc-80d7-9ea644216b95"
   },
   "outputs": [
    {
     "name": "stdout",
     "output_type": "stream",
     "text": [
      "              precision    recall  f1-score   support\n",
      "\n",
      "           0       1.00      1.00      1.00     19767\n",
      "           1       1.00      1.00      1.00     19981\n",
      "\n",
      "    accuracy                           1.00     39748\n",
      "   macro avg       1.00      1.00      1.00     39748\n",
      "weighted avg       1.00      1.00      1.00     39748\n",
      "\n"
     ]
    }
   ],
   "source": [
    "print(classification_report(y_test, y_pred_rf)) "
   ]
  },
  {
   "cell_type": "markdown",
   "metadata": {
    "id": "gOThaPqFZatg"
   },
   "source": [
    "**Métricas para Decision Tree**"
   ]
  },
  {
   "cell_type": "code",
   "execution_count": 34,
   "metadata": {
    "colab": {
     "base_uri": "https://localhost:8080/"
    },
    "id": "bOtDHQlqZG7C",
    "outputId": "66f8b64a-ae4d-451c-82af-e75e8383620b"
   },
   "outputs": [
    {
     "name": "stdout",
     "output_type": "stream",
     "text": [
      "              precision    recall  f1-score   support\n",
      "\n",
      "           0       0.84      0.99      0.90     19767\n",
      "           1       0.98      0.81      0.89     19981\n",
      "\n",
      "    accuracy                           0.90     39748\n",
      "   macro avg       0.91      0.90      0.90     39748\n",
      "weighted avg       0.91      0.90      0.90     39748\n",
      "\n"
     ]
    }
   ],
   "source": [
    "print(classification_report(y_test, y_pred_dtc)) "
   ]
  },
  {
   "cell_type": "markdown",
   "metadata": {
    "id": "HMu7sCTD3xp8"
   },
   "source": [
    "#### **Concluciones y evaluaciones de los algoritmos seleccionados**"
   ]
  },
  {
   "cell_type": "markdown",
   "metadata": {
    "id": "uqyT2nD1Zdiy"
   },
   "source": [
    "Como se puede observar de la métricas, los mejores resultados se los obtiene KNN y de Random Forest pero lo que llama la atención es que los mismos tiene un 100 % de probabilidad en todas las métricas, habria que revisar hasta que punto con menos variables siguen teniendo ese rendimiento, ya que podría darse un caso de overfitting. Para el caso de Arboles de desición se observa que el mismo tiene un rendimiento más pobre."
   ]
  },
  {
   "cell_type": "markdown",
   "metadata": {},
   "source": [
    "## Data Wrangling"
   ]
  },
  {
   "cell_type": "code",
   "execution_count": 36,
   "metadata": {},
   "outputs": [],
   "source": [
    "df_dw = df.copy()"
   ]
  },
  {
   "cell_type": "markdown",
   "metadata": {},
   "source": [
    "#### Se realiza un DEA para tener una visión de general de los datos"
   ]
  },
  {
   "cell_type": "code",
   "execution_count": 55,
   "metadata": {},
   "outputs": [
    {
     "data": {
      "text/html": [
       "<div>\n",
       "<style scoped>\n",
       "    .dataframe tbody tr th:only-of-type {\n",
       "        vertical-align: middle;\n",
       "    }\n",
       "\n",
       "    .dataframe tbody tr th {\n",
       "        vertical-align: top;\n",
       "    }\n",
       "\n",
       "    .dataframe thead th {\n",
       "        text-align: right;\n",
       "    }\n",
       "</style>\n",
       "<table border=\"1\" class=\"dataframe\">\n",
       "  <thead>\n",
       "    <tr style=\"text-align: right;\">\n",
       "      <th></th>\n",
       "      <th>id_evento_caso</th>\n",
       "      <th>sexo</th>\n",
       "      <th>edad</th>\n",
       "      <th>edad_años_meses</th>\n",
       "      <th>residencia_pais_nombre</th>\n",
       "      <th>residencia_provincia_nombre</th>\n",
       "      <th>residencia_departamento_nombre</th>\n",
       "      <th>carga_provincia_nombre</th>\n",
       "      <th>fecha_inicio_sintomas</th>\n",
       "      <th>fecha_apertura</th>\n",
       "      <th>...</th>\n",
       "      <th>fecha_fallecimiento</th>\n",
       "      <th>asistencia_respiratoria_mecanica</th>\n",
       "      <th>carga_provincia_id</th>\n",
       "      <th>origen_financiamiento</th>\n",
       "      <th>clasificacion</th>\n",
       "      <th>clasificacion_resumen</th>\n",
       "      <th>residencia_provincia_id</th>\n",
       "      <th>fecha_diagnostico</th>\n",
       "      <th>residencia_departamento_id</th>\n",
       "      <th>ultima_actualizacion</th>\n",
       "    </tr>\n",
       "  </thead>\n",
       "  <tbody>\n",
       "    <tr>\n",
       "      <th>0</th>\n",
       "      <td>1000000</td>\n",
       "      <td>M</td>\n",
       "      <td>55.0</td>\n",
       "      <td>Años</td>\n",
       "      <td>Argentina</td>\n",
       "      <td>CABA</td>\n",
       "      <td>SIN ESPECIFICAR</td>\n",
       "      <td>Buenos Aires</td>\n",
       "      <td>NaN</td>\n",
       "      <td>2020-06-01</td>\n",
       "      <td>...</td>\n",
       "      <td>NaN</td>\n",
       "      <td>NO</td>\n",
       "      <td>6</td>\n",
       "      <td>Privado</td>\n",
       "      <td>Caso Descartado</td>\n",
       "      <td>Descartado</td>\n",
       "      <td>2</td>\n",
       "      <td>2020-06-09</td>\n",
       "      <td>0</td>\n",
       "      <td>2022-06-05</td>\n",
       "    </tr>\n",
       "    <tr>\n",
       "      <th>1</th>\n",
       "      <td>10000000</td>\n",
       "      <td>F</td>\n",
       "      <td>53.0</td>\n",
       "      <td>Años</td>\n",
       "      <td>Argentina</td>\n",
       "      <td>CABA</td>\n",
       "      <td>SIN ESPECIFICAR</td>\n",
       "      <td>CABA</td>\n",
       "      <td>NaN</td>\n",
       "      <td>2021-04-08</td>\n",
       "      <td>...</td>\n",
       "      <td>NaN</td>\n",
       "      <td>NO</td>\n",
       "      <td>2</td>\n",
       "      <td>Público</td>\n",
       "      <td>Caso Descartado</td>\n",
       "      <td>Descartado</td>\n",
       "      <td>2</td>\n",
       "      <td>2021-04-08</td>\n",
       "      <td>0</td>\n",
       "      <td>2022-06-05</td>\n",
       "    </tr>\n",
       "    <tr>\n",
       "      <th>2</th>\n",
       "      <td>10000001</td>\n",
       "      <td>F</td>\n",
       "      <td>23.0</td>\n",
       "      <td>Años</td>\n",
       "      <td>Argentina</td>\n",
       "      <td>Buenos Aires</td>\n",
       "      <td>Lomas de Zamora</td>\n",
       "      <td>Buenos Aires</td>\n",
       "      <td>2021-04-05</td>\n",
       "      <td>2021-04-08</td>\n",
       "      <td>...</td>\n",
       "      <td>NaN</td>\n",
       "      <td>NO</td>\n",
       "      <td>6</td>\n",
       "      <td>Público</td>\n",
       "      <td>Caso Descartado</td>\n",
       "      <td>Descartado</td>\n",
       "      <td>6</td>\n",
       "      <td>2021-04-08</td>\n",
       "      <td>490</td>\n",
       "      <td>2022-06-05</td>\n",
       "    </tr>\n",
       "    <tr>\n",
       "      <th>3</th>\n",
       "      <td>10000002</td>\n",
       "      <td>F</td>\n",
       "      <td>45.0</td>\n",
       "      <td>Años</td>\n",
       "      <td>Argentina</td>\n",
       "      <td>Buenos Aires</td>\n",
       "      <td>La Matanza</td>\n",
       "      <td>CABA</td>\n",
       "      <td>NaN</td>\n",
       "      <td>2021-04-08</td>\n",
       "      <td>...</td>\n",
       "      <td>NaN</td>\n",
       "      <td>NO</td>\n",
       "      <td>2</td>\n",
       "      <td>Público</td>\n",
       "      <td>Caso Descartado</td>\n",
       "      <td>Descartado</td>\n",
       "      <td>6</td>\n",
       "      <td>2021-04-06</td>\n",
       "      <td>427</td>\n",
       "      <td>2022-06-05</td>\n",
       "    </tr>\n",
       "    <tr>\n",
       "      <th>4</th>\n",
       "      <td>10000003</td>\n",
       "      <td>F</td>\n",
       "      <td>34.0</td>\n",
       "      <td>Años</td>\n",
       "      <td>Argentina</td>\n",
       "      <td>CABA</td>\n",
       "      <td>COMUNA 01</td>\n",
       "      <td>CABA</td>\n",
       "      <td>NaN</td>\n",
       "      <td>2021-04-08</td>\n",
       "      <td>...</td>\n",
       "      <td>NaN</td>\n",
       "      <td>NO</td>\n",
       "      <td>2</td>\n",
       "      <td>Público</td>\n",
       "      <td>Caso Descartado</td>\n",
       "      <td>Descartado</td>\n",
       "      <td>2</td>\n",
       "      <td>2021-04-08</td>\n",
       "      <td>1</td>\n",
       "      <td>2022-06-05</td>\n",
       "    </tr>\n",
       "  </tbody>\n",
       "</table>\n",
       "<p>5 rows × 25 columns</p>\n",
       "</div>"
      ],
      "text/plain": [
       "   id_evento_caso sexo  edad edad_años_meses residencia_pais_nombre  \\\n",
       "0         1000000    M  55.0            Años              Argentina   \n",
       "1        10000000    F  53.0            Años              Argentina   \n",
       "2        10000001    F  23.0            Años              Argentina   \n",
       "3        10000002    F  45.0            Años              Argentina   \n",
       "4        10000003    F  34.0            Años              Argentina   \n",
       "\n",
       "  residencia_provincia_nombre residencia_departamento_nombre  \\\n",
       "0                        CABA                SIN ESPECIFICAR   \n",
       "1                        CABA                SIN ESPECIFICAR   \n",
       "2                Buenos Aires                Lomas de Zamora   \n",
       "3                Buenos Aires                     La Matanza   \n",
       "4                        CABA                      COMUNA 01   \n",
       "\n",
       "  carga_provincia_nombre fecha_inicio_sintomas fecha_apertura  ...  \\\n",
       "0           Buenos Aires                   NaN     2020-06-01  ...   \n",
       "1                   CABA                   NaN     2021-04-08  ...   \n",
       "2           Buenos Aires            2021-04-05     2021-04-08  ...   \n",
       "3                   CABA                   NaN     2021-04-08  ...   \n",
       "4                   CABA                   NaN     2021-04-08  ...   \n",
       "\n",
       "   fecha_fallecimiento asistencia_respiratoria_mecanica carga_provincia_id  \\\n",
       "0                  NaN                               NO                  6   \n",
       "1                  NaN                               NO                  2   \n",
       "2                  NaN                               NO                  6   \n",
       "3                  NaN                               NO                  2   \n",
       "4                  NaN                               NO                  2   \n",
       "\n",
       "  origen_financiamiento    clasificacion clasificacion_resumen  \\\n",
       "0               Privado  Caso Descartado            Descartado   \n",
       "1               Público  Caso Descartado            Descartado   \n",
       "2               Público  Caso Descartado            Descartado   \n",
       "3               Público  Caso Descartado            Descartado   \n",
       "4               Público  Caso Descartado            Descartado   \n",
       "\n",
       "  residencia_provincia_id  fecha_diagnostico residencia_departamento_id  \\\n",
       "0                       2         2020-06-09                          0   \n",
       "1                       2         2021-04-08                          0   \n",
       "2                       6         2021-04-08                        490   \n",
       "3                       6         2021-04-06                        427   \n",
       "4                       2         2021-04-08                          1   \n",
       "\n",
       "  ultima_actualizacion  \n",
       "0           2022-06-05  \n",
       "1           2022-06-05  \n",
       "2           2022-06-05  \n",
       "3           2022-06-05  \n",
       "4           2022-06-05  \n",
       "\n",
       "[5 rows x 25 columns]"
      ]
     },
     "execution_count": 55,
     "metadata": {},
     "output_type": "execute_result"
    }
   ],
   "source": [
    "df_dw.head()"
   ]
  },
  {
   "cell_type": "code",
   "execution_count": 37,
   "metadata": {},
   "outputs": [
    {
     "data": {
      "text/plain": [
       "(100000, 25)"
      ]
     },
     "execution_count": 37,
     "metadata": {},
     "output_type": "execute_result"
    }
   ],
   "source": [
    "df_dw.shape"
   ]
  },
  {
   "cell_type": "code",
   "execution_count": 38,
   "metadata": {},
   "outputs": [
    {
     "name": "stdout",
     "output_type": "stream",
     "text": [
      "<class 'pandas.core.frame.DataFrame'>\n",
      "RangeIndex: 100000 entries, 0 to 99999\n",
      "Data columns (total 25 columns):\n",
      " #   Column                            Non-Null Count   Dtype  \n",
      "---  ------                            --------------   -----  \n",
      " 0   id_evento_caso                    100000 non-null  int64  \n",
      " 1   sexo                              100000 non-null  object \n",
      " 2   edad                              99970 non-null   float64\n",
      " 3   edad_años_meses                   100000 non-null  object \n",
      " 4   residencia_pais_nombre            100000 non-null  object \n",
      " 5   residencia_provincia_nombre       100000 non-null  object \n",
      " 6   residencia_departamento_nombre    100000 non-null  object \n",
      " 7   carga_provincia_nombre            100000 non-null  object \n",
      " 8   fecha_inicio_sintomas             36418 non-null   object \n",
      " 9   fecha_apertura                    100000 non-null  object \n",
      " 10  sepi_apertura                     100000 non-null  int64  \n",
      " 11  fecha_internacion                 2658 non-null    object \n",
      " 12  cuidado_intensivo                 100000 non-null  object \n",
      " 13  fecha_cui_intensivo               514 non-null     object \n",
      " 14  fallecido                         100000 non-null  object \n",
      " 15  fecha_fallecimiento               630 non-null     object \n",
      " 16  asistencia_respiratoria_mecanica  100000 non-null  object \n",
      " 17  carga_provincia_id                100000 non-null  int64  \n",
      " 18  origen_financiamiento             100000 non-null  object \n",
      " 19  clasificacion                     100000 non-null  object \n",
      " 20  clasificacion_resumen             100000 non-null  object \n",
      " 21  residencia_provincia_id           100000 non-null  int64  \n",
      " 22  fecha_diagnostico                 93689 non-null   object \n",
      " 23  residencia_departamento_id        100000 non-null  int64  \n",
      " 24  ultima_actualizacion              100000 non-null  object \n",
      "dtypes: float64(1), int64(5), object(19)\n",
      "memory usage: 19.1+ MB\n"
     ]
    }
   ],
   "source": [
    "df_dw.info()"
   ]
  },
  {
   "cell_type": "markdown",
   "metadata": {},
   "source": [
    "Se observan campos que poseen nulos, se verá que se hace en casa caso."
   ]
  },
  {
   "cell_type": "markdown",
   "metadata": {},
   "source": [
    "#### Duplicados"
   ]
  },
  {
   "cell_type": "code",
   "execution_count": 39,
   "metadata": {},
   "outputs": [
    {
     "data": {
      "text/plain": [
       "array([False])"
      ]
     },
     "execution_count": 39,
     "metadata": {},
     "output_type": "execute_result"
    }
   ],
   "source": [
    "df_dw.duplicated().unique()"
   ]
  },
  {
   "cell_type": "markdown",
   "metadata": {},
   "source": [
    "Se observa que no hay datos duplicados"
   ]
  },
  {
   "cell_type": "markdown",
   "metadata": {},
   "source": [
    "#### Nulos"
   ]
  },
  {
   "cell_type": "code",
   "execution_count": 40,
   "metadata": {},
   "outputs": [
    {
     "data": {
      "text/plain": [
       "fecha_cui_intensivo      99.486\n",
       "fecha_fallecimiento      99.370\n",
       "fecha_internacion        97.342\n",
       "fecha_inicio_sintomas    63.582\n",
       "fecha_diagnostico         6.311\n",
       "edad                      0.030\n",
       "dtype: float64"
      ]
     },
     "execution_count": 40,
     "metadata": {},
     "output_type": "execute_result"
    }
   ],
   "source": [
    "por_nulos = (df_dw.isnull().sum()/df_dw.shape[0])*100\n",
    "\n",
    "por_nulos = por_nulos.sort_values(ascending=False)\n",
    "\n",
    "por_nulos = por_nulos[por_nulos>0]\n",
    "\n",
    "por_nulos"
   ]
  },
  {
   "cell_type": "code",
   "execution_count": 41,
   "metadata": {},
   "outputs": [
    {
     "data": {
      "text/plain": [
       "<AxesSubplot:>"
      ]
     },
     "execution_count": 41,
     "metadata": {},
     "output_type": "execute_result"
    },
    {
     "data": {
      "image/png": "[encoded data removed]",
      "text/plain": [
       "<Figure size 720x432 with 1 Axes>"
      ]
     },
     "metadata": {},
     "output_type": "display_data"
    }
   ],
   "source": [
    "plt.figure(figsize=(10, 6))\n",
    "\n",
    "por_nulos.plot(kind='bar')"
   ]
  },
  {
   "cell_type": "code",
   "execution_count": 43,
   "metadata": {},
   "outputs": [
    {
     "data": {
      "text/plain": [
       "<AxesSubplot:>"
      ]
     },
     "execution_count": 43,
     "metadata": {},
     "output_type": "execute_result"
    },
    {
     "data": {
      "image/png": "[encoded data removed]",
      "text/plain": [
       "<Figure size 1800x720 with 2 Axes>"
      ]
     },
     "metadata": {},
     "output_type": "display_data"
    }
   ],
   "source": [
    "import missingno as msno\n",
    "\n",
    "msno.matrix(df_dw)"
   ]
  },
  {
   "cell_type": "code",
   "execution_count": 44,
   "metadata": {},
   "outputs": [
    {
     "data": {
      "text/plain": [
       "<AxesSubplot:>"
      ]
     },
     "execution_count": 44,
     "metadata": {},
     "output_type": "execute_result"
    },
    {
     "data": {
      "image/png": "[encoded data removed]",
      "text/plain": [
       "<Figure size 1440x864 with 2 Axes>"
      ]
     },
     "metadata": {},
     "output_type": "display_data"
    }
   ],
   "source": [
    "msno.heatmap(df_dw)"
   ]
  },
  {
   "cell_type": "markdown",
   "metadata": {},
   "source": [
    "#### Decisión: \n",
    "* Para la variable edad que posee pocos nulos se va a emplear alguna técnica de reemplazo. \n",
    "* Para el resto de las variables que poseen nulos se las elimina ya que poseen mas del 60 % de nulos. \n",
    "* Para el caso de fecha_diagnostico, no posee muchos nulos pero no es de importancia en el caso se la elimina."
   ]
  },
  {
   "cell_type": "code",
   "execution_count": 45,
   "metadata": {},
   "outputs": [
    {
     "data": {
      "text/plain": [
       "Index(['id_evento_caso', 'sexo', 'edad', 'edad_años_meses',\n",
       "       'residencia_pais_nombre', 'residencia_provincia_nombre',\n",
       "       'residencia_departamento_nombre', 'carga_provincia_nombre',\n",
       "       'fecha_apertura', 'sepi_apertura', 'cuidado_intensivo', 'fallecido',\n",
       "       'asistencia_respiratoria_mecanica', 'carga_provincia_id',\n",
       "       'origen_financiamiento', 'clasificacion', 'clasificacion_resumen',\n",
       "       'residencia_provincia_id', 'residencia_departamento_id',\n",
       "       'ultima_actualizacion'],\n",
       "      dtype='object')"
      ]
     },
     "execution_count": 45,
     "metadata": {},
     "output_type": "execute_result"
    }
   ],
   "source": [
    "# Columnas a borrar con muchos nulos\n",
    "col_del = ['fecha_cui_intensivo', 'fecha_fallecimiento', 'fecha_internacion', 'fecha_inicio_sintomas', 'fecha_diagnostico'] \n",
    "\n",
    "df_dw = df_dw.drop(labels=col_del, axis=1) # Borrando las columnas en col_del\n",
    "\n",
    "df_dw.columns "
   ]
  },
  {
   "cell_type": "code",
   "execution_count": 46,
   "metadata": {},
   "outputs": [
    {
     "data": {
      "text/plain": [
       "31.0     2523\n",
       "30.0     2516\n",
       "29.0     2484\n",
       "28.0     2411\n",
       "27.0     2393\n",
       "         ... \n",
       "122.0       2\n",
       "104.0       2\n",
       "100.0       2\n",
       "111.0       1\n",
       "102.0       1\n",
       "Name: edad, Length: 107, dtype: int64"
      ]
     },
     "execution_count": 46,
     "metadata": {},
     "output_type": "execute_result"
    }
   ],
   "source": [
    "df_dw.edad.value_counts()"
   ]
  },
  {
   "cell_type": "code",
   "execution_count": 47,
   "metadata": {},
   "outputs": [
    {
     "name": "stdout",
     "output_type": "stream",
     "text": [
      "<class 'pandas.core.frame.DataFrame'>\n",
      "RangeIndex: 100000 entries, 0 to 99999\n",
      "Data columns (total 20 columns):\n",
      " #   Column                            Non-Null Count   Dtype  \n",
      "---  ------                            --------------   -----  \n",
      " 0   id_evento_caso                    100000 non-null  int64  \n",
      " 1   sexo                              100000 non-null  object \n",
      " 2   edad                              100000 non-null  float64\n",
      " 3   edad_años_meses                   100000 non-null  object \n",
      " 4   residencia_pais_nombre            100000 non-null  object \n",
      " 5   residencia_provincia_nombre       100000 non-null  object \n",
      " 6   residencia_departamento_nombre    100000 non-null  object \n",
      " 7   carga_provincia_nombre            100000 non-null  object \n",
      " 8   fecha_apertura                    100000 non-null  object \n",
      " 9   sepi_apertura                     100000 non-null  int64  \n",
      " 10  cuidado_intensivo                 100000 non-null  object \n",
      " 11  fallecido                         100000 non-null  object \n",
      " 12  asistencia_respiratoria_mecanica  100000 non-null  object \n",
      " 13  carga_provincia_id                100000 non-null  int64  \n",
      " 14  origen_financiamiento             100000 non-null  object \n",
      " 15  clasificacion                     100000 non-null  object \n",
      " 16  clasificacion_resumen             100000 non-null  object \n",
      " 17  residencia_provincia_id           100000 non-null  int64  \n",
      " 18  residencia_departamento_id        100000 non-null  int64  \n",
      " 19  ultima_actualizacion              100000 non-null  object \n",
      "dtypes: float64(1), int64(5), object(14)\n",
      "memory usage: 15.3+ MB\n"
     ]
    }
   ],
   "source": [
    "# Columna con pocos nulos, se reemplaza por la mediana(ya que se observaron algunos outliers)\n",
    "df_dw['edad'] = df_dw['edad'].fillna(df_dw['edad'].median())\n",
    "\n",
    "df_dw.info()"
   ]
  },
  {
   "cell_type": "markdown",
   "metadata": {},
   "source": [
    "#### Outliers"
   ]
  },
  {
   "cell_type": "code",
   "execution_count": 48,
   "metadata": {},
   "outputs": [
    {
     "data": {
      "text/plain": [
       "Index(['id_evento_caso', 'edad', 'sepi_apertura', 'carga_provincia_id',\n",
       "       'residencia_provincia_id', 'residencia_departamento_id'],\n",
       "      dtype='object')"
      ]
     },
     "execution_count": 48,
     "metadata": {},
     "output_type": "execute_result"
    }
   ],
   "source": [
    "numericos = ['int16', 'int32', 'int64', 'float16', 'float32', 'float64']\n",
    "\n",
    "col_num = df_dw.select_dtypes(include=numericos)\n",
    "\n",
    "col_num.columns"
   ]
  },
  {
   "cell_type": "code",
   "execution_count": 49,
   "metadata": {},
   "outputs": [],
   "source": [
    "col_num = col_num.drop('id_evento_caso', axis=1)"
   ]
  },
  {
   "cell_type": "code",
   "execution_count": 50,
   "metadata": {},
   "outputs": [
    {
     "data": {
      "text/plain": [
       "<AxesSubplot:>"
      ]
     },
     "execution_count": 50,
     "metadata": {},
     "output_type": "execute_result"
    },
    {
     "data": {
      "image/png": "[encoded data removed]",
      "text/plain": [
       "<Figure size 864x432 with 1 Axes>"
      ]
     },
     "metadata": {},
     "output_type": "display_data"
    }
   ],
   "source": [
    "# Con atípicos \n",
    "plt.figure(figsize=(12, 6))\n",
    "\n",
    "sns.boxplot(data=col_num)"
   ]
  },
  {
   "cell_type": "code",
   "execution_count": 51,
   "metadata": {},
   "outputs": [
    {
     "data": {
      "text/plain": [
       "<AxesSubplot:>"
      ]
     },
     "execution_count": 51,
     "metadata": {},
     "output_type": "execute_result"
    },
    {
     "data": {
      "image/png": "[encoded data removed]",
      "text/plain": [
       "<Figure size 864x432 with 1 Axes>"
      ]
     },
     "metadata": {},
     "output_type": "display_data"
    }
   ],
   "source": [
    "# Sin atípicos \n",
    "plt.figure(figsize=(12, 6))\n",
    "\n",
    "sns.boxplot(data=col_num, showfliers=False)"
   ]
  },
  {
   "cell_type": "markdown",
   "metadata": {},
   "source": [
    "Hay problemas con la escale pero es posible visualizar que hay outliers, por ello se los va a tratar"
   ]
  },
  {
   "cell_type": "code",
   "execution_count": 52,
   "metadata": {},
   "outputs": [],
   "source": [
    "def imputar_outliers_IQR(df):\n",
    "    q1 = df.quantile(0.25)\n",
    "    q3 = df.quantile(0.75)\n",
    "    IQR = q3-q1\n",
    "    upper = df[~(df>(q3+1.5*IQR))].max()\n",
    "    lower = df[~(df<(q1-1.5*IQR))].min()\n",
    "    df = np.where(df > upper, # Si el valor es mayor al q3\n",
    "                 df.median(), # Reemplazar por la media\n",
    "                 np.where(df < lower, # En caso contrario si es menor que el lower limit\n",
    "                          df.median(), # tambien reemplazar por la media\n",
    "                          df) # Si ninguna de las dos cosas anteriores ocurre dejar el dato\n",
    "                 )\n",
    "    return df"
   ]
  },
  {
   "cell_type": "code",
   "execution_count": 53,
   "metadata": {},
   "outputs": [
    {
     "data": {
      "text/html": [
       "<div>\n",
       "<style scoped>\n",
       "    .dataframe tbody tr th:only-of-type {\n",
       "        vertical-align: middle;\n",
       "    }\n",
       "\n",
       "    .dataframe tbody tr th {\n",
       "        vertical-align: top;\n",
       "    }\n",
       "\n",
       "    .dataframe thead th {\n",
       "        text-align: right;\n",
       "    }\n",
       "</style>\n",
       "<table border=\"1\" class=\"dataframe\">\n",
       "  <thead>\n",
       "    <tr style=\"text-align: right;\">\n",
       "      <th></th>\n",
       "      <th>id_evento_caso</th>\n",
       "      <th>sexo</th>\n",
       "      <th>edad</th>\n",
       "      <th>edad_años_meses</th>\n",
       "      <th>residencia_pais_nombre</th>\n",
       "      <th>residencia_provincia_nombre</th>\n",
       "      <th>residencia_departamento_nombre</th>\n",
       "      <th>carga_provincia_nombre</th>\n",
       "      <th>fecha_apertura</th>\n",
       "      <th>sepi_apertura</th>\n",
       "      <th>cuidado_intensivo</th>\n",
       "      <th>fallecido</th>\n",
       "      <th>asistencia_respiratoria_mecanica</th>\n",
       "      <th>carga_provincia_id</th>\n",
       "      <th>origen_financiamiento</th>\n",
       "      <th>clasificacion</th>\n",
       "      <th>clasificacion_resumen</th>\n",
       "      <th>residencia_provincia_id</th>\n",
       "      <th>residencia_departamento_id</th>\n",
       "      <th>ultima_actualizacion</th>\n",
       "    </tr>\n",
       "  </thead>\n",
       "  <tbody>\n",
       "    <tr>\n",
       "      <th>0</th>\n",
       "      <td>1000000</td>\n",
       "      <td>M</td>\n",
       "      <td>55.0</td>\n",
       "      <td>Años</td>\n",
       "      <td>Argentina</td>\n",
       "      <td>CABA</td>\n",
       "      <td>SIN ESPECIFICAR</td>\n",
       "      <td>Buenos Aires</td>\n",
       "      <td>2020-06-01</td>\n",
       "      <td>14.0</td>\n",
       "      <td>NO</td>\n",
       "      <td>NO</td>\n",
       "      <td>NO</td>\n",
       "      <td>6.0</td>\n",
       "      <td>Privado</td>\n",
       "      <td>Caso Descartado</td>\n",
       "      <td>Descartado</td>\n",
       "      <td>2.0</td>\n",
       "      <td>0.0</td>\n",
       "      <td>2022-06-05</td>\n",
       "    </tr>\n",
       "    <tr>\n",
       "      <th>1</th>\n",
       "      <td>10000000</td>\n",
       "      <td>F</td>\n",
       "      <td>53.0</td>\n",
       "      <td>Años</td>\n",
       "      <td>Argentina</td>\n",
       "      <td>CABA</td>\n",
       "      <td>SIN ESPECIFICAR</td>\n",
       "      <td>CABA</td>\n",
       "      <td>2021-04-08</td>\n",
       "      <td>14.0</td>\n",
       "      <td>NO</td>\n",
       "      <td>NO</td>\n",
       "      <td>NO</td>\n",
       "      <td>2.0</td>\n",
       "      <td>Público</td>\n",
       "      <td>Caso Descartado</td>\n",
       "      <td>Descartado</td>\n",
       "      <td>2.0</td>\n",
       "      <td>0.0</td>\n",
       "      <td>2022-06-05</td>\n",
       "    </tr>\n",
       "    <tr>\n",
       "      <th>2</th>\n",
       "      <td>10000001</td>\n",
       "      <td>F</td>\n",
       "      <td>23.0</td>\n",
       "      <td>Años</td>\n",
       "      <td>Argentina</td>\n",
       "      <td>Buenos Aires</td>\n",
       "      <td>Lomas de Zamora</td>\n",
       "      <td>Buenos Aires</td>\n",
       "      <td>2021-04-08</td>\n",
       "      <td>14.0</td>\n",
       "      <td>NO</td>\n",
       "      <td>NO</td>\n",
       "      <td>NO</td>\n",
       "      <td>6.0</td>\n",
       "      <td>Público</td>\n",
       "      <td>Caso Descartado</td>\n",
       "      <td>Descartado</td>\n",
       "      <td>6.0</td>\n",
       "      <td>490.0</td>\n",
       "      <td>2022-06-05</td>\n",
       "    </tr>\n",
       "    <tr>\n",
       "      <th>3</th>\n",
       "      <td>10000002</td>\n",
       "      <td>F</td>\n",
       "      <td>45.0</td>\n",
       "      <td>Años</td>\n",
       "      <td>Argentina</td>\n",
       "      <td>Buenos Aires</td>\n",
       "      <td>La Matanza</td>\n",
       "      <td>CABA</td>\n",
       "      <td>2021-04-08</td>\n",
       "      <td>14.0</td>\n",
       "      <td>NO</td>\n",
       "      <td>NO</td>\n",
       "      <td>NO</td>\n",
       "      <td>2.0</td>\n",
       "      <td>Público</td>\n",
       "      <td>Caso Descartado</td>\n",
       "      <td>Descartado</td>\n",
       "      <td>6.0</td>\n",
       "      <td>427.0</td>\n",
       "      <td>2022-06-05</td>\n",
       "    </tr>\n",
       "    <tr>\n",
       "      <th>4</th>\n",
       "      <td>10000003</td>\n",
       "      <td>F</td>\n",
       "      <td>34.0</td>\n",
       "      <td>Años</td>\n",
       "      <td>Argentina</td>\n",
       "      <td>CABA</td>\n",
       "      <td>COMUNA 01</td>\n",
       "      <td>CABA</td>\n",
       "      <td>2021-04-08</td>\n",
       "      <td>14.0</td>\n",
       "      <td>NO</td>\n",
       "      <td>NO</td>\n",
       "      <td>NO</td>\n",
       "      <td>2.0</td>\n",
       "      <td>Público</td>\n",
       "      <td>Caso Descartado</td>\n",
       "      <td>Descartado</td>\n",
       "      <td>2.0</td>\n",
       "      <td>1.0</td>\n",
       "      <td>2022-06-05</td>\n",
       "    </tr>\n",
       "    <tr>\n",
       "      <th>...</th>\n",
       "      <td>...</td>\n",
       "      <td>...</td>\n",
       "      <td>...</td>\n",
       "      <td>...</td>\n",
       "      <td>...</td>\n",
       "      <td>...</td>\n",
       "      <td>...</td>\n",
       "      <td>...</td>\n",
       "      <td>...</td>\n",
       "      <td>...</td>\n",
       "      <td>...</td>\n",
       "      <td>...</td>\n",
       "      <td>...</td>\n",
       "      <td>...</td>\n",
       "      <td>...</td>\n",
       "      <td>...</td>\n",
       "      <td>...</td>\n",
       "      <td>...</td>\n",
       "      <td>...</td>\n",
       "      <td>...</td>\n",
       "    </tr>\n",
       "    <tr>\n",
       "      <th>99995</th>\n",
       "      <td>10097151</td>\n",
       "      <td>F</td>\n",
       "      <td>14.0</td>\n",
       "      <td>Años</td>\n",
       "      <td>Argentina</td>\n",
       "      <td>Chaco</td>\n",
       "      <td>Almirante Brown</td>\n",
       "      <td>Chaco</td>\n",
       "      <td>2021-04-09</td>\n",
       "      <td>14.0</td>\n",
       "      <td>NO</td>\n",
       "      <td>NO</td>\n",
       "      <td>NO</td>\n",
       "      <td>22.0</td>\n",
       "      <td>Público</td>\n",
       "      <td>Caso confirmado por laboratorio - No activo (p...</td>\n",
       "      <td>Confirmado</td>\n",
       "      <td>22.0</td>\n",
       "      <td>7.0</td>\n",
       "      <td>2022-06-05</td>\n",
       "    </tr>\n",
       "    <tr>\n",
       "      <th>99996</th>\n",
       "      <td>10097152</td>\n",
       "      <td>F</td>\n",
       "      <td>38.0</td>\n",
       "      <td>Años</td>\n",
       "      <td>Argentina</td>\n",
       "      <td>Mendoza</td>\n",
       "      <td>San Rafael</td>\n",
       "      <td>Mendoza</td>\n",
       "      <td>2021-04-09</td>\n",
       "      <td>14.0</td>\n",
       "      <td>NO</td>\n",
       "      <td>NO</td>\n",
       "      <td>NO</td>\n",
       "      <td>50.0</td>\n",
       "      <td>Privado</td>\n",
       "      <td>Caso Descartado</td>\n",
       "      <td>Descartado</td>\n",
       "      <td>50.0</td>\n",
       "      <td>105.0</td>\n",
       "      <td>2022-06-05</td>\n",
       "    </tr>\n",
       "    <tr>\n",
       "      <th>99997</th>\n",
       "      <td>10097153</td>\n",
       "      <td>M</td>\n",
       "      <td>30.0</td>\n",
       "      <td>Años</td>\n",
       "      <td>Argentina</td>\n",
       "      <td>Buenos Aires</td>\n",
       "      <td>Quilmes</td>\n",
       "      <td>Buenos Aires</td>\n",
       "      <td>2021-04-09</td>\n",
       "      <td>14.0</td>\n",
       "      <td>NO</td>\n",
       "      <td>NO</td>\n",
       "      <td>NO</td>\n",
       "      <td>6.0</td>\n",
       "      <td>Público</td>\n",
       "      <td>Caso Descartado</td>\n",
       "      <td>Descartado</td>\n",
       "      <td>6.0</td>\n",
       "      <td>658.0</td>\n",
       "      <td>2022-06-05</td>\n",
       "    </tr>\n",
       "    <tr>\n",
       "      <th>99998</th>\n",
       "      <td>10097154</td>\n",
       "      <td>M</td>\n",
       "      <td>31.0</td>\n",
       "      <td>Años</td>\n",
       "      <td>Argentina</td>\n",
       "      <td>Buenos Aires</td>\n",
       "      <td>Lanús</td>\n",
       "      <td>Buenos Aires</td>\n",
       "      <td>2021-04-09</td>\n",
       "      <td>14.0</td>\n",
       "      <td>NO</td>\n",
       "      <td>NO</td>\n",
       "      <td>NO</td>\n",
       "      <td>6.0</td>\n",
       "      <td>Privado</td>\n",
       "      <td>Caso sospechoso - No Activo - Con muestra sin ...</td>\n",
       "      <td>Sospechoso</td>\n",
       "      <td>6.0</td>\n",
       "      <td>434.0</td>\n",
       "      <td>2022-06-05</td>\n",
       "    </tr>\n",
       "    <tr>\n",
       "      <th>99999</th>\n",
       "      <td>10097155</td>\n",
       "      <td>M</td>\n",
       "      <td>16.0</td>\n",
       "      <td>Años</td>\n",
       "      <td>SIN ESPECIFICAR</td>\n",
       "      <td>San Juan</td>\n",
       "      <td>Rivadavia</td>\n",
       "      <td>San Juan</td>\n",
       "      <td>2021-04-09</td>\n",
       "      <td>14.0</td>\n",
       "      <td>NO</td>\n",
       "      <td>NO</td>\n",
       "      <td>NO</td>\n",
       "      <td>70.0</td>\n",
       "      <td>Público</td>\n",
       "      <td>Caso Descartado</td>\n",
       "      <td>Descartado</td>\n",
       "      <td>70.0</td>\n",
       "      <td>84.0</td>\n",
       "      <td>2022-06-05</td>\n",
       "    </tr>\n",
       "  </tbody>\n",
       "</table>\n",
       "<p>100000 rows × 20 columns</p>\n",
       "</div>"
      ],
      "text/plain": [
       "       id_evento_caso sexo  edad edad_años_meses residencia_pais_nombre  \\\n",
       "0             1000000    M  55.0            Años              Argentina   \n",
       "1            10000000    F  53.0            Años              Argentina   \n",
       "2            10000001    F  23.0            Años              Argentina   \n",
       "3            10000002    F  45.0            Años              Argentina   \n",
       "4            10000003    F  34.0            Años              Argentina   \n",
       "...               ...  ...   ...             ...                    ...   \n",
       "99995        10097151    F  14.0            Años              Argentina   \n",
       "99996        10097152    F  38.0            Años              Argentina   \n",
       "99997        10097153    M  30.0            Años              Argentina   \n",
       "99998        10097154    M  31.0            Años              Argentina   \n",
       "99999        10097155    M  16.0            Años        SIN ESPECIFICAR   \n",
       "\n",
       "      residencia_provincia_nombre residencia_departamento_nombre  \\\n",
       "0                            CABA                SIN ESPECIFICAR   \n",
       "1                            CABA                SIN ESPECIFICAR   \n",
       "2                    Buenos Aires                Lomas de Zamora   \n",
       "3                    Buenos Aires                     La Matanza   \n",
       "4                            CABA                      COMUNA 01   \n",
       "...                           ...                            ...   \n",
       "99995                       Chaco                Almirante Brown   \n",
       "99996                     Mendoza                     San Rafael   \n",
       "99997                Buenos Aires                        Quilmes   \n",
       "99998                Buenos Aires                          Lanús   \n",
       "99999                    San Juan                      Rivadavia   \n",
       "\n",
       "      carga_provincia_nombre fecha_apertura  sepi_apertura cuidado_intensivo  \\\n",
       "0               Buenos Aires     2020-06-01           14.0                NO   \n",
       "1                       CABA     2021-04-08           14.0                NO   \n",
       "2               Buenos Aires     2021-04-08           14.0                NO   \n",
       "3                       CABA     2021-04-08           14.0                NO   \n",
       "4                       CABA     2021-04-08           14.0                NO   \n",
       "...                      ...            ...            ...               ...   \n",
       "99995                  Chaco     2021-04-09           14.0                NO   \n",
       "99996                Mendoza     2021-04-09           14.0                NO   \n",
       "99997           Buenos Aires     2021-04-09           14.0                NO   \n",
       "99998           Buenos Aires     2021-04-09           14.0                NO   \n",
       "99999               San Juan     2021-04-09           14.0                NO   \n",
       "\n",
       "      fallecido asistencia_respiratoria_mecanica  carga_provincia_id  \\\n",
       "0            NO                               NO                 6.0   \n",
       "1            NO                               NO                 2.0   \n",
       "2            NO                               NO                 6.0   \n",
       "3            NO                               NO                 2.0   \n",
       "4            NO                               NO                 2.0   \n",
       "...         ...                              ...                 ...   \n",
       "99995        NO                               NO                22.0   \n",
       "99996        NO                               NO                50.0   \n",
       "99997        NO                               NO                 6.0   \n",
       "99998        NO                               NO                 6.0   \n",
       "99999        NO                               NO                70.0   \n",
       "\n",
       "      origen_financiamiento  \\\n",
       "0                   Privado   \n",
       "1                   Público   \n",
       "2                   Público   \n",
       "3                   Público   \n",
       "4                   Público   \n",
       "...                     ...   \n",
       "99995               Público   \n",
       "99996               Privado   \n",
       "99997               Público   \n",
       "99998               Privado   \n",
       "99999               Público   \n",
       "\n",
       "                                           clasificacion  \\\n",
       "0                                        Caso Descartado   \n",
       "1                                        Caso Descartado   \n",
       "2                                        Caso Descartado   \n",
       "3                                        Caso Descartado   \n",
       "4                                        Caso Descartado   \n",
       "...                                                  ...   \n",
       "99995  Caso confirmado por laboratorio - No activo (p...   \n",
       "99996                                    Caso Descartado   \n",
       "99997                                    Caso Descartado   \n",
       "99998  Caso sospechoso - No Activo - Con muestra sin ...   \n",
       "99999                                    Caso Descartado   \n",
       "\n",
       "      clasificacion_resumen  residencia_provincia_id  \\\n",
       "0                Descartado                      2.0   \n",
       "1                Descartado                      2.0   \n",
       "2                Descartado                      6.0   \n",
       "3                Descartado                      6.0   \n",
       "4                Descartado                      2.0   \n",
       "...                     ...                      ...   \n",
       "99995            Confirmado                     22.0   \n",
       "99996            Descartado                     50.0   \n",
       "99997            Descartado                      6.0   \n",
       "99998            Sospechoso                      6.0   \n",
       "99999            Descartado                     70.0   \n",
       "\n",
       "       residencia_departamento_id ultima_actualizacion  \n",
       "0                             0.0           2022-06-05  \n",
       "1                             0.0           2022-06-05  \n",
       "2                           490.0           2022-06-05  \n",
       "3                           427.0           2022-06-05  \n",
       "4                             1.0           2022-06-05  \n",
       "...                           ...                  ...  \n",
       "99995                         7.0           2022-06-05  \n",
       "99996                       105.0           2022-06-05  \n",
       "99997                       658.0           2022-06-05  \n",
       "99998                       434.0           2022-06-05  \n",
       "99999                        84.0           2022-06-05  \n",
       "\n",
       "[100000 rows x 20 columns]"
      ]
     },
     "execution_count": 53,
     "metadata": {},
     "output_type": "execute_result"
    }
   ],
   "source": [
    "columnas = col_num.columns\n",
    "\n",
    "df_dw[columnas] = imputar_outliers_IQR(df_dw[columnas])\n",
    "\n",
    "df_dw"
   ]
  },
  {
   "cell_type": "markdown",
   "metadata": {},
   "source": [
    "#### Con la limpieza de nulos, repetidos, y atípicos se pudo dejar un dataset mas limpio."
   ]
  }
 ],
 "metadata": {
  "colab": {
   "collapsed_sections": [],
   "name": "ProyectoDS Parte III Bivanco Walter.ipynb",
   "provenance": []
  },
  "kernelspec": {
   "display_name": "Python 3 (ipykernel)",
   "language": "python",
   "name": "python3"
  },
  "language_info": {
   "codemirror_mode": {
    "name": "ipython",
    "version": 3
   },
   "file_extension": ".py",
   "mimetype": "text/x-python",
   "name": "python",
   "nbconvert_exporter": "python",
   "pygments_lexer": "ipython3",
   "version": "3.9.7"
  }
 },
 "nbformat": 4,
 "nbformat_minor": 1
}
